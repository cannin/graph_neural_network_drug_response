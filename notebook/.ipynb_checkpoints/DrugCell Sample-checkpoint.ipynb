{
 "cells": [
  {
   "cell_type": "code",
   "execution_count": 14,
   "metadata": {},
   "outputs": [],
   "source": [
    "import os\n",
    "import pandas as pd\n",
    "import numpy as np\n",
    "\n",
    "os.chdir('/home/inoue019/code/DrugCell')"
   ]
  },
  {
   "cell_type": "code",
   "execution_count": 15,
   "metadata": {},
   "outputs": [],
   "source": [
    "# !wget http://drugcell.ucsd.edu/downloads/drugcell_v1.pt\n",
    "# !mv drugcell_v1.pt pretrained_model/"
   ]
  },
  {
   "cell_type": "markdown",
   "metadata": {},
   "source": [
    "# Original Implementation"
   ]
  },
  {
   "cell_type": "code",
   "execution_count": 16,
   "metadata": {},
   "outputs": [
    {
     "name": "stdout",
     "output_type": "stream",
     "text": [
      "\u001b[0m\u001b[01;32mcell2ind.txt\u001b[0m*         \u001b[01;32mdrug2ind.txt\u001b[0m*      drugcell_train.txt  out.txt   test.txt\r\n",
      "cell2mutation.txt     drugcell_ont.txt   drugcell_val.txt    out_.txt  ttt.txt\r\n",
      "drug2fingerprint.txt  drugcell_test.txt  \u001b[01;32mgene2ind.txt\u001b[0m*       test.csv  t.txt\r\n"
     ]
    }
   ],
   "source": [
    "ls data"
   ]
  },
  {
   "cell_type": "code",
   "execution_count": 31,
   "metadata": {},
   "outputs": [],
   "source": [
    "t = pd.read_table('./data/drugcell_train.txt', header=None)\n",
    "t[1] = ['C1CC(=O)NC(=O)C1N2C(=O)C3=CC=CC=C3C2=O']*len(t)"
   ]
  },
  {
   "cell_type": "code",
   "execution_count": 41,
   "metadata": {},
   "outputs": [],
   "source": [
    "t.to_csv('./data/ttt.txt', sep='\\t', header=None, index=None)"
   ]
  },
  {
   "cell_type": "code",
   "execution_count": 43,
   "metadata": {},
   "outputs": [
    {
     "data": {
      "text/html": [
       "<div>\n",
       "<style scoped>\n",
       "    .dataframe tbody tr th:only-of-type {\n",
       "        vertical-align: middle;\n",
       "    }\n",
       "\n",
       "    .dataframe tbody tr th {\n",
       "        vertical-align: top;\n",
       "    }\n",
       "\n",
       "    .dataframe thead th {\n",
       "        text-align: right;\n",
       "    }\n",
       "</style>\n",
       "<table border=\"1\" class=\"dataframe\">\n",
       "  <thead>\n",
       "    <tr style=\"text-align: right;\">\n",
       "      <th></th>\n",
       "      <th>KYSE450_OESOPHAGUS</th>\n",
       "      <th>C1CC(=O)NC(=O)C1N2C(=O)C3=CC=CC=C3C2=O</th>\n",
       "      <th>1.00658717246964</th>\n",
       "    </tr>\n",
       "  </thead>\n",
       "  <tbody>\n",
       "    <tr>\n",
       "      <th>0</th>\n",
       "      <td>SUDHL1_HAEMATOPOIETIC_AND_LYMPHOID_TISSUE</td>\n",
       "      <td>C1CC(=O)NC(=O)C1N2C(=O)C3=CC=CC=C3C2=O</td>\n",
       "      <td>0.705210</td>\n",
       "    </tr>\n",
       "    <tr>\n",
       "      <th>1</th>\n",
       "      <td>OCIAML3_HAEMATOPOIETIC_AND_LYMPHOID_TISSUE</td>\n",
       "      <td>C1CC(=O)NC(=O)C1N2C(=O)C3=CC=CC=C3C2=O</td>\n",
       "      <td>0.885490</td>\n",
       "    </tr>\n",
       "    <tr>\n",
       "      <th>2</th>\n",
       "      <td>SCC9_UPPER_AERODIGESTIVE_TRACT</td>\n",
       "      <td>C1CC(=O)NC(=O)C1N2C(=O)C3=CC=CC=C3C2=O</td>\n",
       "      <td>0.955772</td>\n",
       "    </tr>\n",
       "    <tr>\n",
       "      <th>3</th>\n",
       "      <td>SNU489_CENTRAL_NERVOUS_SYSTEM</td>\n",
       "      <td>C1CC(=O)NC(=O)C1N2C(=O)C3=CC=CC=C3C2=O</td>\n",
       "      <td>1.012310</td>\n",
       "    </tr>\n",
       "    <tr>\n",
       "      <th>4</th>\n",
       "      <td>MHHCALL3_HAEMATOPOIETIC_AND_LYMPHOID_TISSUE</td>\n",
       "      <td>C1CC(=O)NC(=O)C1N2C(=O)C3=CC=CC=C3C2=O</td>\n",
       "      <td>0.873092</td>\n",
       "    </tr>\n",
       "    <tr>\n",
       "      <th>...</th>\n",
       "      <td>...</td>\n",
       "      <td>...</td>\n",
       "      <td>...</td>\n",
       "    </tr>\n",
       "    <tr>\n",
       "      <th>9994</th>\n",
       "      <td>MC116_HAEMATOPOIETIC_AND_LYMPHOID_TISSUE</td>\n",
       "      <td>C1CC(=O)NC(=O)C1N2C(=O)C3=CC=CC=C3C2=O</td>\n",
       "      <td>0.965572</td>\n",
       "    </tr>\n",
       "    <tr>\n",
       "      <th>9995</th>\n",
       "      <td>LS123_LARGE_INTESTINE</td>\n",
       "      <td>C1CC(=O)NC(=O)C1N2C(=O)C3=CC=CC=C3C2=O</td>\n",
       "      <td>0.777269</td>\n",
       "    </tr>\n",
       "    <tr>\n",
       "      <th>9996</th>\n",
       "      <td>BE13_HAEMATOPOIETIC_AND_LYMPHOID_TISSUE</td>\n",
       "      <td>C1CC(=O)NC(=O)C1N2C(=O)C3=CC=CC=C3C2=O</td>\n",
       "      <td>0.924181</td>\n",
       "    </tr>\n",
       "    <tr>\n",
       "      <th>9997</th>\n",
       "      <td>KMH2_HAEMATOPOIETIC_AND_LYMPHOID_TISSUE</td>\n",
       "      <td>C1CC(=O)NC(=O)C1N2C(=O)C3=CC=CC=C3C2=O</td>\n",
       "      <td>0.953433</td>\n",
       "    </tr>\n",
       "    <tr>\n",
       "      <th>9998</th>\n",
       "      <td>HS944T_SKIN</td>\n",
       "      <td>C1CC(=O)NC(=O)C1N2C(=O)C3=CC=CC=C3C2=O</td>\n",
       "      <td>0.854352</td>\n",
       "    </tr>\n",
       "  </tbody>\n",
       "</table>\n",
       "<p>9999 rows × 3 columns</p>\n",
       "</div>"
      ],
      "text/plain": [
       "                               KYSE450_OESOPHAGUS  \\\n",
       "0       SUDHL1_HAEMATOPOIETIC_AND_LYMPHOID_TISSUE   \n",
       "1      OCIAML3_HAEMATOPOIETIC_AND_LYMPHOID_TISSUE   \n",
       "2                  SCC9_UPPER_AERODIGESTIVE_TRACT   \n",
       "3                   SNU489_CENTRAL_NERVOUS_SYSTEM   \n",
       "4     MHHCALL3_HAEMATOPOIETIC_AND_LYMPHOID_TISSUE   \n",
       "...                                           ...   \n",
       "9994     MC116_HAEMATOPOIETIC_AND_LYMPHOID_TISSUE   \n",
       "9995                        LS123_LARGE_INTESTINE   \n",
       "9996      BE13_HAEMATOPOIETIC_AND_LYMPHOID_TISSUE   \n",
       "9997      KMH2_HAEMATOPOIETIC_AND_LYMPHOID_TISSUE   \n",
       "9998                                  HS944T_SKIN   \n",
       "\n",
       "      C1CC(=O)NC(=O)C1N2C(=O)C3=CC=CC=C3C2=O  1.00658717246964  \n",
       "0     C1CC(=O)NC(=O)C1N2C(=O)C3=CC=CC=C3C2=O          0.705210  \n",
       "1     C1CC(=O)NC(=O)C1N2C(=O)C3=CC=CC=C3C2=O          0.885490  \n",
       "2     C1CC(=O)NC(=O)C1N2C(=O)C3=CC=CC=C3C2=O          0.955772  \n",
       "3     C1CC(=O)NC(=O)C1N2C(=O)C3=CC=CC=C3C2=O          1.012310  \n",
       "4     C1CC(=O)NC(=O)C1N2C(=O)C3=CC=CC=C3C2=O          0.873092  \n",
       "...                                      ...               ...  \n",
       "9994  C1CC(=O)NC(=O)C1N2C(=O)C3=CC=CC=C3C2=O          0.965572  \n",
       "9995  C1CC(=O)NC(=O)C1N2C(=O)C3=CC=CC=C3C2=O          0.777269  \n",
       "9996  C1CC(=O)NC(=O)C1N2C(=O)C3=CC=CC=C3C2=O          0.924181  \n",
       "9997  C1CC(=O)NC(=O)C1N2C(=O)C3=CC=CC=C3C2=O          0.953433  \n",
       "9998  C1CC(=O)NC(=O)C1N2C(=O)C3=CC=CC=C3C2=O          0.854352  \n",
       "\n",
       "[9999 rows x 3 columns]"
      ]
     },
     "execution_count": 43,
     "metadata": {},
     "output_type": "execute_result"
    }
   ],
   "source": [
    "pd.read_csv('./data/ttt.txt', sep='\\t')"
   ]
  },
  {
   "cell_type": "code",
   "execution_count": null,
   "metadata": {},
   "outputs": [],
   "source": [
    "pd.read_csv('./data/drugcell_train.txt', sep='\\t', header=None)"
   ]
  },
  {
   "cell_type": "code",
   "execution_count": 44,
   "metadata": {
    "scrolled": true
   },
   "outputs": [
    {
     "name": "stdout",
     "output_type": "stream",
     "text": [
      "Total number of cell lines = 1225\n",
      "Total number of drugs = 684\n",
      "printing drug features\n",
      "[[0. 1. 1. ... 0. 0. 0.]\n",
      " [0. 0. 0. ... 0. 0. 0.]\n",
      " [0. 0. 0. ... 0. 0. 0.]\n",
      " ...\n",
      " [0. 0. 0. ... 0. 0. 0.]\n",
      " [0. 0. 0. ... 0. 0. 0.]\n",
      " [0. 0. 0. ... 0. 0. 0.]]\n",
      "/export/scratch/inoue019/envs/gpu/lib/python3.9/site-packages/torch/serialization.py:671: SourceChangeWarning: source code of class 'drugcell_NN.drugcell_nn' has changed. you can retrieve the original source code by accessing the object's source attribute or set `torch.nn.Module.dump_patches = True` and use the patch tool to revert the changes.\n",
      "  warnings.warn(msg, SourceChangeWarning)\n",
      "/export/scratch/inoue019/envs/gpu/lib/python3.9/site-packages/torch/serialization.py:671: SourceChangeWarning: source code of class 'torch.nn.modules.linear.Linear' has changed. you can retrieve the original source code by accessing the object's source attribute or set `torch.nn.Module.dump_patches = True` and use the patch tool to revert the changes.\n",
      "  warnings.warn(msg, SourceChangeWarning)\n",
      "/export/scratch/inoue019/envs/gpu/lib/python3.9/site-packages/torch/serialization.py:671: SourceChangeWarning: source code of class 'torch.nn.modules.batchnorm.BatchNorm1d' has changed. you can retrieve the original source code by accessing the object's source attribute or set `torch.nn.Module.dump_patches = True` and use the patch tool to revert the changes.\n",
      "  warnings.warn(msg, SourceChangeWarning)\n",
      "Test pearson corr\tGO:0008150\t0.187231\n"
     ]
    }
   ],
   "source": [
    "!rm -rf Result_sample && mkdir Result_sample \n",
    "!rm -rf Hidden_sample/ && mkdir Hidden_sample\n",
    "\n",
    "!python code/predict_drugcell_cpu.py \\\n",
    "            -gene2id data/gene2ind.txt \\\n",
    "            -cell2id data/cell2ind.txt \\\n",
    "            -drug2id data/drug2ind.txt \\\n",
    "            -genotype data/cell2mutation.txt \\\n",
    "            -fingerprint data/drug2fingerprint.txt \\\n",
    "            -hidden Hidden_sample \\\n",
    "            -result Result_sample \\\n",
    "            -load pretrained_model/drugcell_v1.pt \\\n",
    "            -predict data/ttt.txt"
   ]
  },
  {
   "cell_type": "code",
   "execution_count": null,
   "metadata": {},
   "outputs": [],
   "source": []
  },
  {
   "cell_type": "code",
   "execution_count": 8,
   "metadata": {},
   "outputs": [
    {
     "name": "stdout",
     "output_type": "stream",
     "text": [
      "Traceback (most recent call last):\r\n",
      "  File \"/home/inoue019/code/DrugCell/code/predict_drugcell_cpu.py\", line 80, in <module>\r\n",
      "    predict_data, cell2id_mapping, drug2id_mapping = prepare_predict_data(opt.predict, opt.cell2id, opt.drug2id)\r\n",
      "  File \"/home/inoue019/code/DrugCell/code/util.py\", line 105, in prepare_predict_data\r\n",
      "    test_feature, test_label = load_train_data(test_file, cell2id_mapping, drug2id_mapping)\r\n",
      "  File \"/home/inoue019/code/DrugCell/code/util.py\", line 93, in load_train_data\r\n",
      "    feature.append([cell2id[tokens[0]], drug2id[tokens[1]]])\r\n",
      "KeyError: 'METHOTREXATE'\r\n"
     ]
    }
   ],
   "source": [
    "!rm -rf Result_sample && mkdir Result_sample \n",
    "!rm -rf Hidden_sample/ && mkdir Hidden_sample\n",
    "\n",
    "!python code/predict_drugcell_cpu.py \\\n",
    "            -gene2id data/gene2ind.txt \\\n",
    "            -cell2id data/cell2ind.txt \\\n",
    "            -drug2id data/drug2ind.txt \\\n",
    "            -genotype data/cell2mutation.txt \\\n",
    "            -fingerprint data/drug2fingerprint.txt \\\n",
    "            -hidden Hidden_sample \\\n",
    "            -result Result_sample \\\n",
    "            -load pretrained_model/drugcell_v1.pt \\\n",
    "            -predict data/out_.txt"
   ]
  },
  {
   "cell_type": "code",
   "execution_count": 4,
   "metadata": {},
   "outputs": [
    {
     "name": "stdout",
     "output_type": "stream",
     "text": [
      "LS123_LARGE_INTESTINE\tCNC(=O)C1=NC=CC(=C1)OC2=CC(=C(C=C2)NC(=O)NC3=CC(=C(C=C3)Cl)C(F)(F)F)F\t0.8942239155087995\r\n",
      "RT4_URINARY_TRACT\tC[C@@H](C(=O)N[C@H]1C2=CC=CC=C2CCN(C1=O)C)NC(=O)[C@H](C(C)C)O\t0.8742612017769524\r\n",
      "SCABER_URINARY_TRACT\tC1CCN(C1)C(=O)NC2=CC=CC(=C2)NC3=NC=C(C(=N3)NCCC4=CN=CN4)Br\t0.9600720748580642\r\n",
      "TE617T_SOFT_TISSUE\tC1CN(CCC12C(=O)NCN2C3=CC=CC=C3)CCNC(=O)C4=CC5=CC=CC=C5C=C4\t0.9873540669080934\r\n",
      "MOGGCCM_CENTRAL_NERVOUS_SYSTEM\tCC1=CN=C(N=C1NC2=CC(=CC=C2)S(=O)(=O)NC(C)(C)C)NC3=CC=C(C=C3)OCCN4CCCC4\t0.8719973751110028\r\n",
      "cat: write error: Broken pipe\r\n"
     ]
    }
   ],
   "source": [
    "!cat data/drugcell_test.txt | head -n 5"
   ]
  },
  {
   "cell_type": "code",
   "execution_count": 5,
   "metadata": {
    "scrolled": true
   },
   "outputs": [
    {
     "name": "stdout",
     "output_type": "stream",
     "text": [
      "METHOTREXATE\tCN(Cc1cnc2nc(N)nc(N)c2n1)c3ccc(cc3)C(=O)N[C@@H](CCC(=O)O)C(=O)O\r\n",
      "6-THIOGUANINE\tNC1=NC(=S)c2[nH]cnc2N1\r\n",
      "6-MERCAPTOPURINE\tS=C1N=CNc2nc[nH]c12\r\n",
      "Allopurinol\tO=C1NC=Nc2[nH]ncc12\r\n",
      "Chlorambucil\tOC(=O)CCCc1ccc(cc1)N(CCCl)CCCl\r\n"
     ]
    }
   ],
   "source": [
    "!cat data/out_.txt | head -n 5"
   ]
  },
  {
   "cell_type": "code",
   "execution_count": 6,
   "metadata": {
    "scrolled": true
   },
   "outputs": [],
   "source": [
    "os.chdir('/home/inoue019/code/DrugCell/code')"
   ]
  },
  {
   "cell_type": "markdown",
   "metadata": {},
   "source": [
    "# module for python script"
   ]
  },
  {
   "cell_type": "code",
   "execution_count": 7,
   "metadata": {},
   "outputs": [],
   "source": [
    "from drugcell_prediction import predict_dcell"
   ]
  },
  {
   "cell_type": "code",
   "execution_count": 9,
   "metadata": {
    "scrolled": false
   },
   "outputs": [
    {
     "name": "stdout",
     "output_type": "stream",
     "text": [
      "Total number of cell lines = 1225\n",
      "Total number of drugs = 684\n"
     ]
    },
    {
     "name": "stderr",
     "output_type": "stream",
     "text": [
      "/home/inoue019/.local/lib/python3.9/site-packages/torch/serialization.py:786: SourceChangeWarning: source code of class 'drugcell_NN.drugcell_nn' has changed. you can retrieve the original source code by accessing the object's source attribute or set `torch.nn.Module.dump_patches = True` and use the patch tool to revert the changes.\n",
      "  warnings.warn(msg, SourceChangeWarning)\n",
      "/home/inoue019/.local/lib/python3.9/site-packages/torch/serialization.py:786: SourceChangeWarning: source code of class 'torch.nn.modules.linear.Linear' has changed. you can retrieve the original source code by accessing the object's source attribute or set `torch.nn.Module.dump_patches = True` and use the patch tool to revert the changes.\n",
      "  warnings.warn(msg, SourceChangeWarning)\n",
      "/home/inoue019/.local/lib/python3.9/site-packages/torch/serialization.py:786: SourceChangeWarning: source code of class 'torch.nn.modules.batchnorm.BatchNorm1d' has changed. you can retrieve the original source code by accessing the object's source attribute or set `torch.nn.Module.dump_patches = True` and use the patch tool to revert the changes.\n",
      "  warnings.warn(msg, SourceChangeWarning)\n"
     ]
    },
    {
     "name": "stdout",
     "output_type": "stream",
     "text": [
      "Test pearson corr\tGO:0008150\t0.822806\n"
     ]
    }
   ],
   "source": [
    "!rm -rf Result_sample && mkdir Result_sample \n",
    "!rm -rf Hidden_sample/ && mkdir Hidden_sample\n",
    "\n",
    "predict_dcell(\n",
    "    '../data/drugcell_test.txt',\n",
    "    '../data/cell2ind.txt',\n",
    "    '../data/drug2ind.txt',\n",
    "    '../data/cell2mutation.txt',\n",
    "    '../data/drug2fingerprint.txt',\n",
    "    '../pretrained_model/drugcell_v1.pt',\n",
    "    'Hidden_sample',\n",
    "    'Result_sample'\n",
    ")"
   ]
  }
 ],
 "metadata": {
  "kernelspec": {
   "display_name": "gpu",
   "language": "python",
   "name": "gpu"
  },
  "language_info": {
   "codemirror_mode": {
    "name": "ipython",
    "version": 3
   },
   "file_extension": ".py",
   "mimetype": "text/x-python",
   "name": "python",
   "nbconvert_exporter": "python",
   "pygments_lexer": "ipython3",
   "version": "3.6.9"
  }
 },
 "nbformat": 4,
 "nbformat_minor": 4
}
