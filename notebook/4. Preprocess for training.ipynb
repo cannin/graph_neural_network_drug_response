{
 "cells": [
  {
   "cell_type": "code",
   "execution_count": 1,
   "id": "5bdb980d",
   "metadata": {},
   "outputs": [],
   "source": [
    "import pandas as pd\n",
    "import numpy as np\n",
    "import random as rd"
   ]
  },
  {
   "cell_type": "code",
   "execution_count": 2,
   "id": "15cd728f",
   "metadata": {
    "scrolled": true
   },
   "outputs": [],
   "source": [
    "# take a subset.\n",
    "cell2ind = pd.read_csv('../DrugCell/data/cell2ind.txt', header=None, sep='\\t')\n",
    "# take a whole things\n",
    "gene2ind = pd.read_csv('../DrugCell/data/gene2ind.txt', header=None, sep='\\t')\n",
    "# take a subset.\n",
    "drug2ind = pd.read_csv('../DrugCell/data/drug2ind.txt', header=None, sep='\\t')\n",
    "# take a subset.\n",
    "cell2mutation = pd.read_csv('../DrugCell/data/cell2mutation.txt', header=None, sep=',')\n",
    "# take a subset.\n",
    "drug2fingerprint = pd.read_csv('../DrugCell/data/drug2fingerprint.txt', header=None, sep=',')\n",
    "# take a whole things\n",
    "drugcell_ont = pd.read_csv('../DrugCell/data/drugcell_ont.txt', header=None, sep='\\t')\n",
    "# make train, test and validation\n",
    "rcellminer = pd.read_csv('../DrugCell/data/rcellminer_test.txt', header=None, sep='\\t')"
   ]
  },
  {
   "cell_type": "code",
   "execution_count": 3,
   "id": "e2fbd9d8",
   "metadata": {},
   "outputs": [],
   "source": [
    "indexes = list(rcellminer.index)\n",
    "rd.Random(42).shuffle(indexes)"
   ]
  },
  {
   "cell_type": "code",
   "execution_count": 4,
   "id": "ae0d8351",
   "metadata": {},
   "outputs": [],
   "source": [
    "test = indexes[round(len(indexes)*0.8):]\n",
    "tmp = indexes[:round(len(indexes)*0.8)]\n",
    "val = tmp[:len(test)]\n",
    "train = tmp[len(test):]"
   ]
  },
  {
   "cell_type": "code",
   "execution_count": 5,
   "id": "b07c703a",
   "metadata": {},
   "outputs": [],
   "source": [
    "rcellminer.iloc[test].to_csv(\n",
    "    '../data/test.txt', sep='\\t', \n",
    "    header=None, index=None\n",
    ")"
   ]
  },
  {
   "cell_type": "code",
   "execution_count": 6,
   "id": "b01b0492",
   "metadata": {},
   "outputs": [],
   "source": [
    "rcellminer.iloc[val].to_csv(\n",
    "    '../data/val.txt', sep='\\t', \n",
    "    header=None, index=None\n",
    ")"
   ]
  },
  {
   "cell_type": "code",
   "execution_count": 7,
   "id": "e65548fd",
   "metadata": {},
   "outputs": [],
   "source": [
    "rcellminer.iloc[train].to_csv(\n",
    "    '../data/train.txt', sep='\\t', \n",
    "    header=None, index=None\n",
    ")"
   ]
  }
 ],
 "metadata": {
  "kernelspec": {
   "display_name": "graph_neural_network_drug_response",
   "language": "python",
   "name": "graph_neural_network_drug_response"
  },
  "language_info": {
   "codemirror_mode": {
    "name": "ipython",
    "version": 3
   },
   "file_extension": ".py",
   "mimetype": "text/x-python",
   "name": "python",
   "nbconvert_exporter": "python",
   "pygments_lexer": "ipython3",
   "version": "3.9.13"
  }
 },
 "nbformat": 4,
 "nbformat_minor": 5
}
