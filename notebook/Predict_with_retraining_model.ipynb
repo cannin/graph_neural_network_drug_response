{
  "nbformat": 4,
  "nbformat_minor": 0,
  "metadata": {
    "colab": {
      "name": "Predict with retraining model.ipynb",
      "provenance": [],
      "authorship_tag": "ABX9TyMZopaW/JrcGeU/NFk5g91v",
      "include_colab_link": true
    },
    "kernelspec": {
      "name": "python3",
      "display_name": "Python 3"
    },
    "language_info": {
      "name": "python"
    },
    "accelerator": "GPU",
    "gpuClass": "standard"
  },
  "cells": [
    {
      "cell_type": "markdown",
      "metadata": {
        "id": "view-in-github",
        "colab_type": "text"
      },
      "source": [
        "<a href=\"https://colab.research.google.com/github/cannin/graph_neural_network_drug_response/blob/6-drugcell-test/notebook/Predict_with_retraining_model.ipynb\" target=\"_parent\"><img src=\"https://colab.research.google.com/assets/colab-badge.svg\" alt=\"Open In Colab\"/></a>"
      ]
    },
    {
      "cell_type": "code",
      "execution_count": 1,
      "metadata": {
        "colab": {
          "base_uri": "https://localhost:8080/"
        },
        "id": "3uiWVRpuVa8R",
        "outputId": "67d6f744-f8fe-4ce3-9e13-2cb852789428"
      },
      "outputs": [
        {
          "output_type": "stream",
          "name": "stdout",
          "text": [
            "Sun Jul  3 20:55:37 2022       \n",
            "+-----------------------------------------------------------------------------+\n",
            "| NVIDIA-SMI 460.32.03    Driver Version: 460.32.03    CUDA Version: 11.2     |\n",
            "|-------------------------------+----------------------+----------------------+\n",
            "| GPU  Name        Persistence-M| Bus-Id        Disp.A | Volatile Uncorr. ECC |\n",
            "| Fan  Temp  Perf  Pwr:Usage/Cap|         Memory-Usage | GPU-Util  Compute M. |\n",
            "|                               |                      |               MIG M. |\n",
            "|===============================+======================+======================|\n",
            "|   0  Tesla P100-PCIE...  Off  | 00000000:00:04.0 Off |                    0 |\n",
            "| N/A   33C    P0    28W / 250W |      0MiB / 16280MiB |      0%      Default |\n",
            "|                               |                      |                  N/A |\n",
            "+-------------------------------+----------------------+----------------------+\n",
            "                                                                               \n",
            "+-----------------------------------------------------------------------------+\n",
            "| Processes:                                                                  |\n",
            "|  GPU   GI   CI        PID   Type   Process name                  GPU Memory |\n",
            "|        ID   ID                                                   Usage      |\n",
            "|=============================================================================|\n",
            "|  No running processes found                                                 |\n",
            "+-----------------------------------------------------------------------------+\n"
          ]
        }
      ],
      "source": [
        "!nvidia-smi"
      ]
    },
    {
      "cell_type": "code",
      "source": [
        "# Clone the entire repo.\n",
        "!git clone https://github.com/inoue0426/DrugCell.git\n",
        "!ls"
      ],
      "metadata": {
        "colab": {
          "base_uri": "https://localhost:8080/"
        },
        "id": "KIQFdqa0VgG7",
        "outputId": "0103fa5f-eec0-4c90-f2d7-936d14eb0542"
      },
      "execution_count": 2,
      "outputs": [
        {
          "output_type": "stream",
          "name": "stdout",
          "text": [
            "Cloning into 'DrugCell'...\n",
            "remote: Enumerating objects: 352, done.\u001b[K\n",
            "remote: Counting objects: 100% (70/70), done.\u001b[K\n",
            "remote: Compressing objects: 100% (34/34), done.\u001b[K\n",
            "remote: Total 352 (delta 36), reused 69 (delta 36), pack-reused 282\u001b[K\n",
            "Receiving objects: 100% (352/352), 228.61 MiB | 28.45 MiB/s, done.\n",
            "Resolving deltas: 100% (177/177), done.\n",
            "Checking out files: 100% (52/52), done.\n",
            "DrugCell  sample_data  Warning.mp3\n"
          ]
        }
      ]
    },
    {
      "cell_type": "code",
      "source": [
        "!unzip DrugCell/pretrained_model/model_0.pt.zip"
      ],
      "metadata": {
        "colab": {
          "base_uri": "https://localhost:8080/"
        },
        "id": "M-FRzxOdVj2y",
        "outputId": "df0a566d-d279-41a8-fe99-7752b4437df0"
      },
      "execution_count": 3,
      "outputs": [
        {
          "output_type": "stream",
          "name": "stdout",
          "text": [
            "Archive:  DrugCell/pretrained_model/model_0.pt.zip\n",
            "  inflating: model_0.pt              \n"
          ]
        }
      ]
    },
    {
      "cell_type": "code",
      "source": [
        "!ls "
      ],
      "metadata": {
        "colab": {
          "base_uri": "https://localhost:8080/"
        },
        "id": "9WFsoc_cWyAw",
        "outputId": "2b91c2fb-d5cc-4b67-d665-ad2431ce0741"
      },
      "execution_count": 4,
      "outputs": [
        {
          "output_type": "stream",
          "name": "stdout",
          "text": [
            "DrugCell  model_0.pt  sample_data  Warning.mp3\n"
          ]
        }
      ]
    },
    {
      "cell_type": "code",
      "source": [
        "!rm -rf Result_sample && mkdir Result_sample \n",
        "!rm -rf Hidden_sample/ && mkdir Hidden_sample\n",
        "\n",
        "!python ./DrugCell/code/predict_drugcell.py \\\n",
        "                -gene2id ./DrugCell/data/gene2ind.txt \\\n",
        "                -cell2id ./DrugCell/data/cell2ind.txt \\\n",
        "                -drug2id ./DrugCell/data/drug2ind_rcell.txt \\\n",
        "                -genotype ./DrugCell/data/cell2mutation.txt \\\n",
        "                -fingerprint ./DrugCell/data/mfp.txt \\\n",
        "                -hidden Hidden_sample \\\n",
        "                -result Result_sample \\\n",
        "                -load model_0.pt \\\n",
        "                -predict ./DrugCell/data/test_rcell.txt"
      ],
      "metadata": {
        "colab": {
          "base_uri": "https://localhost:8080/"
        },
        "id": "3KBd8WLBVnbp",
        "outputId": "b534f742-619b-42d6-891b-4de5fe413e39"
      },
      "execution_count": 5,
      "outputs": [
        {
          "output_type": "stream",
          "name": "stdout",
          "text": [
            "Total number of cell lines = 1225\n",
            "Total number of drugs = 16522\n",
            "Total number of genes = 3008\n",
            "Test pearson corr\tGO:0008150\t0.329632\n"
          ]
        }
      ]
    },
    {
      "cell_type": "code",
      "source": [
        "import IPython\n",
        "display(IPython.display.Audio(\"Warning.mp3\", autoplay=True))"
      ],
      "metadata": {
        "colab": {
          "base_uri": "https://localhost:8080/",
          "height": 75
        },
        "id": "1mhI_sD1VneE",
        "outputId": "60404094-59d7-4c67-dd6b-d4150736bf1a"
      },
      "execution_count": 6,
      "outputs": [
        {
          "output_type": "display_data",
          "data": {
            "text/plain": [
              "<IPython.lib.display.Audio object>"
            ],
            "text/html": [
              "\n",
              "                <audio controls=\"controls\" autoplay=\"autoplay\">\n",
              "                    <source src=\"data:audio/mpeg;base64,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\" type=\"audio/mpeg\" />\n",
              "                    Your browser does not support the audio element.\n",
              "                </audio>\n",
              "              "
            ]
          },
          "metadata": {}
        }
      ]
    },
    {
      "cell_type": "code",
      "source": [
        "from google.colab import files\n",
        "\n",
        "files.download('Hidden_sample')"
      ],
      "metadata": {
        "colab": {
          "base_uri": "https://localhost:8080/",
          "height": 34
        },
        "id": "zcM_5jEJ2RHD",
        "outputId": "9467de4f-c945-467b-df3f-3fd109c00465"
      },
      "execution_count": 8,
      "outputs": [
        {
          "output_type": "display_data",
          "data": {
            "text/plain": [
              "<IPython.core.display.Javascript object>"
            ],
            "application/javascript": [
              "\n",
              "    async function download(id, filename, size) {\n",
              "      if (!google.colab.kernel.accessAllowed) {\n",
              "        return;\n",
              "      }\n",
              "      const div = document.createElement('div');\n",
              "      const label = document.createElement('label');\n",
              "      label.textContent = `Downloading \"${filename}\": `;\n",
              "      div.appendChild(label);\n",
              "      const progress = document.createElement('progress');\n",
              "      progress.max = size;\n",
              "      div.appendChild(progress);\n",
              "      document.body.appendChild(div);\n",
              "\n",
              "      const buffers = [];\n",
              "      let downloaded = 0;\n",
              "\n",
              "      const channel = await google.colab.kernel.comms.open(id);\n",
              "      // Send a message to notify the kernel that we're ready.\n",
              "      channel.send({})\n",
              "\n",
              "      for await (const message of channel.messages) {\n",
              "        // Send a message to notify the kernel that we're ready.\n",
              "        channel.send({})\n",
              "        if (message.buffers) {\n",
              "          for (const buffer of message.buffers) {\n",
              "            buffers.push(buffer);\n",
              "            downloaded += buffer.byteLength;\n",
              "            progress.value = downloaded;\n",
              "          }\n",
              "        }\n",
              "      }\n",
              "      const blob = new Blob(buffers, {type: 'application/binary'});\n",
              "      const a = document.createElement('a');\n",
              "      a.href = window.URL.createObjectURL(blob);\n",
              "      a.download = filename;\n",
              "      div.appendChild(a);\n",
              "      a.click();\n",
              "      div.remove();\n",
              "    }\n",
              "  "
            ]
          },
          "metadata": {}
        },
        {
          "output_type": "display_data",
          "data": {
            "text/plain": [
              "<IPython.core.display.Javascript object>"
            ],
            "application/javascript": [
              "download(\"download_d4674420-c74c-46c9-9039-767fc3c1be83\", \"Hidden_sample\", 81920)"
            ]
          },
          "metadata": {}
        }
      ]
    },
    {
      "cell_type": "code",
      "source": [
        "\n",
        "files.download('Result_sample')"
      ],
      "metadata": {
        "colab": {
          "base_uri": "https://localhost:8080/",
          "height": 34
        },
        "id": "kmRfStYd9Ciz",
        "outputId": "8cb8beaa-e830-4515-e0f9-44c91b2f4f61"
      },
      "execution_count": 9,
      "outputs": [
        {
          "output_type": "display_data",
          "data": {
            "text/plain": [
              "<IPython.core.display.Javascript object>"
            ],
            "application/javascript": [
              "\n",
              "    async function download(id, filename, size) {\n",
              "      if (!google.colab.kernel.accessAllowed) {\n",
              "        return;\n",
              "      }\n",
              "      const div = document.createElement('div');\n",
              "      const label = document.createElement('label');\n",
              "      label.textContent = `Downloading \"${filename}\": `;\n",
              "      div.appendChild(label);\n",
              "      const progress = document.createElement('progress');\n",
              "      progress.max = size;\n",
              "      div.appendChild(progress);\n",
              "      document.body.appendChild(div);\n",
              "\n",
              "      const buffers = [];\n",
              "      let downloaded = 0;\n",
              "\n",
              "      const channel = await google.colab.kernel.comms.open(id);\n",
              "      // Send a message to notify the kernel that we're ready.\n",
              "      channel.send({})\n",
              "\n",
              "      for await (const message of channel.messages) {\n",
              "        // Send a message to notify the kernel that we're ready.\n",
              "        channel.send({})\n",
              "        if (message.buffers) {\n",
              "          for (const buffer of message.buffers) {\n",
              "            buffers.push(buffer);\n",
              "            downloaded += buffer.byteLength;\n",
              "            progress.value = downloaded;\n",
              "          }\n",
              "        }\n",
              "      }\n",
              "      const blob = new Blob(buffers, {type: 'application/binary'});\n",
              "      const a = document.createElement('a');\n",
              "      a.href = window.URL.createObjectURL(blob);\n",
              "      a.download = filename;\n",
              "      div.appendChild(a);\n",
              "      a.click();\n",
              "      div.remove();\n",
              "    }\n",
              "  "
            ]
          },
          "metadata": {}
        },
        {
          "output_type": "display_data",
          "data": {
            "text/plain": [
              "<IPython.core.display.Javascript object>"
            ],
            "application/javascript": [
              "download(\"download_bbd19c13-dc07-467c-af3f-8af8d442e7b7\", \"Result_sample\", 4096)"
            ]
          },
          "metadata": {}
        }
      ]
    },
    {
      "cell_type": "code",
      "source": [
        ""
      ],
      "metadata": {
        "id": "0cZMrZ8w9O2T"
      },
      "execution_count": null,
      "outputs": []
    }
  ]
}