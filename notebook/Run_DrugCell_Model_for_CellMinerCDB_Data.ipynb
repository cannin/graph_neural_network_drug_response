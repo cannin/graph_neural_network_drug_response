{
  "nbformat": 4,
  "nbformat_minor": 0,
  "metadata": {
    "colab": {
      "name": "Run DrugCell Model for CellMinerCDB Data.ipynb",
      "provenance": [],
      "authorship_tag": "ABX9TyN+4LEMyJdLM+pkCSYfwWaF",
      "include_colab_link": true
    },
    "kernelspec": {
      "name": "python3",
      "display_name": "Python 3"
    },
    "language_info": {
      "name": "python"
    },
    "accelerator": "GPU",
    "gpuClass": "standard"
  },
  "cells": [
    {
      "cell_type": "markdown",
      "metadata": {
        "id": "view-in-github",
        "colab_type": "text"
      },
      "source": [
        "<a href=\"https://colab.research.google.com/github/cannin/graph_neural_network_drug_response/blob/main/notebook/Run_DrugCell_Model_for_CellMinerCDB_Data.ipynb\" target=\"_parent\"><img src=\"https://colab.research.google.com/assets/colab-badge.svg\" alt=\"Open In Colab\"/></a>"
      ]
    },
    {
      "cell_type": "code",
      "execution_count": 1,
      "metadata": {
        "colab": {
          "base_uri": "https://localhost:8080/"
        },
        "id": "uBQ26FrYiovB",
        "outputId": "4a9226f8-1ecc-4640-a5e7-9dbb42f5a552"
      },
      "outputs": [
        {
          "output_type": "stream",
          "name": "stdout",
          "text": [
            "Cloning into '../DrugCell'...\n",
            "remote: Enumerating objects: 311, done.\u001b[K\n",
            "remote: Total 311 (delta 0), reused 0 (delta 0), pack-reused 311\u001b[K\n",
            "Receiving objects: 100% (311/311), 140.39 MiB | 20.62 MiB/s, done.\n",
            "Resolving deltas: 100% (152/152), done.\n"
          ]
        }
      ],
      "source": [
        "import os\n",
        "import pandas as pd\n",
        "import numpy as np\n",
        "\n",
        "from os.path import exists\n",
        "\n",
        "!rm -rf ../DrugCell/ && git clone https://github.com/inoue0426/DrugCell.git ../DrugCell\n",
        "\n",
        "os.chdir('../DrugCell/code')\n",
        "\n",
        "from drugcell_prediction import predict_dcell"
      ]
    },
    {
      "cell_type": "code",
      "source": [
        "Path_to_data = '../data_rcellminer/'\n",
        "test = Path_to_data + 'test_rcell_wo_other.txt'\n",
        "cell2id = Path_to_data + 'cell2ind.txt'\n",
        "drug2id = Path_to_data + 'drug2ind.txt'\n",
        "cell2mut = Path_to_data + 'cell2mut.txt'\n",
        "drug2fp = Path_to_data + 'drug2fingerprint.csv'\n",
        "\n",
        "model = '../pretrained_model_rcellminer/model.pt'\n",
        "hidden_path = 'Hidden'\n",
        "res_path = 'Result'"
      ],
      "metadata": {
        "id": "XaWd3kQWiwdS"
      },
      "execution_count": 2,
      "outputs": []
    },
    {
      "cell_type": "code",
      "source": [
        "if not exists(model):\n",
        "    model_ = model + '.zip'\n",
        "    !unzip $model_ -d ../pretrained_model_rcellminer/"
      ],
      "metadata": {
        "colab": {
          "base_uri": "https://localhost:8080/"
        },
        "id": "2ip9k_L3jLHg",
        "outputId": "16a3ba7b-6bba-4482-adc6-f5c573e7378a"
      },
      "execution_count": 3,
      "outputs": [
        {
          "output_type": "stream",
          "name": "stdout",
          "text": [
            "Archive:  ../pretrained_model_rcellminer/model.pt.zip\n",
            "  inflating: ../pretrained_model_rcellminer/model.pt  \n"
          ]
        }
      ]
    },
    {
      "cell_type": "code",
      "source": [
        "!rm -rf Result && mkdir Result \n",
        "!rm -rf Hidden && mkdir Hidden\n",
        "\n",
        "predict_dcell(\n",
        "    test=test,\n",
        "    cell2id=cell2id,\n",
        "    drug2id=drug2id,\n",
        "    cell2mut=cell2mut,\n",
        "    fingerprint=drug2fp,\n",
        "    model=model,\n",
        "    hidden_folder=hidden_path,\n",
        "    result_folder=res_path\n",
        ")"
      ],
      "metadata": {
        "colab": {
          "base_uri": "https://localhost:8080/"
        },
        "id": "B1zuCD3RjMWr",
        "outputId": "3677605a-35aa-40ed-bf49-4e65bb3bf0b7"
      },
      "execution_count": 4,
      "outputs": [
        {
          "output_type": "stream",
          "name": "stdout",
          "text": [
            "Total number of cell lines = 55\n",
            "Total number of drugs = 309\n",
            "Test pearson corr\tGO:0008150\t0.528681\n"
          ]
        }
      ]
    },
    {
      "cell_type": "code",
      "source": [
        ""
      ],
      "metadata": {
        "id": "9MHrptfAz0KV"
      },
      "execution_count": 4,
      "outputs": []
    }
  ]
}