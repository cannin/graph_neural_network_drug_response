{
 "cells": [
  {
   "cell_type": "markdown",
   "metadata": {
    "colab_type": "text",
    "id": "view-in-github"
   },
   "source": [
    "<a href=\"https://colab.research.google.com/github/cannin/graph_neural_network_drug_response/blob/main/notebook/Run_DrugCell_Model_for_CellMinerCDB_Data.ipynb\" target=\"_parent\"><img src=\"https://colab.research.google.com/assets/colab-badge.svg\" alt=\"Open In Colab\"/></a>"
   ]
  },
  {
   "cell_type": "code",
   "execution_count": 9,
   "metadata": {
    "colab": {
     "base_uri": "https://localhost:8080/"
    },
    "id": "uBQ26FrYiovB",
    "outputId": "4a9226f8-1ecc-4640-a5e7-9dbb42f5a552"
   },
   "outputs": [
    {
     "name": "stdout",
     "output_type": "stream",
     "text": [
      "Cloning into '../DrugCell'...\n",
      "remote: Enumerating objects: 334, done.\u001b[K\n",
      "remote: Counting objects: 100% (23/23), done.\u001b[K\n",
      "remote: Compressing objects: 100% (15/15), done.\u001b[K\n",
      "remote: Total 334 (delta 7), reused 23 (delta 7), pack-reused 311\u001b[K\n",
      "Receiving objects: 100% (334/334), 198.39 MiB | 5.71 MiB/s, done.\n",
      "Resolving deltas: 100% (159/159), done.\n",
      "Updating files: 100% (51/51), done.\n"
     ]
    }
   ],
   "source": [
    "import os\n",
    "import pandas as pd\n",
    "import numpy as np\n",
    "\n",
    "from os.path import exists\n",
    "\n",
    "# !rm -rf ../DrugCell/ && git clone https://github.com/inoue0426/DrugCell.git ../DrugCell\n",
    "\n",
    "os.chdir('../DrugCell/code')\n",
    "\n",
    "from drugcell_prediction import predict_dcell"
   ]
  },
  {
   "cell_type": "code",
   "execution_count": 10,
   "metadata": {
    "id": "XaWd3kQWiwdS"
   },
   "outputs": [],
   "source": [
    "Path_to_data = '../data_rcellminer/'\n",
    "test = Path_to_data + 'test_DNA.txt'\n",
    "cell2id = Path_to_data + 'cell2ind.txt'\n",
    "drug2id = Path_to_data + 'drug2ind.txt'\n",
    "cell2mut = Path_to_data + 'cell2mut.txt'\n",
    "drug2fp = Path_to_data + 'drug2fingerprint.csv'\n",
    "\n",
    "model = '/export/scratch/inoue019/MODEL_005/model_273.pt'\n",
    "hidden_path = 'Hidden'\n",
    "res_path = 'Result'"
   ]
  },
  {
   "cell_type": "code",
   "execution_count": 11,
   "metadata": {
    "colab": {
     "base_uri": "https://localhost:8080/"
    },
    "id": "2ip9k_L3jLHg",
    "outputId": "16a3ba7b-6bba-4482-adc6-f5c573e7378a"
   },
   "outputs": [],
   "source": [
    "if not exists(model):\n",
    "    model_ = model + '.zip'\n",
    "    !unzip $model_ -d ../pretrained_model_rcellminer/"
   ]
  },
  {
   "cell_type": "code",
   "execution_count": 12,
   "metadata": {
    "scrolled": true
   },
   "outputs": [
    {
     "name": "stdout",
     "output_type": "stream",
     "text": [
      "Total number of cell lines = 55\n",
      "Total number of drugs = 244\n",
      "Test pearson corr\tGO:0008150\t0.713568\n"
     ]
    }
   ],
   "source": [
    "!rm -rf Result && mkdir Result \n",
    "!rm -rf Hidden && mkdir Hidden\n",
    "\n",
    "predict_dcell(\n",
    "    test=test,\n",
    "    cell2id=cell2id,\n",
    "    drug2id=drug2id,\n",
    "    cell2mut=cell2mut,\n",
    "    fingerprint=drug2fp,\n",
    "    model=model,\n",
    "    hidden_folder=hidden_path,\n",
    "    result_folder=res_path\n",
    ")"
   ]
  },
  {
   "cell_type": "code",
   "execution_count": null,
   "metadata": {},
   "outputs": [],
   "source": []
  }
 ],
 "metadata": {
  "accelerator": "GPU",
  "colab": {
   "authorship_tag": "ABX9TyN+4LEMyJdLM+pkCSYfwWaF",
   "include_colab_link": true,
   "name": "Run DrugCell Model for CellMinerCDB Data.ipynb",
   "provenance": []
  },
  "gpuClass": "standard",
  "kernelspec": {
   "display_name": "gpu1",
   "language": "python",
   "name": "gpu1"
  },
  "language_info": {
   "codemirror_mode": {
    "name": "ipython",
    "version": 3
   },
   "file_extension": ".py",
   "mimetype": "text/x-python",
   "name": "python",
   "nbconvert_exporter": "python",
   "pygments_lexer": "ipython3",
   "version": "3.8.10"
  }
 },
 "nbformat": 4,
 "nbformat_minor": 1
}
