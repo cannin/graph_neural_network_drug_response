{
  "nbformat": 4,
  "nbformat_minor": 0,
  "metadata": {
    "colab": {
      "name": "Run DrugCell Model for CellMinerCDB Data.ipynb",
      "provenance": [],
      "authorship_tag": "ABX9TyPNtY3eOV+m/GcwSPrMdgQU",
      "include_colab_link": true
    },
    "kernelspec": {
      "name": "python3",
      "display_name": "Python 3"
    },
    "language_info": {
      "name": "python"
    },
    "accelerator": "GPU",
    "gpuClass": "standard"
  },
  "cells": [
    {
      "cell_type": "markdown",
      "metadata": {
        "id": "view-in-github",
        "colab_type": "text"
      },
      "source": [
        "<a href=\"https://colab.research.google.com/github/cannin/graph_neural_network_drug_response/blob/main/notebook/Run_DrugCell_Model_for_CellMinerCDB_Data.ipynb\" target=\"_parent\"><img src=\"https://colab.research.google.com/assets/colab-badge.svg\" alt=\"Open In Colab\"/></a>"
      ]
    },
    {
      "cell_type": "code",
      "execution_count": 1,
      "metadata": {
        "colab": {
          "base_uri": "https://localhost:8080/"
        },
        "id": "uBQ26FrYiovB",
        "outputId": "b16273bd-f392-46a9-b202-3ca3bc969255"
      },
      "outputs": [
        {
          "output_type": "stream",
          "name": "stdout",
          "text": [
            "Cloning into '../DrugCell'...\n",
            "remote: Enumerating objects: 469, done.\u001b[K\n",
            "remote: Counting objects: 100% (113/113), done.\u001b[K\n",
            "remote: Compressing objects: 100% (39/39), done.\u001b[K\n",
            "remote: Total 469 (delta 76), reused 101 (delta 70), pack-reused 356\u001b[K\n",
            "Receiving objects: 100% (469/469), 348.27 MiB | 28.78 MiB/s, done.\n",
            "Resolving deltas: 100% (257/257), done.\n",
            "Checking out files: 100% (53/53), done.\n"
          ]
        }
      ],
      "source": [
        "import os\n",
        "import pandas as pd\n",
        "import numpy as np\n",
        "\n",
        "from os.path import exists\n",
        "\n",
        "!rm -rf ../DrugCell/ && git clone https://github.com/inoue0426/DrugCell.git ../DrugCell\n",
        "\n",
        "os.chdir('../DrugCell/code')\n",
        "\n",
        "from drugcell_prediction import predict_dcell"
      ]
    },
    {
      "cell_type": "code",
      "source": [
        "test = '../data/test_rcell_1000.txt'\n",
        "cell2id = '../data/cell2ind.txt'\n",
        "drug2id = '../data/drug2ind_rcell.txt'\n",
        "cell2mut = '../data/cell2mutation.txt'\n",
        "drug2fp = '../data/mfp.txt'\n",
        "model = '../pretrained_model/model.pt'\n",
        "hidden_path = 'Hidden_sample'\n",
        "res_path = 'Result_sample'"
      ],
      "metadata": {
        "id": "XaWd3kQWiwdS"
      },
      "execution_count": 2,
      "outputs": []
    },
    {
      "cell_type": "code",
      "source": [
        "if not exists(model):\n",
        "    model_ = model + '.zip'\n",
        "    !unzip $model_ -d ../pretrained_model/"
      ],
      "metadata": {
        "colab": {
          "base_uri": "https://localhost:8080/"
        },
        "id": "2ip9k_L3jLHg",
        "outputId": "9890b386-9c25-4822-982e-af9bb35bdfec"
      },
      "execution_count": 3,
      "outputs": [
        {
          "output_type": "stream",
          "name": "stdout",
          "text": [
            "Archive:  ../pretrained_model/model.pt.zip\n",
            "  inflating: ../pretrained_model/model.pt  \n"
          ]
        }
      ]
    },
    {
      "cell_type": "code",
      "source": [
        "!rm -rf Result_sample && mkdir Result_sample \n",
        "!rm -rf Hidden_sample/ && mkdir Hidden_sample\n",
        "\n",
        "predict_dcell(\n",
        "    test=test,\n",
        "    cell2id=cell2id,\n",
        "    drug2id=drug2id,\n",
        "    cell2mut=cell2mut,\n",
        "    fingerprint=drug2fp,\n",
        "    model=model,\n",
        "    hidden_folder=hidden_path,\n",
        "    result_folder=res_path\n",
        ")"
      ],
      "metadata": {
        "colab": {
          "base_uri": "https://localhost:8080/"
        },
        "id": "B1zuCD3RjMWr",
        "outputId": "c40b52a5-588f-4d48-d82b-fd3ef92b18c4"
      },
      "execution_count": 4,
      "outputs": [
        {
          "output_type": "stream",
          "name": "stdout",
          "text": [
            "Total number of cell lines = 1225\n",
            "Total number of drugs = 16522\n",
            "Test pearson corr\tGO:0008150\t0.424306\n"
          ]
        }
      ]
    }
  ]
}