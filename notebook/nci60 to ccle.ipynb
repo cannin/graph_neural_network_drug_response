{
 "cells": [
  {
   "cell_type": "code",
   "execution_count": 1,
   "id": "f97d6d29",
   "metadata": {},
   "outputs": [],
   "source": [
    "import sys\n",
    "import pandas as pd"
   ]
  },
  {
   "cell_type": "code",
   "execution_count": 2,
   "id": "d30c2b55",
   "metadata": {},
   "outputs": [],
   "source": [
    "def get_ccle_dataframe(file_name):\n",
    "\n",
    "    \"\"\"\n",
    "    Reads csv file and changes column names to match ccle.\n",
    "    :param file_name: PATH to ccle file\n",
    "    return dataframe\n",
    "    \"\"\"\n",
    "\n",
    "    # Read in the file\n",
    "    nci60Act = pd.read_csv(\n",
    "        file_name,\n",
    "        index_col=0,\n",
    "    )\n",
    "\n",
    "    # Rename the columns to match the CCLE Setup\n",
    "    nci60Act = nci60Act.rename(\n",
    "        columns={\n",
    "            \"BR:HS 578T\": \"BR:HS 578 T\",\n",
    "            \"BR:T-47D\": \"BR:T47D\",\n",
    "            \"CNS:SF-295\": \"CNS:SF295\",\n",
    "            \"CNS:SF-268\": \"CNS:SF268\",\n",
    "            \"CNS:SF-539\": \"CNS:SF539\",\n",
    "            \"CNS:SNB-19\": \"CNS:SNB19\",\n",
    "            \"CO:HT29\": \"CO:HT 29\",\n",
    "            \"CO:SW-620\": \"SW620\",\n",
    "            \"LE:HL-60(TB)\": \"LE:HL-60\",\n",
    "            \"ME:LOX IMVI\": \"ME:LOXIMVI\",\n",
    "            \"LC:A549/ATCC\": \"LC:A549\",\n",
    "            \"OV:IGROV1\": \"OV:IGROV 1\",\n",
    "            \"RE:RXF 393\": \"RE:RXF-393\",\n",
    "            \"RE:TK-10\": \"RE:TK10\",\n",
    "        }\n",
    "    )\n",
    "\n",
    "    # These are not listed in the table and train data\n",
    "    nci60Act = nci60Act.drop([\"ME:MDA-N\", \"OV:NCI/ADR-RES\", \"RE:UO-31\"], axis=1)\n",
    "\n",
    "    # replace ' ' with '_' in the column names\n",
    "    nci60Act.columns = nci60Act.columns.str.replace(\" \", \"-\")\n",
    "\n",
    "    # Rename the columns to match the CCLE Setup\n",
    "    col = []\n",
    "    for i in nci60Act.columns:\n",
    "        tmp = i.split(\":\")\n",
    "        if len(tmp) == 2:\n",
    "            col.append(tmp[1])\n",
    "        else:\n",
    "            col.append(tmp[0])\n",
    "\n",
    "    nci60Act.columns = col\n",
    "\n",
    "    # Read table of cell line names\n",
    "    sanger_cell_lines = pd.read_csv(\"../data/sanger_to_ccle.csv\", index_col=0)\n",
    "\n",
    "    # Create a dictionary of the cell line names\n",
    "    ccle_dict = {\n",
    "        i.upper(): j\n",
    "        for i, j in zip(\n",
    "            sanger_cell_lines[\"Sanger name\"], sanger_cell_lines[\"CCLE Label\"]\n",
    "        )\n",
    "    }\n",
    "\n",
    "    # Create a new column for the cell line names\n",
    "    nci60Act.columns = [ccle_dict[i] for i in nci60Act.columns]\n",
    "\n",
    "    # Save the dataframe to a csv file\n",
    "    nci60Act.to_csv(\n",
    "        file_name.replace(\".csv\", \"_ccle.csv\"),\n",
    "    )"
   ]
  },
  {
   "cell_type": "code",
   "execution_count": 3,
   "id": "43c91c21",
   "metadata": {},
   "outputs": [],
   "source": [
    "get_ccle_dataframe('../data/nci60Act.csv')"
   ]
  }
 ],
 "metadata": {
  "kernelspec": {
   "display_name": "Python 3 (ipykernel)",
   "language": "python",
   "name": "python3"
  },
  "language_info": {
   "codemirror_mode": {
    "name": "ipython",
    "version": 3
   },
   "file_extension": ".py",
   "mimetype": "text/x-python",
   "name": "python",
   "nbconvert_exporter": "python",
   "pygments_lexer": "ipython3",
   "version": "3.9.13"
  }
 },
 "nbformat": 4,
 "nbformat_minor": 5
}
