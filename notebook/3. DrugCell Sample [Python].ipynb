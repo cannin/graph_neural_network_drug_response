{
 "cells": [
  {
   "cell_type": "code",
   "execution_count": 1,
   "metadata": {
    "scrolled": true
   },
   "outputs": [],
   "source": [
    "import os\n",
    "import pandas as pd\n",
    "import numpy as np\n",
    "\n",
    "os.chdir('../DrugCell')"
   ]
  },
  {
   "cell_type": "markdown",
   "metadata": {},
   "source": [
    "# Original Test Data"
   ]
  },
  {
   "cell_type": "code",
   "execution_count": 6,
   "metadata": {
    "scrolled": true
   },
   "outputs": [
    {
     "name": "stdout",
     "output_type": "stream",
     "text": [
      "Total number of cell lines = 1225\n",
      "Total number of drugs = 684\n",
      "printing drug features\n",
      "[[0. 1. 1. ... 0. 0. 0.]\n",
      " [0. 0. 0. ... 0. 0. 0.]\n",
      " [0. 0. 0. ... 0. 0. 0.]\n",
      " ...\n",
      " [0. 0. 0. ... 0. 0. 0.]\n",
      " [0. 0. 0. ... 0. 0. 0.]\n",
      " [0. 0. 0. ... 0. 0. 0.]]\n",
      "/Users/yoshitakainoue/code/graph_neural_network_drug_response/.venv/lib/python3.9/site-packages/torch/serialization.py:786: SourceChangeWarning: source code of class 'drugcell_NN.drugcell_nn' has changed. you can retrieve the original source code by accessing the object's source attribute or set `torch.nn.Module.dump_patches = True` and use the patch tool to revert the changes.\n",
      "  warnings.warn(msg, SourceChangeWarning)\n",
      "/Users/yoshitakainoue/code/graph_neural_network_drug_response/.venv/lib/python3.9/site-packages/torch/serialization.py:786: SourceChangeWarning: source code of class 'torch.nn.modules.linear.Linear' has changed. you can retrieve the original source code by accessing the object's source attribute or set `torch.nn.Module.dump_patches = True` and use the patch tool to revert the changes.\n",
      "  warnings.warn(msg, SourceChangeWarning)\n",
      "/Users/yoshitakainoue/code/graph_neural_network_drug_response/.venv/lib/python3.9/site-packages/torch/serialization.py:786: SourceChangeWarning: source code of class 'torch.nn.modules.batchnorm.BatchNorm1d' has changed. you can retrieve the original source code by accessing the object's source attribute or set `torch.nn.Module.dump_patches = True` and use the patch tool to revert the changes.\n",
      "  warnings.warn(msg, SourceChangeWarning)\n",
      "Test pearson corr\tGO:0008150\t0.822806\n"
     ]
    }
   ],
   "source": [
    "!rm -rf Result_sample && mkdir Result_sample \n",
    "!rm -rf Hidden_sample/ && mkdir Hidden_sample\n",
    "\n",
    "!python code/predict_drugcell_cpu.py \\\n",
    "            -gene2id data/gene2ind.txt \\\n",
    "            -cell2id data/cell2ind.txt \\\n",
    "            -drug2id data/drug2ind.txt \\\n",
    "            -genotype data/cell2mutation.txt \\\n",
    "            -fingerprint data/drug2fingerprint.txt \\\n",
    "            -hidden Hidden_sample \\\n",
    "            -result Result_sample \\\n",
    "            -load pretrained_model/drugcell_v1.pt \\\n",
    "            -predict data/drugcell_test.txt"
   ]
  },
  {
   "cell_type": "markdown",
   "metadata": {},
   "source": [
    "# rcellminer data"
   ]
  },
  {
   "cell_type": "code",
   "execution_count": 4,
   "metadata": {
    "scrolled": true
   },
   "outputs": [
    {
     "name": "stdout",
     "output_type": "stream",
     "text": [
      "Total number of cell lines = 1225\n",
      "Total number of drugs = 684\n",
      "printing drug features\n",
      "[[0. 1. 1. ... 0. 0. 0.]\n",
      " [0. 0. 0. ... 0. 0. 0.]\n",
      " [0. 0. 0. ... 0. 0. 0.]\n",
      " ...\n",
      " [0. 0. 0. ... 0. 0. 0.]\n",
      " [0. 0. 0. ... 0. 0. 0.]\n",
      " [0. 0. 0. ... 0. 0. 0.]]\n",
      "/Users/yoshitakainoue/code/graph_neural_network_drug_response/.venv/lib/python3.9/site-packages/torch/serialization.py:786: SourceChangeWarning: source code of class 'drugcell_NN.drugcell_nn' has changed. you can retrieve the original source code by accessing the object's source attribute or set `torch.nn.Module.dump_patches = True` and use the patch tool to revert the changes.\n",
      "  warnings.warn(msg, SourceChangeWarning)\n",
      "/Users/yoshitakainoue/code/graph_neural_network_drug_response/.venv/lib/python3.9/site-packages/torch/serialization.py:786: SourceChangeWarning: source code of class 'torch.nn.modules.linear.Linear' has changed. you can retrieve the original source code by accessing the object's source attribute or set `torch.nn.Module.dump_patches = True` and use the patch tool to revert the changes.\n",
      "  warnings.warn(msg, SourceChangeWarning)\n",
      "/Users/yoshitakainoue/code/graph_neural_network_drug_response/.venv/lib/python3.9/site-packages/torch/serialization.py:786: SourceChangeWarning: source code of class 'torch.nn.modules.batchnorm.BatchNorm1d' has changed. you can retrieve the original source code by accessing the object's source attribute or set `torch.nn.Module.dump_patches = True` and use the patch tool to revert the changes.\n",
      "  warnings.warn(msg, SourceChangeWarning)\n",
      "Test pearson corr\tGO:0008150\t-0.058572\n"
     ]
    }
   ],
   "source": [
    "!rm -rf Result_sample && mkdir Result_sample \n",
    "!rm -rf Hidden_sample/ && mkdir Hidden_sample\n",
    "\n",
    "!python code/predict_drugcell_cpu.py \\\n",
    "            -gene2id data/gene2ind.txt \\\n",
    "            -cell2id data/cell2ind.txt \\\n",
    "            -drug2id data/drug2ind.txt \\\n",
    "            -genotype data/cell2mutation.txt \\\n",
    "            -fingerprint data/drug2fingerprint.txt \\\n",
    "            -hidden Hidden_sample \\\n",
    "            -result Result_sample \\\n",
    "            -load pretrained_model/drugcell_v1.pt \\\n",
    "            -predict data/rcellminer_test.txt"
   ]
  },
  {
   "cell_type": "markdown",
   "metadata": {},
   "source": [
    "# rcellminer data without negative value"
   ]
  },
  {
   "cell_type": "code",
   "execution_count": 5,
   "metadata": {
    "scrolled": true
   },
   "outputs": [
    {
     "name": "stdout",
     "output_type": "stream",
     "text": [
      "Total number of cell lines = 1225\n",
      "Total number of drugs = 684\n",
      "printing drug features\n",
      "[[0. 1. 1. ... 0. 0. 0.]\n",
      " [0. 0. 0. ... 0. 0. 0.]\n",
      " [0. 0. 0. ... 0. 0. 0.]\n",
      " ...\n",
      " [0. 0. 0. ... 0. 0. 0.]\n",
      " [0. 0. 0. ... 0. 0. 0.]\n",
      " [0. 0. 0. ... 0. 0. 0.]]\n",
      "/Users/yoshitakainoue/code/graph_neural_network_drug_response/.venv/lib/python3.9/site-packages/torch/serialization.py:786: SourceChangeWarning: source code of class 'drugcell_NN.drugcell_nn' has changed. you can retrieve the original source code by accessing the object's source attribute or set `torch.nn.Module.dump_patches = True` and use the patch tool to revert the changes.\n",
      "  warnings.warn(msg, SourceChangeWarning)\n",
      "/Users/yoshitakainoue/code/graph_neural_network_drug_response/.venv/lib/python3.9/site-packages/torch/serialization.py:786: SourceChangeWarning: source code of class 'torch.nn.modules.linear.Linear' has changed. you can retrieve the original source code by accessing the object's source attribute or set `torch.nn.Module.dump_patches = True` and use the patch tool to revert the changes.\n",
      "  warnings.warn(msg, SourceChangeWarning)\n",
      "/Users/yoshitakainoue/code/graph_neural_network_drug_response/.venv/lib/python3.9/site-packages/torch/serialization.py:786: SourceChangeWarning: source code of class 'torch.nn.modules.batchnorm.BatchNorm1d' has changed. you can retrieve the original source code by accessing the object's source attribute or set `torch.nn.Module.dump_patches = True` and use the patch tool to revert the changes.\n",
      "  warnings.warn(msg, SourceChangeWarning)\n",
      "Test pearson corr\tGO:0008150\t0.072697\n"
     ]
    }
   ],
   "source": [
    "!rm -rf Result_sample && mkdir Result_sample \n",
    "!rm -rf Hidden_sample/ && mkdir Hidden_sample\n",
    "\n",
    "!python code/predict_drugcell_cpu.py \\\n",
    "            -gene2id data/gene2ind.txt \\\n",
    "            -cell2id data/cell2ind.txt \\\n",
    "            -drug2id data/drug2ind.txt \\\n",
    "            -genotype data/cell2mutation.txt \\\n",
    "            -fingerprint data/drug2fingerprint.txt \\\n",
    "            -hidden Hidden_sample \\\n",
    "            -result Result_sample \\\n",
    "            -load pretrained_model/drugcell_v1.pt \\\n",
    "            -predict data/rcellminer_test_remove_negative_values.txt"
   ]
  },
  {
   "cell_type": "markdown",
   "metadata": {},
   "source": [
    "# module for python script"
   ]
  },
  {
   "cell_type": "code",
   "execution_count": null,
   "metadata": {},
   "outputs": [],
   "source": [
    "from drugcell_prediction import predict_dcell"
   ]
  },
  {
   "cell_type": "code",
   "execution_count": null,
   "metadata": {
    "scrolled": false
   },
   "outputs": [],
   "source": [
    "!rm -rf Result_sample && mkdir Result_sample \n",
    "!rm -rf Hidden_sample/ && mkdir Hidden_sample\n",
    "\n",
    "predict_dcell(\n",
    "    '../data/drugcell_test.txt',\n",
    "    '../data/cell2ind.txt',\n",
    "    '../data/drug2ind.txt',\n",
    "    '../data/cell2mutation.txt',\n",
    "    '../data/drug2fingerprint.txt',\n",
    "    '../pretrained_model/drugcell_v1.pt',\n",
    "    'Hidden_sample',\n",
    "    'Result_sample'\n",
    ")"
   ]
  }
 ],
 "metadata": {
  "kernelspec": {
   "display_name": "Python 3 (ipykernel)",
   "language": "python",
   "name": "python3"
  },
  "language_info": {
   "codemirror_mode": {
    "name": "ipython",
    "version": 3
   },
   "file_extension": ".py",
   "mimetype": "text/x-python",
   "name": "python",
   "nbconvert_exporter": "python",
   "pygments_lexer": "ipython3",
   "version": "3.9.13"
  }
 },
 "nbformat": 4,
 "nbformat_minor": 4
}
