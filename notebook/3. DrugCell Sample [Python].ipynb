{
 "cells": [
  {
   "cell_type": "code",
   "execution_count": 1,
   "metadata": {
    "scrolled": true
   },
   "outputs": [],
   "source": [
    "import os\n",
    "import pandas as pd\n",
    "import numpy as np\n",
    "\n",
    "from os.path import exists\n",
    "\n",
    "!rm -rf ../DrugCell/ && git clone git@github.com:inoue0426/DrugCell.git\n",
    "\n",
    "os.chdir('../DrugCell/code')\n",
    "\n",
    "from drugcell_prediction import predict_dcell"
   ]
  },
  {
   "cell_type": "markdown",
   "metadata": {},
   "source": [
    "# Original Test Data"
   ]
  },
  {
   "cell_type": "code",
   "execution_count": 2,
   "metadata": {},
   "outputs": [],
   "source": [
    "test = '../data/drugcell_test.txt'\n",
    "cell2id = '../data/cell2ind.txt'\n",
    "drug2id = '../data/drug2ind.txt'\n",
    "cell2mut = '../data/cell2mutation.txt'\n",
    "drug2fp = '../data/drug2fingerprint.txt'\n",
    "model = '../pretrained_model/drugcell_v1.pt'\n",
    "hidden_path = 'Hidden_sample'\n",
    "res_path = 'Result_sample'"
   ]
  },
  {
   "cell_type": "code",
   "execution_count": 3,
   "metadata": {},
   "outputs": [],
   "source": [
    "if not exists(model):\n",
    "    model_ = model + '.zip'\n",
    "    !unzip $model_ -d ../pretrained_model/"
   ]
  },
  {
   "cell_type": "code",
   "execution_count": 4,
   "metadata": {
    "scrolled": false
   },
   "outputs": [
    {
     "name": "stdout",
     "output_type": "stream",
     "text": [
      "Total number of cell lines = 1225\n",
      "Total number of drugs = 684\n"
     ]
    },
    {
     "name": "stderr",
     "output_type": "stream",
     "text": [
      "/usr/local/lib/python3.9/site-packages/torch/serialization.py:786: SourceChangeWarning: source code of class 'drugcell_NN.drugcell_nn' has changed. you can retrieve the original source code by accessing the object's source attribute or set `torch.nn.Module.dump_patches = True` and use the patch tool to revert the changes.\n",
      "  warnings.warn(msg, SourceChangeWarning)\n",
      "/usr/local/lib/python3.9/site-packages/torch/serialization.py:786: SourceChangeWarning: source code of class 'torch.nn.modules.linear.Linear' has changed. you can retrieve the original source code by accessing the object's source attribute or set `torch.nn.Module.dump_patches = True` and use the patch tool to revert the changes.\n",
      "  warnings.warn(msg, SourceChangeWarning)\n",
      "/usr/local/lib/python3.9/site-packages/torch/serialization.py:786: SourceChangeWarning: source code of class 'torch.nn.modules.batchnorm.BatchNorm1d' has changed. you can retrieve the original source code by accessing the object's source attribute or set `torch.nn.Module.dump_patches = True` and use the patch tool to revert the changes.\n",
      "  warnings.warn(msg, SourceChangeWarning)\n"
     ]
    },
    {
     "name": "stdout",
     "output_type": "stream",
     "text": [
      "Test pearson corr\tGO:0008150\t0.822806\n"
     ]
    }
   ],
   "source": [
    "!rm -rf Result_sample && mkdir Result_sample \n",
    "!rm -rf Hidden_sample/ && mkdir Hidden_sample\n",
    "\n",
    "predict_dcell(\n",
    "    test=test,\n",
    "    cell2id=cell2id,\n",
    "    drug2id=drug2id,\n",
    "    cell2mut=cell2mut,\n",
    "    fingerprint=drug2fp,\n",
    "    model=model,\n",
    "    hidden_folder=hidden_path,\n",
    "    result_folder=res_path\n",
    ")"
   ]
  },
  {
   "cell_type": "markdown",
   "metadata": {},
   "source": [
    "# rcellminer data"
   ]
  },
  {
   "cell_type": "code",
   "execution_count": 5,
   "metadata": {},
   "outputs": [],
   "source": [
    "test = '../data/test_rcell.txt'\n",
    "cell2id = '../data/cell2ind.txt'\n",
    "drug2id = '../data/drug2ind_rcell.txt'\n",
    "cell2mut = '../data/cell2mutation.txt'\n",
    "drug2fp = '../data/mfp.txt'\n",
    "model = '../pretrained_model/model_0.pt'\n",
    "hidden_path = 'Hidden_sample'\n",
    "res_path = 'Result_sample'"
   ]
  },
  {
   "cell_type": "code",
   "execution_count": 6,
   "metadata": {
    "scrolled": true
   },
   "outputs": [
    {
     "name": "stdout",
     "output_type": "stream",
     "text": [
      "Archive:  ../pretrained_model/model_0.pt.zip\n",
      "  inflating: ../pretrained_model/model_0.pt  \n"
     ]
    }
   ],
   "source": [
    "if not exists(model):\n",
    "    model_ = model + '.zip'\n",
    "    !unzip $model_ -d ../pretrained_model/"
   ]
  },
  {
   "cell_type": "code",
   "execution_count": null,
   "metadata": {
    "scrolled": true
   },
   "outputs": [
    {
     "name": "stdout",
     "output_type": "stream",
     "text": [
      "Total number of cell lines = 1225\n",
      "Total number of drugs = 16522\n"
     ]
    }
   ],
   "source": [
    "!rm -rf Result_sample && mkdir Result_sample \n",
    "!rm -rf Hidden_sample/ && mkdir Hidden_sample\n",
    "\n",
    "predict_dcell(\n",
    "    test=test,\n",
    "    cell2id=cell2id,\n",
    "    drug2id=drug2id,\n",
    "    cell2mut=cell2mut,\n",
    "    fingerprint=drug2fp,\n",
    "    model=model,\n",
    "    hidden_folder=hidden_path,\n",
    "    result_folder=res_path\n",
    ")"
   ]
  }
 ],
 "metadata": {
  "kernelspec": {
   "display_name": "Python 3 (ipykernel)",
   "language": "python",
   "name": "python3"
  },
  "language_info": {
   "codemirror_mode": {
    "name": "ipython",
    "version": 3
   },
   "file_extension": ".py",
   "mimetype": "text/x-python",
   "name": "python",
   "nbconvert_exporter": "python",
   "pygments_lexer": "ipython3",
   "version": "3.9.13"
  }
 },
 "nbformat": 4,
 "nbformat_minor": 4
}
