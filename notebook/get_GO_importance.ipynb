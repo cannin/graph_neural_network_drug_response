{
 "cells": [
  {
   "cell_type": "code",
   "execution_count": 6,
   "metadata": {},
   "outputs": [],
   "source": [
    "import sys\n",
    "import pandas as pd\n",
    "import numpy as np\n",
    "import networkx as nx\n",
    "import matplotlib.pyplot as plt\n",
    "\n",
    "from IPython.display import Markdown\n",
    "from os import listdir\n",
    "from os.path import exists\n",
    "from tqdm import tqdm\n",
    "from joblib import Parallel, delayed\n",
    "from sklearn.decomposition import PCA\n",
    "\n",
    "import warnings\n",
    "\n",
    "warnings.filterwarnings(\"ignore\")"
   ]
  },
  {
   "cell_type": "code",
   "execution_count": 7,
   "metadata": {},
   "outputs": [],
   "source": [
    "def get_pca(hidden, hidden_data_path):\n",
    "    pca = pd.DataFrame()\n",
    "    \n",
    "    print(\"Start to calculate the PCA of each hidden layer.\")\n",
    "    for i in tqdm(hidden):\n",
    "        X = pd.read_csv(\n",
    "            hidden_data_path + i,\n",
    "            sep=\" \",\n",
    "            header=None,\n",
    "        )\n",
    "\n",
    "        X_pca = PCA(n_components=1).fit_transform(X)\n",
    "        pca = pd.concat([\n",
    "            pca, \n",
    "            pd.DataFrame(X_pca)\n",
    "        ], axis=1)\n",
    "\n",
    "    pca.columns = [i.split('.')[0] for i in hidden]\n",
    "\n",
    "    return pca"
   ]
  },
  {
   "cell_type": "code",
   "execution_count": 8,
   "metadata": {},
   "outputs": [],
   "source": [
    "def get_figure(PREFIX, tmp_pos, pubchem_id):\n",
    "    plt.bar(\n",
    "        list(tmp_pos.index)[:10],\n",
    "        tmp_pos[0][:10]\n",
    "    )\n",
    "    plt.xticks(rotation=45)\n",
    "    plt.xlabel('Top 10 GO terms')\n",
    "    plt.ylabel('PC1 score')\n",
    "    plt.savefig('./{}_top10_{}.png'.format(PREFIX, pubchem_id))\n",
    "    plt.show()\n",
    "    \n",
    "    plt.bar(\n",
    "        list(tmp_pos.index)[-10:],\n",
    "        tmp_pos[0][-10:]\n",
    "    )\n",
    "    plt.xticks(rotation=45)\n",
    "    plt.xlabel('Bottom 10 GO terms')\n",
    "    plt.ylabel('PC1 score')\n",
    "    plt.savefig('./{}_bottom10_{}.png'.format(PREFIX, pubchem_id))\n",
    "    plt.show()"
   ]
  },
  {
   "cell_type": "code",
   "execution_count": 9,
   "metadata": {},
   "outputs": [],
   "source": [
    "def get_importance(\n",
    "        hidden_data_path, \n",
    "        test, \n",
    "        SMILES_PubchemID_table_data_path,\n",
    "        pubchem_id\n",
    "    ):\n",
    "    hidden = listdir(hidden_data_path)\n",
    "    hidden = [i for i in hidden if \"GO\" in i]\n",
    "    \n",
    "    GO_terms = get_pca(hidden, hidden_data_path)\n",
    "    pubchem = pd.read_csv(\n",
    "        SMILES_PubchemID_table_data_path\n",
    "    )\n",
    "    \n",
    "    test = pd.read_csv(\n",
    "        test,\n",
    "        header=None,\n",
    "        sep='\\t'\n",
    "    )\n",
    "    \n",
    "    tmp = pubchem[pubchem['CID'] == pubchem_id]\n",
    "    tmp = test[test[1] == tmp['SMILES'].values[0]]\n",
    "    \n",
    "    tmp_pos = tmp[tmp[2] > 0] \n",
    "    tmp_neg = tmp[tmp[2] < 0] \n",
    "\n",
    "    tmp_pos= pd.DataFrame(\n",
    "        np.mean(GO_terms.loc[list(tmp_pos.index)])\n",
    "    ).sort_values(0, ascending=False)\n",
    "     \n",
    "    tmp_neg = pd.DataFrame(\n",
    "        np.mean(GO_terms.loc[list(tmp_neg.index)])\n",
    "    ).sort_values(0, ascending=False)\n",
    "    \n",
    "    tmp_pos.to_csv('importance_for_pos_{}.csv'.format(pubchem_id))\n",
    "    tmp_neg.to_csv('importance_for_neg_{}.csv'.format(pubchem_id))\n",
    "\n",
    "    get_figure('pos', tmp_pos, pubchem_id)\n",
    "    get_figure('neg', tmp_neg, pubchem_id)"
   ]
  },
  {
   "cell_type": "code",
   "execution_count": 10,
   "metadata": {
    "scrolled": true
   },
   "outputs": [
    {
     "name": "stdout",
     "output_type": "stream",
     "text": [
      "Start to calculate the PCA of each hidden layer.\n"
     ]
    },
    {
     "name": "stderr",
     "output_type": "stream",
     "text": [
      "100%|██████████| 2086/2086 [12:38<00:00,  2.75it/s]\n"
     ]
    },
    {
     "ename": "IndexError",
     "evalue": "index 0 is out of bounds for axis 0 with size 0",
     "output_type": "error",
     "traceback": [
      "\u001b[0;31m---------------------------------------------------------------------------\u001b[0m",
      "\u001b[0;31mIndexError\u001b[0m                                Traceback (most recent call last)",
      "Input \u001b[0;32mIn [10]\u001b[0m, in \u001b[0;36m<cell line: 1>\u001b[0;34m()\u001b[0m\n\u001b[0;32m----> 1\u001b[0m \u001b[43mget_importance\u001b[49m\u001b[43m(\u001b[49m\n\u001b[1;32m      2\u001b[0m \u001b[43m    \u001b[49m\u001b[38;5;124;43m'\u001b[39;49m\u001b[38;5;124;43m/export/scratch/inoue019/Hidden/\u001b[39;49m\u001b[38;5;124;43m'\u001b[39;49m\u001b[43m,\u001b[49m\u001b[43m \u001b[49m\n\u001b[1;32m      3\u001b[0m \u001b[43m    \u001b[49m\u001b[38;5;124;43m'\u001b[39;49m\u001b[38;5;124;43m../DrugCell/data_rcellminer/test_DNA.txt\u001b[39;49m\u001b[38;5;124;43m'\u001b[39;49m\u001b[43m,\u001b[49m\u001b[43m \u001b[49m\n\u001b[1;32m      4\u001b[0m \u001b[43m    \u001b[49m\u001b[38;5;124;43m\"\u001b[39;49m\u001b[38;5;124;43m../data/nsc_cid_smiles.csv\u001b[39;49m\u001b[38;5;124;43m\"\u001b[39;49m\u001b[43m,\u001b[49m\n\u001b[1;32m      5\u001b[0m \u001b[43m    \u001b[49m\u001b[38;5;241;43m24360\u001b[39;49m\n\u001b[1;32m      6\u001b[0m \u001b[43m)\u001b[49m\n",
      "Input \u001b[0;32mIn [9]\u001b[0m, in \u001b[0;36mget_importance\u001b[0;34m(hidden_data_path, test, SMILES_PubchemID_table_data_path, pubchem_id)\u001b[0m\n\u001b[1;32m     15\u001b[0m test \u001b[38;5;241m=\u001b[39m pd\u001b[38;5;241m.\u001b[39mread_csv(\n\u001b[1;32m     16\u001b[0m     test,\n\u001b[1;32m     17\u001b[0m     header\u001b[38;5;241m=\u001b[39m\u001b[38;5;28;01mNone\u001b[39;00m,\n\u001b[1;32m     18\u001b[0m     sep\u001b[38;5;241m=\u001b[39m\u001b[38;5;124m'\u001b[39m\u001b[38;5;130;01m\\t\u001b[39;00m\u001b[38;5;124m'\u001b[39m\n\u001b[1;32m     19\u001b[0m )\n\u001b[1;32m     21\u001b[0m tmp \u001b[38;5;241m=\u001b[39m pubchem[pubchem[\u001b[38;5;124m'\u001b[39m\u001b[38;5;124mCID\u001b[39m\u001b[38;5;124m'\u001b[39m] \u001b[38;5;241m==\u001b[39m pubchem_id]\n\u001b[0;32m---> 22\u001b[0m tmp \u001b[38;5;241m=\u001b[39m test[test[\u001b[38;5;241m1\u001b[39m] \u001b[38;5;241m==\u001b[39m \u001b[43mtmp\u001b[49m\u001b[43m[\u001b[49m\u001b[38;5;124;43m'\u001b[39;49m\u001b[38;5;124;43mSMILES\u001b[39;49m\u001b[38;5;124;43m'\u001b[39;49m\u001b[43m]\u001b[49m\u001b[38;5;241;43m.\u001b[39;49m\u001b[43mvalues\u001b[49m\u001b[43m[\u001b[49m\u001b[38;5;241;43m0\u001b[39;49m\u001b[43m]\u001b[49m]\n\u001b[1;32m     24\u001b[0m tmp_pos \u001b[38;5;241m=\u001b[39m tmp[tmp[\u001b[38;5;241m2\u001b[39m] \u001b[38;5;241m>\u001b[39m \u001b[38;5;241m0\u001b[39m] \n\u001b[1;32m     25\u001b[0m tmp_neg \u001b[38;5;241m=\u001b[39m tmp[tmp[\u001b[38;5;241m2\u001b[39m] \u001b[38;5;241m<\u001b[39m \u001b[38;5;241m0\u001b[39m] \n",
      "\u001b[0;31mIndexError\u001b[0m: index 0 is out of bounds for axis 0 with size 0"
     ]
    }
   ],
   "source": [
    "get_importance(\n",
    "    '/export/scratch/inoue019/Hidden/', \n",
    "    '../DrugCell/data_rcellminer/test_DNA.txt', \n",
    "    \"../data/nsc_cid_smiles.csv\",\n",
    "    24360\n",
    ")"
   ]
  },
  {
   "cell_type": "code",
   "execution_count": null,
   "metadata": {},
   "outputs": [],
   "source": []
  }
 ],
 "metadata": {
  "kernelspec": {
   "display_name": "gpu3",
   "language": "python",
   "name": "gpu3"
  },
  "language_info": {
   "codemirror_mode": {
    "name": "ipython",
    "version": 3
   },
   "file_extension": ".py",
   "mimetype": "text/x-python",
   "name": "python",
   "nbconvert_exporter": "python",
   "pygments_lexer": "ipython3",
   "version": "3.8.13"
  }
 },
 "nbformat": 4,
 "nbformat_minor": 2
}
