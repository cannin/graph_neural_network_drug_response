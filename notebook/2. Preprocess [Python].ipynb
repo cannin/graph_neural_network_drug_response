{
 "cells": [
  {
   "cell_type": "code",
   "execution_count": 1,
   "id": "5bdb980d",
   "metadata": {},
   "outputs": [],
   "source": [
    "import pandas as pd\n",
    "import numpy as np"
   ]
  },
  {
   "cell_type": "code",
   "execution_count": 2,
   "id": "4150dc6d",
   "metadata": {
    "scrolled": true
   },
   "outputs": [
    {
     "data": {
      "text/html": [
       "<div>\n",
       "<style scoped>\n",
       "    .dataframe tbody tr th:only-of-type {\n",
       "        vertical-align: middle;\n",
       "    }\n",
       "\n",
       "    .dataframe tbody tr th {\n",
       "        vertical-align: top;\n",
       "    }\n",
       "\n",
       "    .dataframe thead th {\n",
       "        text-align: right;\n",
       "    }\n",
       "</style>\n",
       "<table border=\"1\" class=\"dataframe\">\n",
       "  <thead>\n",
       "    <tr style=\"text-align: right;\">\n",
       "      <th></th>\n",
       "      <th>PUBCHEM_ID</th>\n",
       "    </tr>\n",
       "  </thead>\n",
       "  <tbody>\n",
       "    <tr>\n",
       "      <th>17</th>\n",
       "      <td>219123.0</td>\n",
       "    </tr>\n",
       "    <tr>\n",
       "      <th>295</th>\n",
       "      <td>4775.0</td>\n",
       "    </tr>\n",
       "    <tr>\n",
       "      <th>353</th>\n",
       "      <td>24180741.0</td>\n",
       "    </tr>\n",
       "    <tr>\n",
       "      <th>384</th>\n",
       "      <td>54599265.0</td>\n",
       "    </tr>\n",
       "    <tr>\n",
       "      <th>534</th>\n",
       "      <td>16685698.0</td>\n",
       "    </tr>\n",
       "  </tbody>\n",
       "</table>\n",
       "</div>"
      ],
      "text/plain": [
       "     PUBCHEM_ID\n",
       "17     219123.0\n",
       "295      4775.0\n",
       "353  24180741.0\n",
       "384  54599265.0\n",
       "534  16685698.0"
      ]
     },
     "execution_count": 2,
     "metadata": {},
     "output_type": "execute_result"
    }
   ],
   "source": [
    "# Create PubChem_id list\n",
    "pubchem_id = pd.read_csv('../DrugCell/data/pubchem_id_by_nsc.csv', index_col=0).dropna()\n",
    "pubchem_id\n",
    "pubchem_id['PUBCHEM_ID'].astype(int).to_csv('../DrugCell/data/pubchem_id.csv', index=None, header=None)\n",
    "pubchem_id.head()"
   ]
  },
  {
   "cell_type": "code",
   "execution_count": 3,
   "id": "1af15d4f",
   "metadata": {
    "scrolled": true
   },
   "outputs": [
    {
     "data": {
      "text/html": [
       "<div>\n",
       "<style scoped>\n",
       "    .dataframe tbody tr th:only-of-type {\n",
       "        vertical-align: middle;\n",
       "    }\n",
       "\n",
       "    .dataframe tbody tr th {\n",
       "        vertical-align: top;\n",
       "    }\n",
       "\n",
       "    .dataframe thead th {\n",
       "        text-align: right;\n",
       "    }\n",
       "</style>\n",
       "<table border=\"1\" class=\"dataframe\">\n",
       "  <thead>\n",
       "    <tr style=\"text-align: right;\">\n",
       "      <th></th>\n",
       "      <th>1</th>\n",
       "    </tr>\n",
       "  </thead>\n",
       "  <tbody>\n",
       "    <tr>\n",
       "      <th>17</th>\n",
       "      <td>CCCCCCCCCCCCCCCC1=C(C=CC(=C1)O)N</td>\n",
       "    </tr>\n",
       "    <tr>\n",
       "      <th>295</th>\n",
       "      <td>C1=CC=C(C=C1)CCCC(=O)O</td>\n",
       "    </tr>\n",
       "    <tr>\n",
       "      <th>353</th>\n",
       "      <td>CCN(CC)CCCNC1=C2C=C(C=CC2=NC3=C1C=CC(=C3)Cl)OC.Cl</td>\n",
       "    </tr>\n",
       "    <tr>\n",
       "      <th>384</th>\n",
       "      <td>CCCCCN(CCCCC)CCCNC1=C2CCCCC2=NC3=C1C=C(C=C3)Cl...</td>\n",
       "    </tr>\n",
       "    <tr>\n",
       "      <th>534</th>\n",
       "      <td>CC(=O)O[Hg].C1=CC=C2C(=C1)C=CC3=CC=CC=C32</td>\n",
       "    </tr>\n",
       "  </tbody>\n",
       "</table>\n",
       "</div>"
      ],
      "text/plain": [
       "                                                     1\n",
       "17                    CCCCCCCCCCCCCCCC1=C(C=CC(=C1)O)N\n",
       "295                             C1=CC=C(C=C1)CCCC(=O)O\n",
       "353  CCN(CC)CCCNC1=C2C=C(C=CC2=NC3=C1C=CC(=C3)Cl)OC.Cl\n",
       "384  CCCCCN(CCCCC)CCCNC1=C2CCCCC2=NC3=C1C=C(C=C3)Cl...\n",
       "534          CC(=O)O[Hg].C1=CC=C2C(=C1)C=CC3=CC=CC=C32"
      ]
     },
     "execution_count": 3,
     "metadata": {},
     "output_type": "execute_result"
    }
   ],
   "source": [
    "#  Get SMILES from PubChem ID  https://pubchem.ncbi.nlm.nih.gov/idexchange/idexchange.cgi\n",
    "tmp = pd.read_table('../DrugCell/data/SMILES_from_PubchemID.txt', header=None)\n",
    "tmp.index = pubchem_id.index\n",
    "tmp = tmp.drop(0, axis=1)\n",
    "tmp.head()"
   ]
  },
  {
   "cell_type": "code",
   "execution_count": 4,
   "id": "91c78f96",
   "metadata": {
    "scrolled": true
   },
   "outputs": [],
   "source": [
    "train = pd.read_table('../DrugCell/data/drugcell_train.txt', header=None)\n",
    "drugAnnot = pd.DataFrame()\n",
    "\n",
    "for i in set(train[1]):\n",
    "    drugAnnot = pd.concat([drugAnnot, tmp[tmp[1] == i]])\n",
    "\n",
    "drugAnnot = drugAnnot.sort_index()\n",
    "drugAnnot.columns = ['SMILES']"
   ]
  },
  {
   "cell_type": "code",
   "execution_count": 5,
   "id": "b582d503",
   "metadata": {},
   "outputs": [
    {
     "data": {
      "text/html": [
       "<div>\n",
       "<style scoped>\n",
       "    .dataframe tbody tr th:only-of-type {\n",
       "        vertical-align: middle;\n",
       "    }\n",
       "\n",
       "    .dataframe tbody tr th {\n",
       "        vertical-align: top;\n",
       "    }\n",
       "\n",
       "    .dataframe thead th {\n",
       "        text-align: right;\n",
       "    }\n",
       "</style>\n",
       "<table border=\"1\" class=\"dataframe\">\n",
       "  <thead>\n",
       "    <tr style=\"text-align: right;\">\n",
       "      <th></th>\n",
       "      <th>SMILES</th>\n",
       "    </tr>\n",
       "  </thead>\n",
       "  <tbody>\n",
       "    <tr>\n",
       "      <th>740</th>\n",
       "      <td>CN(CC1=CN=C2C(=N1)C(=NC(=N2)N)N)C3=CC=C(C=C3)C...</td>\n",
       "    </tr>\n",
       "    <tr>\n",
       "      <th>19630</th>\n",
       "      <td>CCC(=O)OCN1C(=O)C=CC1=O</td>\n",
       "    </tr>\n",
       "    <tr>\n",
       "      <th>26980</th>\n",
       "      <td>CC1=C(C(=O)C2=C(C1=O)N3C[C@H]4[C@@H]([C@@]3([C...</td>\n",
       "    </tr>\n",
       "    <tr>\n",
       "      <th>48300</th>\n",
       "      <td>C1=CC(=CC=C1CC2=CC=C(C=C2)[As](=O)(O)O)[As](=O...</td>\n",
       "    </tr>\n",
       "    <tr>\n",
       "      <th>60043</th>\n",
       "      <td>C1=CC=C2C=C3C(=CC2=C1)NC(=N3)CNC4=CC=C(C=C4)C(...</td>\n",
       "    </tr>\n",
       "  </tbody>\n",
       "</table>\n",
       "</div>"
      ],
      "text/plain": [
       "                                                  SMILES\n",
       "740    CN(CC1=CN=C2C(=N1)C(=NC(=N2)N)N)C3=CC=C(C=C3)C...\n",
       "19630                            CCC(=O)OCN1C(=O)C=CC1=O\n",
       "26980  CC1=C(C(=O)C2=C(C1=O)N3C[C@H]4[C@@H]([C@@]3([C...\n",
       "48300  C1=CC(=CC=C1CC2=CC=C(C=C2)[As](=O)(O)O)[As](=O...\n",
       "60043  C1=CC=C2C=C3C(=CC2=C1)NC(=N3)CNC4=CC=C(C=C4)C(..."
      ]
     },
     "execution_count": 5,
     "metadata": {},
     "output_type": "execute_result"
    }
   ],
   "source": [
    "drugAnnot.head()"
   ]
  },
  {
   "cell_type": "code",
   "execution_count": 6,
   "id": "45979971",
   "metadata": {},
   "outputs": [],
   "source": [
    "nci60Act = pd.read_csv('../DrugCell/data/nci60Act.csv', index_col=0)\n",
    "nci60Act = nci60Act.rename(\n",
    "    columns={\n",
    "        'BR:HS 578T': 'BR:HS 578 T', \n",
    "        'BR:T-47D': 'BR:T47D',\n",
    "        'CNS:SF-295': 'CNS:SF295',\n",
    "        'CNS:SNB-19': 'CNS:SNB19',\n",
    "        'CO:HT29': 'CO:HT 29',\n",
    "        'CO:SW-620': 'SW620',\n",
    "        'LE:HL-60(TB)': 'LE:HL-60',\n",
    "        'ME:LOX IMVI': 'ME:LOXIMVI',\n",
    "        'LC:A549/ATCC': 'LC:A549',\n",
    "        'OV:IGROV1': 'OV:IGROV 1'\n",
    "    }\n",
    ")\n",
    "\n",
    "nci60Act = nci60Act.drop([\n",
    "    'CNS:SF-268', 'CNS:SF-539', 'CNS:SNB-75', \n",
    "    'CO:HCC-2998', 'LE:CCRF-CEM', 'ME:M14',\n",
    "    'ME:MDA-N', 'LC:EKVX', 'LC:HOP-62', \n",
    "    'LC:HOP-92', 'OV:OVCAR-5', 'OV:NCI/ADR-RES',\n",
    "    'RE:RXF 393', 'RE:SN12C', 'RE:TK-10', 'RE:UO-31'\n",
    "], axis=1)"
   ]
  },
  {
   "cell_type": "code",
   "execution_count": 7,
   "id": "0194f23b",
   "metadata": {
    "scrolled": true
   },
   "outputs": [],
   "source": [
    "col = []\n",
    "for i in nci60Act.columns:\n",
    "    tmp = i.split(':')\n",
    "    if len(tmp) == 2:\n",
    "        col.append(tmp[1])\n",
    "    else:\n",
    "        col.append(tmp[0])\n",
    "\n",
    "nci60Act.columns = col"
   ]
  },
  {
   "cell_type": "code",
   "execution_count": 8,
   "id": "3f41e59e",
   "metadata": {},
   "outputs": [],
   "source": [
    "sanger_cell_lines = pd.read_table('../DrugCell/data/sanger_cell_lines.txt')[[\n",
    "    'Sanger name', 'CCLE Label'\n",
    "]].dropna().reset_index(drop=True)"
   ]
  },
  {
   "cell_type": "code",
   "execution_count": 9,
   "id": "4ef4fd88",
   "metadata": {},
   "outputs": [],
   "source": [
    "ccle_dict = {\n",
    "    i.upper():j for i,j in zip(\n",
    "        sanger_cell_lines['Sanger name'], \n",
    "        sanger_cell_lines['CCLE Label']\n",
    "    )\n",
    "}"
   ]
  },
  {
   "cell_type": "code",
   "execution_count": 10,
   "id": "b32c788b",
   "metadata": {},
   "outputs": [
    {
     "data": {
      "text/html": [
       "<div>\n",
       "<style scoped>\n",
       "    .dataframe tbody tr th:only-of-type {\n",
       "        vertical-align: middle;\n",
       "    }\n",
       "\n",
       "    .dataframe tbody tr th {\n",
       "        vertical-align: top;\n",
       "    }\n",
       "\n",
       "    .dataframe thead th {\n",
       "        text-align: right;\n",
       "    }\n",
       "</style>\n",
       "<table border=\"1\" class=\"dataframe\">\n",
       "  <thead>\n",
       "    <tr style=\"text-align: right;\">\n",
       "      <th></th>\n",
       "      <th>Sanger name</th>\n",
       "      <th>CCLE Label</th>\n",
       "    </tr>\n",
       "  </thead>\n",
       "  <tbody>\n",
       "    <tr>\n",
       "      <th>0</th>\n",
       "      <td>DMS-53</td>\n",
       "      <td>DMS53_LUNG</td>\n",
       "    </tr>\n",
       "    <tr>\n",
       "      <th>1</th>\n",
       "      <td>SW1116</td>\n",
       "      <td>SW1116_LARGE_INTESTINE</td>\n",
       "    </tr>\n",
       "    <tr>\n",
       "      <th>2</th>\n",
       "      <td>UM-UC-3</td>\n",
       "      <td>UMUC3_URINARY_TRACT</td>\n",
       "    </tr>\n",
       "    <tr>\n",
       "      <th>3</th>\n",
       "      <td>HOS</td>\n",
       "      <td>HOS_BONE</td>\n",
       "    </tr>\n",
       "    <tr>\n",
       "      <th>4</th>\n",
       "      <td>RVH-421</td>\n",
       "      <td>RVH421_SKIN</td>\n",
       "    </tr>\n",
       "  </tbody>\n",
       "</table>\n",
       "</div>"
      ],
      "text/plain": [
       "  Sanger name              CCLE Label\n",
       "0      DMS-53              DMS53_LUNG\n",
       "1      SW1116  SW1116_LARGE_INTESTINE\n",
       "2     UM-UC-3     UMUC3_URINARY_TRACT\n",
       "3         HOS                HOS_BONE\n",
       "4     RVH-421             RVH421_SKIN"
      ]
     },
     "execution_count": 10,
     "metadata": {},
     "output_type": "execute_result"
    }
   ],
   "source": [
    "sanger_cell_lines.head()"
   ]
  },
  {
   "cell_type": "code",
   "execution_count": 11,
   "id": "b753b93f",
   "metadata": {},
   "outputs": [],
   "source": [
    "nci60Act.columns = [\n",
    "    ccle_dict[i.replace(' ', '-')] for i in nci60Act.columns\n",
    "]"
   ]
  },
  {
   "cell_type": "code",
   "execution_count": 12,
   "id": "727cb52e",
   "metadata": {
    "scrolled": true
   },
   "outputs": [],
   "source": [
    "base = pd.DataFrame()\n",
    "for i in nci60Act.columns:\n",
    "    tmp = pd.DataFrame((nci60Act[i].dropna()))\n",
    "    tmp.columns = ['Drug Response']\n",
    "    tmp['Cell Line'] = [i]*len(tmp)\n",
    "    tmp = pd.merge(tmp, drugAnnot, left_index=True, right_index=True)\n",
    "    base = pd.concat([base, tmp])\n",
    "    \n",
    "base = base[['Cell Line', 'SMILES', 'Drug Response']]\n",
    "base = base.reset_index(drop=True)"
   ]
  },
  {
   "cell_type": "code",
   "execution_count": 13,
   "id": "2b776668",
   "metadata": {
    "scrolled": false
   },
   "outputs": [
    {
     "data": {
      "text/html": [
       "<div>\n",
       "<style scoped>\n",
       "    .dataframe tbody tr th:only-of-type {\n",
       "        vertical-align: middle;\n",
       "    }\n",
       "\n",
       "    .dataframe tbody tr th {\n",
       "        vertical-align: top;\n",
       "    }\n",
       "\n",
       "    .dataframe thead th {\n",
       "        text-align: right;\n",
       "    }\n",
       "</style>\n",
       "<table border=\"1\" class=\"dataframe\">\n",
       "  <thead>\n",
       "    <tr style=\"text-align: right;\">\n",
       "      <th></th>\n",
       "      <th>Cell Line</th>\n",
       "      <th>SMILES</th>\n",
       "      <th>Drug Response</th>\n",
       "    </tr>\n",
       "  </thead>\n",
       "  <tbody>\n",
       "    <tr>\n",
       "      <th>0</th>\n",
       "      <td>MCF7_BREAST</td>\n",
       "      <td>CN(CC1=CN=C2C(=N1)C(=NC(=N2)N)N)C3=CC=C(C=C3)C...</td>\n",
       "      <td>0.703626</td>\n",
       "    </tr>\n",
       "    <tr>\n",
       "      <th>1</th>\n",
       "      <td>MCF7_BREAST</td>\n",
       "      <td>CCC(=O)OCN1C(=O)C=CC1=O</td>\n",
       "      <td>-0.496895</td>\n",
       "    </tr>\n",
       "    <tr>\n",
       "      <th>2</th>\n",
       "      <td>MCF7_BREAST</td>\n",
       "      <td>CC1=C(C(=O)C2=C(C1=O)N3C[C@H]4[C@@H]([C@@]3([C...</td>\n",
       "      <td>1.178418</td>\n",
       "    </tr>\n",
       "    <tr>\n",
       "      <th>3</th>\n",
       "      <td>MCF7_BREAST</td>\n",
       "      <td>C1=CC(=CC=C1CC2=CC=C(C=C2)[As](=O)(O)O)[As](=O...</td>\n",
       "      <td>1.219245</td>\n",
       "    </tr>\n",
       "    <tr>\n",
       "      <th>4</th>\n",
       "      <td>MCF7_BREAST</td>\n",
       "      <td>C1=CC=C2C=C3C(=CC2=C1)NC(=N3)CNC4=CC=C(C=C4)C(...</td>\n",
       "      <td>2.688648</td>\n",
       "    </tr>\n",
       "  </tbody>\n",
       "</table>\n",
       "</div>"
      ],
      "text/plain": [
       "     Cell Line                                             SMILES  \\\n",
       "0  MCF7_BREAST  CN(CC1=CN=C2C(=N1)C(=NC(=N2)N)N)C3=CC=C(C=C3)C...   \n",
       "1  MCF7_BREAST                            CCC(=O)OCN1C(=O)C=CC1=O   \n",
       "2  MCF7_BREAST  CC1=C(C(=O)C2=C(C1=O)N3C[C@H]4[C@@H]([C@@]3([C...   \n",
       "3  MCF7_BREAST  C1=CC(=CC=C1CC2=CC=C(C=C2)[As](=O)(O)O)[As](=O...   \n",
       "4  MCF7_BREAST  C1=CC=C2C=C3C(=CC2=C1)NC(=N3)CNC4=CC=C(C=C4)C(...   \n",
       "\n",
       "   Drug Response  \n",
       "0       0.703626  \n",
       "1      -0.496895  \n",
       "2       1.178418  \n",
       "3       1.219245  \n",
       "4       2.688648  "
      ]
     },
     "execution_count": 13,
     "metadata": {},
     "output_type": "execute_result"
    }
   ],
   "source": [
    "base.head()"
   ]
  },
  {
   "cell_type": "code",
   "execution_count": 14,
   "id": "76553ed9",
   "metadata": {},
   "outputs": [],
   "source": [
    "test = pd.DataFrame()\n",
    "for i in set(train[0]):\n",
    "    t = (base[base['Cell Line'] == i])\n",
    "    if len(t) > 0:\n",
    "        test = pd.concat([test, t])\n",
    "\n",
    "test = test.reset_index(drop=True)"
   ]
  },
  {
   "cell_type": "code",
   "execution_count": 15,
   "id": "2399d5ec",
   "metadata": {},
   "outputs": [
    {
     "data": {
      "text/html": [
       "<div>\n",
       "<style scoped>\n",
       "    .dataframe tbody tr th:only-of-type {\n",
       "        vertical-align: middle;\n",
       "    }\n",
       "\n",
       "    .dataframe tbody tr th {\n",
       "        vertical-align: top;\n",
       "    }\n",
       "\n",
       "    .dataframe thead th {\n",
       "        text-align: right;\n",
       "    }\n",
       "</style>\n",
       "<table border=\"1\" class=\"dataframe\">\n",
       "  <thead>\n",
       "    <tr style=\"text-align: right;\">\n",
       "      <th></th>\n",
       "      <th>Cell Line</th>\n",
       "      <th>SMILES</th>\n",
       "      <th>Drug Response</th>\n",
       "    </tr>\n",
       "  </thead>\n",
       "  <tbody>\n",
       "    <tr>\n",
       "      <th>0</th>\n",
       "      <td>786O_KIDNEY</td>\n",
       "      <td>CN(CC1=CN=C2C(=N1)C(=NC(=N2)N)N)C3=CC=C(C=C3)C...</td>\n",
       "      <td>0.682664</td>\n",
       "    </tr>\n",
       "    <tr>\n",
       "      <th>1</th>\n",
       "      <td>786O_KIDNEY</td>\n",
       "      <td>CCC(=O)OCN1C(=O)C=CC1=O</td>\n",
       "      <td>0.924344</td>\n",
       "    </tr>\n",
       "    <tr>\n",
       "      <th>2</th>\n",
       "      <td>786O_KIDNEY</td>\n",
       "      <td>CC1=C(C(=O)C2=C(C1=O)N3C[C@H]4[C@@H]([C@@]3([C...</td>\n",
       "      <td>0.328549</td>\n",
       "    </tr>\n",
       "    <tr>\n",
       "      <th>3</th>\n",
       "      <td>786O_KIDNEY</td>\n",
       "      <td>C1=CC(=CC=C1CC2=CC=C(C=C2)[As](=O)(O)O)[As](=O...</td>\n",
       "      <td>0.945579</td>\n",
       "    </tr>\n",
       "    <tr>\n",
       "      <th>4</th>\n",
       "      <td>786O_KIDNEY</td>\n",
       "      <td>C1=CC=C2C=C3C(=CC2=C1)NC(=N3)CNC4=CC=C(C=C4)C(...</td>\n",
       "      <td>-0.301961</td>\n",
       "    </tr>\n",
       "  </tbody>\n",
       "</table>\n",
       "</div>"
      ],
      "text/plain": [
       "     Cell Line                                             SMILES  \\\n",
       "0  786O_KIDNEY  CN(CC1=CN=C2C(=N1)C(=NC(=N2)N)N)C3=CC=C(C=C3)C...   \n",
       "1  786O_KIDNEY                            CCC(=O)OCN1C(=O)C=CC1=O   \n",
       "2  786O_KIDNEY  CC1=C(C(=O)C2=C(C1=O)N3C[C@H]4[C@@H]([C@@]3([C...   \n",
       "3  786O_KIDNEY  C1=CC(=CC=C1CC2=CC=C(C=C2)[As](=O)(O)O)[As](=O...   \n",
       "4  786O_KIDNEY  C1=CC=C2C=C3C(=CC2=C1)NC(=N3)CNC4=CC=C(C=C4)C(...   \n",
       "\n",
       "   Drug Response  \n",
       "0       0.682664  \n",
       "1       0.924344  \n",
       "2       0.328549  \n",
       "3       0.945579  \n",
       "4      -0.301961  "
      ]
     },
     "execution_count": 15,
     "metadata": {},
     "output_type": "execute_result"
    }
   ],
   "source": [
    "test.head()"
   ]
  },
  {
   "cell_type": "code",
   "execution_count": 16,
   "id": "4c96f9f7",
   "metadata": {
    "scrolled": true
   },
   "outputs": [],
   "source": [
    "test.to_csv(\n",
    "    '../DrugCell/data/rcellminer_test.txt', sep='\\t', \n",
    "    header=None, index=None\n",
    ")"
   ]
  }
 ],
 "metadata": {
  "kernelspec": {
   "display_name": "Python 3 (ipykernel)",
   "language": "python",
   "name": "python3"
  },
  "language_info": {
   "codemirror_mode": {
    "name": "ipython",
    "version": 3
   },
   "file_extension": ".py",
   "mimetype": "text/x-python",
   "name": "python",
   "nbconvert_exporter": "python",
   "pygments_lexer": "ipython3",
   "version": "3.9.13"
  }
 },
 "nbformat": 4,
 "nbformat_minor": 5
}
