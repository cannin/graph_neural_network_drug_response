{
 "cells": [
  {
   "cell_type": "code",
   "execution_count": 24,
   "id": "5bdb980d",
   "metadata": {},
   "outputs": [],
   "source": [
    "import pandas as pd\n",
    "import numpy as np"
   ]
  },
  {
   "cell_type": "code",
   "execution_count": 25,
   "id": "4150dc6d",
   "metadata": {
    "scrolled": true
   },
   "outputs": [
    {
     "data": {
      "text/plain": [
       "(16522, 1)"
      ]
     },
     "execution_count": 25,
     "metadata": {},
     "output_type": "execute_result"
    }
   ],
   "source": [
    "# Create PubChem_id list\n",
    "pubchem_id = pd.read_csv('../DrugCell/data/pubchem_id_by_nsc.csv', index_col=0).dropna()\n",
    "pubchem_id\n",
    "pubchem_id['PUBCHEM_ID'].astype(int).to_csv('../DrugCell/data/pubchem_id.csv', index=None, header=None)\n",
    "pubchem_id.shape"
   ]
  },
  {
   "cell_type": "code",
   "execution_count": 26,
   "id": "1af15d4f",
   "metadata": {
    "scrolled": false
   },
   "outputs": [
    {
     "data": {
      "text/plain": [
       "(16522, 1)"
      ]
     },
     "execution_count": 26,
     "metadata": {},
     "output_type": "execute_result"
    }
   ],
   "source": [
    "#  Get SMILES from PubChem ID  https://pubchem.ncbi.nlm.nih.gov/idexchange/idexchange.cgi\n",
    "tmp = pd.read_table('../DrugCell/data/SMILES_from_PubchemID.txt', header=None)\n",
    "tmp.index = pubchem_id.index\n",
    "tmp = tmp.drop(0, axis=1)\n",
    "tmp.shape"
   ]
  },
  {
   "cell_type": "code",
   "execution_count": 27,
   "id": "91c78f96",
   "metadata": {
    "scrolled": true
   },
   "outputs": [],
   "source": [
    "train = pd.read_table('../DrugCell/data/drugcell_train.txt', header=None)\n",
    "drugAnnot = pd.DataFrame()\n",
    "\n",
    "for i in set(train[1]):\n",
    "    drugAnnot = pd.concat([drugAnnot, tmp[tmp[1] == i]])\n",
    "\n",
    "drugAnnot = drugAnnot.sort_index()\n",
    "drugAnnot.columns = ['SMILES']"
   ]
  },
  {
   "cell_type": "code",
   "execution_count": 33,
   "id": "b582d503",
   "metadata": {
    "scrolled": true
   },
   "outputs": [
    {
     "data": {
      "text/html": [
       "<div>\n",
       "<style scoped>\n",
       "    .dataframe tbody tr th:only-of-type {\n",
       "        vertical-align: middle;\n",
       "    }\n",
       "\n",
       "    .dataframe tbody tr th {\n",
       "        vertical-align: top;\n",
       "    }\n",
       "\n",
       "    .dataframe thead th {\n",
       "        text-align: right;\n",
       "    }\n",
       "</style>\n",
       "<table border=\"1\" class=\"dataframe\">\n",
       "  <thead>\n",
       "    <tr style=\"text-align: right;\">\n",
       "      <th></th>\n",
       "      <th>0</th>\n",
       "      <th>1</th>\n",
       "      <th>2</th>\n",
       "    </tr>\n",
       "  </thead>\n",
       "  <tbody>\n",
       "    <tr>\n",
       "      <th>0</th>\n",
       "      <td>KYSE450_OESOPHAGUS</td>\n",
       "      <td>C1CC(=O)NC(=O)C1N2C(=O)C3=CC=CC=C3C2=O</td>\n",
       "      <td>1.006587</td>\n",
       "    </tr>\n",
       "    <tr>\n",
       "      <th>1</th>\n",
       "      <td>SUDHL1_HAEMATOPOIETIC_AND_LYMPHOID_TISSUE</td>\n",
       "      <td>C1CN(CCN1)C(=O)C2=CC=C(C=C2)/C=C/C3=NNC4=CC=CC...</td>\n",
       "      <td>0.705210</td>\n",
       "    </tr>\n",
       "    <tr>\n",
       "      <th>2</th>\n",
       "      <td>OCIAML3_HAEMATOPOIETIC_AND_LYMPHOID_TISSUE</td>\n",
       "      <td>COC1=C(C=C2C(=C1)N=CN=C2NC3=CC(=C(C=C3)F)Cl)OC...</td>\n",
       "      <td>0.885490</td>\n",
       "    </tr>\n",
       "    <tr>\n",
       "      <th>3</th>\n",
       "      <td>SCC9_UPPER_AERODIGESTIVE_TRACT</td>\n",
       "      <td>C1=CC=C2C(=C1)C3=CC=CC=C3N2CCC4=NC5=CC=CC=C5N4</td>\n",
       "      <td>0.955772</td>\n",
       "    </tr>\n",
       "    <tr>\n",
       "      <th>4</th>\n",
       "      <td>SNU489_CENTRAL_NERVOUS_SYSTEM</td>\n",
       "      <td>CCCCCCCCCCC(C)(C)C(=O)NC1=C(C=C(C=C1OC)OC)OC</td>\n",
       "      <td>1.012310</td>\n",
       "    </tr>\n",
       "    <tr>\n",
       "      <th>...</th>\n",
       "      <td>...</td>\n",
       "      <td>...</td>\n",
       "      <td>...</td>\n",
       "    </tr>\n",
       "    <tr>\n",
       "      <th>9995</th>\n",
       "      <td>MC116_HAEMATOPOIETIC_AND_LYMPHOID_TISSUE</td>\n",
       "      <td>CNC(=O)C1=NC=CC(=C1)OC2=CC=C(C=C2)NC(=O)NC3=CC...</td>\n",
       "      <td>0.965572</td>\n",
       "    </tr>\n",
       "    <tr>\n",
       "      <th>9996</th>\n",
       "      <td>LS123_LARGE_INTESTINE</td>\n",
       "      <td>C[C@]12CC[C@@]3(CCC(C[C@@H]3[C@@H]1C(=O)C=C4[C...</td>\n",
       "      <td>0.777269</td>\n",
       "    </tr>\n",
       "    <tr>\n",
       "      <th>9997</th>\n",
       "      <td>BE13_HAEMATOPOIETIC_AND_LYMPHOID_TISSUE</td>\n",
       "      <td>CC1=NC=C(C=C1)OC2=C(C=C(C=C2)NC3=NC=NC4=C3C=C(...</td>\n",
       "      <td>0.924181</td>\n",
       "    </tr>\n",
       "    <tr>\n",
       "      <th>9998</th>\n",
       "      <td>KMH2_HAEMATOPOIETIC_AND_LYMPHOID_TISSUE</td>\n",
       "      <td>CCOC(=O)C1=C(SC2=C1CC(NC2(C)C)(C)C)NC(=O)C3=CC...</td>\n",
       "      <td>0.953433</td>\n",
       "    </tr>\n",
       "    <tr>\n",
       "      <th>9999</th>\n",
       "      <td>HS944T_SKIN</td>\n",
       "      <td>C1=CN(C(=O)N=C1N)[C@H]2[C@H]([C@@H]([C@H](O2)C...</td>\n",
       "      <td>0.854352</td>\n",
       "    </tr>\n",
       "  </tbody>\n",
       "</table>\n",
       "<p>10000 rows × 3 columns</p>\n",
       "</div>"
      ],
      "text/plain": [
       "                                               0  \\\n",
       "0                             KYSE450_OESOPHAGUS   \n",
       "1      SUDHL1_HAEMATOPOIETIC_AND_LYMPHOID_TISSUE   \n",
       "2     OCIAML3_HAEMATOPOIETIC_AND_LYMPHOID_TISSUE   \n",
       "3                 SCC9_UPPER_AERODIGESTIVE_TRACT   \n",
       "4                  SNU489_CENTRAL_NERVOUS_SYSTEM   \n",
       "...                                          ...   \n",
       "9995    MC116_HAEMATOPOIETIC_AND_LYMPHOID_TISSUE   \n",
       "9996                       LS123_LARGE_INTESTINE   \n",
       "9997     BE13_HAEMATOPOIETIC_AND_LYMPHOID_TISSUE   \n",
       "9998     KMH2_HAEMATOPOIETIC_AND_LYMPHOID_TISSUE   \n",
       "9999                                 HS944T_SKIN   \n",
       "\n",
       "                                                      1         2  \n",
       "0                C1CC(=O)NC(=O)C1N2C(=O)C3=CC=CC=C3C2=O  1.006587  \n",
       "1     C1CN(CCN1)C(=O)C2=CC=C(C=C2)/C=C/C3=NNC4=CC=CC...  0.705210  \n",
       "2     COC1=C(C=C2C(=C1)N=CN=C2NC3=CC(=C(C=C3)F)Cl)OC...  0.885490  \n",
       "3        C1=CC=C2C(=C1)C3=CC=CC=C3N2CCC4=NC5=CC=CC=C5N4  0.955772  \n",
       "4          CCCCCCCCCCC(C)(C)C(=O)NC1=C(C=C(C=C1OC)OC)OC  1.012310  \n",
       "...                                                 ...       ...  \n",
       "9995  CNC(=O)C1=NC=CC(=C1)OC2=CC=C(C=C2)NC(=O)NC3=CC...  0.965572  \n",
       "9996  C[C@]12CC[C@@]3(CCC(C[C@@H]3[C@@H]1C(=O)C=C4[C...  0.777269  \n",
       "9997  CC1=NC=C(C=C1)OC2=C(C=C(C=C2)NC3=NC=NC4=C3C=C(...  0.924181  \n",
       "9998  CCOC(=O)C1=C(SC2=C1CC(NC2(C)C)(C)C)NC(=O)C3=CC...  0.953433  \n",
       "9999  C1=CN(C(=O)N=C1N)[C@H]2[C@H]([C@@H]([C@H](O2)C...  0.854352  \n",
       "\n",
       "[10000 rows x 3 columns]"
      ]
     },
     "execution_count": 33,
     "metadata": {},
     "output_type": "execute_result"
    }
   ],
   "source": [
    "train"
   ]
  },
  {
   "cell_type": "code",
   "execution_count": 6,
   "id": "4e4bc266",
   "metadata": {},
   "outputs": [
    {
     "data": {
      "text/plain": [
       "16522"
      ]
     },
     "execution_count": 6,
     "metadata": {},
     "output_type": "execute_result"
    }
   ],
   "source": [
    "len(set(tmp[1]))"
   ]
  },
  {
   "cell_type": "code",
   "execution_count": 7,
   "id": "10b8114a",
   "metadata": {},
   "outputs": [
    {
     "data": {
      "text/plain": [
       "37"
      ]
     },
     "execution_count": 7,
     "metadata": {},
     "output_type": "execute_result"
    }
   ],
   "source": [
    "len(set(tmp[1]) & set(train[1]))"
   ]
  },
  {
   "cell_type": "code",
   "execution_count": 8,
   "id": "45979971",
   "metadata": {},
   "outputs": [],
   "source": [
    "nci60Act = pd.read_csv('../DrugCell/data/nci60Act.csv', index_col=0)\n",
    "\n",
    "# need to change the name to match to the table.\n",
    "nci60Act = nci60Act.rename(\n",
    "    columns={\n",
    "        'BR:HS 578T': 'BR:HS 578 T', \n",
    "        'BR:T-47D': 'BR:T47D',\n",
    "        'CNS:SF-295': 'CNS:SF295',\n",
    "        'CNS:SF-268': 'CNS:SF268',\n",
    "        'CNS:SF-539': 'CNS:SF539',\n",
    "        'CNS:SNB-19': 'CNS:SNB19',\n",
    "        'CO:HT29': 'CO:HT 29',\n",
    "        'CO:SW-620': 'SW620',\n",
    "        'LE:HL-60(TB)': 'LE:HL-60',\n",
    "        'ME:LOX IMVI': 'ME:LOXIMVI',\n",
    "        'LC:A549/ATCC': 'LC:A549',\n",
    "        'OV:IGROV1': 'OV:IGROV 1',\n",
    "        'RE:RXF 393': 'RE:RXF-393',\n",
    "        'RE:TK-10': 'RE:TK10' \n",
    "    }\n",
    ")\n",
    "\n",
    "# These are not listed in the table and train data\n",
    "nci60Act = nci60Act.drop([\n",
    "    'ME:MDA-N', \n",
    "    'OV:NCI/ADR-RES',\n",
    "    'RE:UO-31'\n",
    "], axis=1)"
   ]
  },
  {
   "cell_type": "code",
   "execution_count": 9,
   "id": "0194f23b",
   "metadata": {
    "scrolled": true
   },
   "outputs": [],
   "source": [
    "col = []\n",
    "for i in nci60Act.columns:\n",
    "    tmp = i.split(':')\n",
    "    if len(tmp) == 2:\n",
    "        col.append(tmp[1])\n",
    "    else:\n",
    "        col.append(tmp[0])\n",
    "\n",
    "nci60Act.columns = col"
   ]
  },
  {
   "cell_type": "code",
   "execution_count": 10,
   "id": "3f41e59e",
   "metadata": {},
   "outputs": [],
   "source": [
    "sanger_cell_lines = pd.read_csv('../DrugCell/data/sanger_to_ccle.csv', index_col=0)"
   ]
  },
  {
   "cell_type": "code",
   "execution_count": 11,
   "id": "4ef4fd88",
   "metadata": {},
   "outputs": [],
   "source": [
    "ccle_dict = {\n",
    "    i.upper():j for i,j in zip(\n",
    "        sanger_cell_lines['Sanger name'], \n",
    "        sanger_cell_lines['CCLE Label']\n",
    "    )\n",
    "}"
   ]
  },
  {
   "cell_type": "code",
   "execution_count": 12,
   "id": "b753b93f",
   "metadata": {},
   "outputs": [],
   "source": [
    "nci60Act.columns = [\n",
    "    ccle_dict[i.replace(' ', '-')] for i in nci60Act.columns\n",
    "]"
   ]
  },
  {
   "cell_type": "code",
   "execution_count": 13,
   "id": "06188d61",
   "metadata": {},
   "outputs": [
    {
     "data": {
      "text/html": [
       "<div>\n",
       "<style scoped>\n",
       "    .dataframe tbody tr th:only-of-type {\n",
       "        vertical-align: middle;\n",
       "    }\n",
       "\n",
       "    .dataframe tbody tr th {\n",
       "        vertical-align: top;\n",
       "    }\n",
       "\n",
       "    .dataframe thead th {\n",
       "        text-align: right;\n",
       "    }\n",
       "</style>\n",
       "<table border=\"1\" class=\"dataframe\">\n",
       "  <thead>\n",
       "    <tr style=\"text-align: right;\">\n",
       "      <th></th>\n",
       "      <th>Sanger name</th>\n",
       "      <th>CCLE Label</th>\n",
       "    </tr>\n",
       "  </thead>\n",
       "  <tbody>\n",
       "    <tr>\n",
       "      <th>567</th>\n",
       "      <td>RXF-393</td>\n",
       "      <td>RXF393_KIDNEY</td>\n",
       "    </tr>\n",
       "  </tbody>\n",
       "</table>\n",
       "</div>"
      ],
      "text/plain": [
       "    Sanger name     CCLE Label\n",
       "567     RXF-393  RXF393_KIDNEY"
      ]
     },
     "execution_count": 13,
     "metadata": {},
     "output_type": "execute_result"
    }
   ],
   "source": [
    "sanger_cell_lines[sanger_cell_lines['Sanger name'].str.contains('RX')]"
   ]
  },
  {
   "cell_type": "code",
   "execution_count": 14,
   "id": "727cb52e",
   "metadata": {
    "scrolled": true
   },
   "outputs": [],
   "source": [
    "base = pd.DataFrame()\n",
    "for i in nci60Act.columns:\n",
    "    tmp = pd.DataFrame((nci60Act[i].dropna()))\n",
    "    tmp.columns = ['Drug Response']\n",
    "    tmp['Cell Line'] = [i]*len(tmp)\n",
    "    tmp = pd.merge(tmp, drugAnnot, left_index=True, right_index=True)\n",
    "    base = pd.concat([base, tmp])\n",
    "    \n",
    "base = base[['Cell Line', 'SMILES', 'Drug Response']]\n",
    "base = base.reset_index(drop=True)"
   ]
  },
  {
   "cell_type": "code",
   "execution_count": 15,
   "id": "2b776668",
   "metadata": {
    "scrolled": false
   },
   "outputs": [
    {
     "data": {
      "text/html": [
       "<div>\n",
       "<style scoped>\n",
       "    .dataframe tbody tr th:only-of-type {\n",
       "        vertical-align: middle;\n",
       "    }\n",
       "\n",
       "    .dataframe tbody tr th {\n",
       "        vertical-align: top;\n",
       "    }\n",
       "\n",
       "    .dataframe thead th {\n",
       "        text-align: right;\n",
       "    }\n",
       "</style>\n",
       "<table border=\"1\" class=\"dataframe\">\n",
       "  <thead>\n",
       "    <tr style=\"text-align: right;\">\n",
       "      <th></th>\n",
       "      <th>Cell Line</th>\n",
       "      <th>SMILES</th>\n",
       "      <th>Drug Response</th>\n",
       "    </tr>\n",
       "  </thead>\n",
       "  <tbody>\n",
       "    <tr>\n",
       "      <th>0</th>\n",
       "      <td>MCF7_BREAST</td>\n",
       "      <td>CN(CC1=CN=C2C(=N1)C(=NC(=N2)N)N)C3=CC=C(C=C3)C...</td>\n",
       "      <td>0.703626</td>\n",
       "    </tr>\n",
       "    <tr>\n",
       "      <th>1</th>\n",
       "      <td>MCF7_BREAST</td>\n",
       "      <td>CCC(=O)OCN1C(=O)C=CC1=O</td>\n",
       "      <td>-0.496895</td>\n",
       "    </tr>\n",
       "    <tr>\n",
       "      <th>2</th>\n",
       "      <td>MCF7_BREAST</td>\n",
       "      <td>CC1=C(C(=O)C2=C(C1=O)N3C[C@H]4[C@@H]([C@@]3([C...</td>\n",
       "      <td>1.178418</td>\n",
       "    </tr>\n",
       "    <tr>\n",
       "      <th>3</th>\n",
       "      <td>MCF7_BREAST</td>\n",
       "      <td>C1=CC(=CC=C1CC2=CC=C(C=C2)[As](=O)(O)O)[As](=O...</td>\n",
       "      <td>1.219245</td>\n",
       "    </tr>\n",
       "    <tr>\n",
       "      <th>4</th>\n",
       "      <td>MCF7_BREAST</td>\n",
       "      <td>C1=CC=C2C=C3C(=CC2=C1)NC(=N3)CNC4=CC=C(C=C4)C(...</td>\n",
       "      <td>2.688648</td>\n",
       "    </tr>\n",
       "  </tbody>\n",
       "</table>\n",
       "</div>"
      ],
      "text/plain": [
       "     Cell Line                                             SMILES  \\\n",
       "0  MCF7_BREAST  CN(CC1=CN=C2C(=N1)C(=NC(=N2)N)N)C3=CC=C(C=C3)C...   \n",
       "1  MCF7_BREAST                            CCC(=O)OCN1C(=O)C=CC1=O   \n",
       "2  MCF7_BREAST  CC1=C(C(=O)C2=C(C1=O)N3C[C@H]4[C@@H]([C@@]3([C...   \n",
       "3  MCF7_BREAST  C1=CC(=CC=C1CC2=CC=C(C=C2)[As](=O)(O)O)[As](=O...   \n",
       "4  MCF7_BREAST  C1=CC=C2C=C3C(=CC2=C1)NC(=N3)CNC4=CC=C(C=C4)C(...   \n",
       "\n",
       "   Drug Response  \n",
       "0       0.703626  \n",
       "1      -0.496895  \n",
       "2       1.178418  \n",
       "3       1.219245  \n",
       "4       2.688648  "
      ]
     },
     "execution_count": 15,
     "metadata": {},
     "output_type": "execute_result"
    }
   ],
   "source": [
    "base.head()"
   ]
  },
  {
   "cell_type": "code",
   "execution_count": 16,
   "id": "76553ed9",
   "metadata": {},
   "outputs": [],
   "source": [
    "test = pd.DataFrame()\n",
    "for i in set(train[0]):\n",
    "    t = (base[base['Cell Line'] == i])\n",
    "    if len(t) > 0:\n",
    "        test = pd.concat([test, t])\n",
    "\n",
    "test = test.reset_index(drop=True)"
   ]
  },
  {
   "cell_type": "code",
   "execution_count": 17,
   "id": "2399d5ec",
   "metadata": {},
   "outputs": [
    {
     "data": {
      "text/html": [
       "<div>\n",
       "<style scoped>\n",
       "    .dataframe tbody tr th:only-of-type {\n",
       "        vertical-align: middle;\n",
       "    }\n",
       "\n",
       "    .dataframe tbody tr th {\n",
       "        vertical-align: top;\n",
       "    }\n",
       "\n",
       "    .dataframe thead th {\n",
       "        text-align: right;\n",
       "    }\n",
       "</style>\n",
       "<table border=\"1\" class=\"dataframe\">\n",
       "  <thead>\n",
       "    <tr style=\"text-align: right;\">\n",
       "      <th></th>\n",
       "      <th>Cell Line</th>\n",
       "      <th>SMILES</th>\n",
       "      <th>Drug Response</th>\n",
       "    </tr>\n",
       "  </thead>\n",
       "  <tbody>\n",
       "    <tr>\n",
       "      <th>0</th>\n",
       "      <td>A549_LUNG</td>\n",
       "      <td>CN(CC1=CN=C2C(=N1)C(=NC(=N2)N)N)C3=CC=C(C=C3)C...</td>\n",
       "      <td>0.603947</td>\n",
       "    </tr>\n",
       "    <tr>\n",
       "      <th>1</th>\n",
       "      <td>A549_LUNG</td>\n",
       "      <td>CCC(=O)OCN1C(=O)C=CC1=O</td>\n",
       "      <td>-0.426224</td>\n",
       "    </tr>\n",
       "    <tr>\n",
       "      <th>2</th>\n",
       "      <td>A549_LUNG</td>\n",
       "      <td>CC1=C(C(=O)C2=C(C1=O)N3C[C@H]4[C@@H]([C@@]3([C...</td>\n",
       "      <td>0.978023</td>\n",
       "    </tr>\n",
       "    <tr>\n",
       "      <th>3</th>\n",
       "      <td>A549_LUNG</td>\n",
       "      <td>C1=CC(=CC=C1CC2=CC=C(C=C2)[As](=O)(O)O)[As](=O...</td>\n",
       "      <td>-1.067900</td>\n",
       "    </tr>\n",
       "    <tr>\n",
       "      <th>4</th>\n",
       "      <td>A549_LUNG</td>\n",
       "      <td>C1=CC=C2C=C3C(=CC2=C1)NC(=N3)CNC4=CC=C(C=C4)C(...</td>\n",
       "      <td>-0.301961</td>\n",
       "    </tr>\n",
       "  </tbody>\n",
       "</table>\n",
       "</div>"
      ],
      "text/plain": [
       "   Cell Line                                             SMILES  Drug Response\n",
       "0  A549_LUNG  CN(CC1=CN=C2C(=N1)C(=NC(=N2)N)N)C3=CC=C(C=C3)C...       0.603947\n",
       "1  A549_LUNG                            CCC(=O)OCN1C(=O)C=CC1=O      -0.426224\n",
       "2  A549_LUNG  CC1=C(C(=O)C2=C(C1=O)N3C[C@H]4[C@@H]([C@@]3([C...       0.978023\n",
       "3  A549_LUNG  C1=CC(=CC=C1CC2=CC=C(C=C2)[As](=O)(O)O)[As](=O...      -1.067900\n",
       "4  A549_LUNG  C1=CC=C2C=C3C(=CC2=C1)NC(=N3)CNC4=CC=C(C=C4)C(...      -0.301961"
      ]
     },
     "execution_count": 17,
     "metadata": {},
     "output_type": "execute_result"
    }
   ],
   "source": [
    "test.head()"
   ]
  },
  {
   "cell_type": "code",
   "execution_count": 18,
   "id": "4c96f9f7",
   "metadata": {
    "scrolled": true
   },
   "outputs": [],
   "source": [
    "test.to_csv(\n",
    "    '../DrugCell/data/rcellminer_test.txt', sep='\\t', \n",
    "    header=None, index=None\n",
    ")"
   ]
  },
  {
   "cell_type": "code",
   "execution_count": 19,
   "id": "bddd7c98",
   "metadata": {
    "scrolled": true
   },
   "outputs": [
    {
     "data": {
      "text/html": [
       "<div>\n",
       "<style scoped>\n",
       "    .dataframe tbody tr th:only-of-type {\n",
       "        vertical-align: middle;\n",
       "    }\n",
       "\n",
       "    .dataframe tbody tr th {\n",
       "        vertical-align: top;\n",
       "    }\n",
       "\n",
       "    .dataframe thead th {\n",
       "        text-align: right;\n",
       "    }\n",
       "</style>\n",
       "<table border=\"1\" class=\"dataframe\">\n",
       "  <thead>\n",
       "    <tr style=\"text-align: right;\">\n",
       "      <th></th>\n",
       "      <th>Cell Line</th>\n",
       "      <th>SMILES</th>\n",
       "      <th>Drug Response</th>\n",
       "    </tr>\n",
       "  </thead>\n",
       "  <tbody>\n",
       "    <tr>\n",
       "      <th>0</th>\n",
       "      <td>A549_LUNG</td>\n",
       "      <td>CN(CC1=CN=C2C(=N1)C(=NC(=N2)N)N)C3=CC=C(C=C3)C...</td>\n",
       "      <td>0.603947</td>\n",
       "    </tr>\n",
       "    <tr>\n",
       "      <th>1</th>\n",
       "      <td>A549_LUNG</td>\n",
       "      <td>CCC(=O)OCN1C(=O)C=CC1=O</td>\n",
       "      <td>-0.426224</td>\n",
       "    </tr>\n",
       "    <tr>\n",
       "      <th>2</th>\n",
       "      <td>A549_LUNG</td>\n",
       "      <td>CC1=C(C(=O)C2=C(C1=O)N3C[C@H]4[C@@H]([C@@]3([C...</td>\n",
       "      <td>0.978023</td>\n",
       "    </tr>\n",
       "    <tr>\n",
       "      <th>3</th>\n",
       "      <td>A549_LUNG</td>\n",
       "      <td>C1=CC(=CC=C1CC2=CC=C(C=C2)[As](=O)(O)O)[As](=O...</td>\n",
       "      <td>-1.067900</td>\n",
       "    </tr>\n",
       "    <tr>\n",
       "      <th>4</th>\n",
       "      <td>A549_LUNG</td>\n",
       "      <td>C1=CC=C2C=C3C(=CC2=C1)NC(=N3)CNC4=CC=C(C=C4)C(...</td>\n",
       "      <td>-0.301961</td>\n",
       "    </tr>\n",
       "    <tr>\n",
       "      <th>...</th>\n",
       "      <td>...</td>\n",
       "      <td>...</td>\n",
       "      <td>...</td>\n",
       "    </tr>\n",
       "    <tr>\n",
       "      <th>1962</th>\n",
       "      <td>EKVX_LUNG</td>\n",
       "      <td>CN(C)C/C=C/C(=O)NC1=C(C=C2C(=C1)C(=NC=N2)NC3=C...</td>\n",
       "      <td>2.674510</td>\n",
       "    </tr>\n",
       "    <tr>\n",
       "      <th>1963</th>\n",
       "      <td>EKVX_LUNG</td>\n",
       "      <td>CC1=C(C=C(C=C1)NC2=NC=CC(=N2)N(C)C3=CC4=NN(C(=...</td>\n",
       "      <td>0.326359</td>\n",
       "    </tr>\n",
       "    <tr>\n",
       "      <th>1964</th>\n",
       "      <td>EKVX_LUNG</td>\n",
       "      <td>COC1=NC(=NC2=C1N=CN2[C@H]3[C@H]([C@@H]([C@H](O...</td>\n",
       "      <td>-0.174699</td>\n",
       "    </tr>\n",
       "    <tr>\n",
       "      <th>1965</th>\n",
       "      <td>EKVX_LUNG</td>\n",
       "      <td>CNC(=O)C1=CC=CC=C1SC2=CC3=C(C=C2)C(=NN3)/C=C/C...</td>\n",
       "      <td>-0.886055</td>\n",
       "    </tr>\n",
       "    <tr>\n",
       "      <th>1966</th>\n",
       "      <td>EKVX_LUNG</td>\n",
       "      <td>COC1=CC(=CC(=C1O)OC)[C@H]2[C@@H]3C(COC3=O)C(C4...</td>\n",
       "      <td>-1.641074</td>\n",
       "    </tr>\n",
       "  </tbody>\n",
       "</table>\n",
       "<p>1967 rows × 3 columns</p>\n",
       "</div>"
      ],
      "text/plain": [
       "      Cell Line                                             SMILES  \\\n",
       "0     A549_LUNG  CN(CC1=CN=C2C(=N1)C(=NC(=N2)N)N)C3=CC=C(C=C3)C...   \n",
       "1     A549_LUNG                            CCC(=O)OCN1C(=O)C=CC1=O   \n",
       "2     A549_LUNG  CC1=C(C(=O)C2=C(C1=O)N3C[C@H]4[C@@H]([C@@]3([C...   \n",
       "3     A549_LUNG  C1=CC(=CC=C1CC2=CC=C(C=C2)[As](=O)(O)O)[As](=O...   \n",
       "4     A549_LUNG  C1=CC=C2C=C3C(=CC2=C1)NC(=N3)CNC4=CC=C(C=C4)C(...   \n",
       "...         ...                                                ...   \n",
       "1962  EKVX_LUNG  CN(C)C/C=C/C(=O)NC1=C(C=C2C(=C1)C(=NC=N2)NC3=C...   \n",
       "1963  EKVX_LUNG  CC1=C(C=C(C=C1)NC2=NC=CC(=N2)N(C)C3=CC4=NN(C(=...   \n",
       "1964  EKVX_LUNG  COC1=NC(=NC2=C1N=CN2[C@H]3[C@H]([C@@H]([C@H](O...   \n",
       "1965  EKVX_LUNG  CNC(=O)C1=CC=CC=C1SC2=CC3=C(C=C2)C(=NN3)/C=C/C...   \n",
       "1966  EKVX_LUNG  COC1=CC(=CC(=C1O)OC)[C@H]2[C@@H]3C(COC3=O)C(C4...   \n",
       "\n",
       "      Drug Response  \n",
       "0          0.603947  \n",
       "1         -0.426224  \n",
       "2          0.978023  \n",
       "3         -1.067900  \n",
       "4         -0.301961  \n",
       "...             ...  \n",
       "1962       2.674510  \n",
       "1963       0.326359  \n",
       "1964      -0.174699  \n",
       "1965      -0.886055  \n",
       "1966      -1.641074  \n",
       "\n",
       "[1967 rows x 3 columns]"
      ]
     },
     "execution_count": 19,
     "metadata": {},
     "output_type": "execute_result"
    }
   ],
   "source": [
    "test"
   ]
  },
  {
   "cell_type": "code",
   "execution_count": 20,
   "id": "b58e8061",
   "metadata": {},
   "outputs": [],
   "source": [
    "stat = (pd.DataFrame([len(set(test['Cell Line'])), len(set(test['SMILES']))]).T)\n",
    "stat.columns = ['unique cell line', 'unique SMILES']\n",
    "stat.index = ['num']"
   ]
  },
  {
   "cell_type": "code",
   "execution_count": 21,
   "id": "15f6b8b1",
   "metadata": {},
   "outputs": [
    {
     "name": "stdout",
     "output_type": "stream",
     "text": [
      "|     |   unique cell line |   unique SMILES |\n",
      "|:----|-------------------:|----------------:|\n",
      "| num |                 55 |              37 |\n"
     ]
    }
   ],
   "source": [
    "print(stat.to_markdown())"
   ]
  },
  {
   "cell_type": "code",
   "execution_count": null,
   "id": "922d40a5",
   "metadata": {},
   "outputs": [],
   "source": []
  }
 ],
 "metadata": {
  "kernelspec": {
   "display_name": "graph_neural_network_drug_response",
   "language": "python",
   "name": "graph_neural_network_drug_response"
  },
  "language_info": {
   "codemirror_mode": {
    "name": "ipython",
    "version": 3
   },
   "file_extension": ".py",
   "mimetype": "text/x-python",
   "name": "python",
   "nbconvert_exporter": "python",
   "pygments_lexer": "ipython3",
   "version": "3.10.4"
  }
 },
 "nbformat": 4,
 "nbformat_minor": 5
}
