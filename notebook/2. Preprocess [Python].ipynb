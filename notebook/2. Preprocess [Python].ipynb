{
 "cells": [
  {
   "cell_type": "code",
   "execution_count": 1,
   "id": "5bdb980d",
   "metadata": {},
   "outputs": [],
   "source": [
    "import pandas as pd\n",
    "import numpy as np"
   ]
  },
  {
   "cell_type": "code",
   "execution_count": 2,
   "id": "1af15d4f",
   "metadata": {},
   "outputs": [
    {
     "data": {
      "text/html": [
       "<div>\n",
       "<style scoped>\n",
       "    .dataframe tbody tr th:only-of-type {\n",
       "        vertical-align: middle;\n",
       "    }\n",
       "\n",
       "    .dataframe tbody tr th {\n",
       "        vertical-align: top;\n",
       "    }\n",
       "\n",
       "    .dataframe thead th {\n",
       "        text-align: right;\n",
       "    }\n",
       "</style>\n",
       "<table border=\"1\" class=\"dataframe\">\n",
       "  <thead>\n",
       "    <tr style=\"text-align: right;\">\n",
       "      <th></th>\n",
       "      <th>SMILES</th>\n",
       "    </tr>\n",
       "  </thead>\n",
       "  <tbody>\n",
       "    <tr>\n",
       "      <th>1</th>\n",
       "      <td>CC1=CC(=O)C=CC1=O</td>\n",
       "    </tr>\n",
       "    <tr>\n",
       "      <th>17</th>\n",
       "      <td>CCCCCCCCCCCCCCCc1cc(O)ccc1N</td>\n",
       "    </tr>\n",
       "    <tr>\n",
       "      <th>89</th>\n",
       "      <td>CN(C)CCC(=O)c1ccccc1</td>\n",
       "    </tr>\n",
       "    <tr>\n",
       "      <th>185</th>\n",
       "      <td>C[C@H]1C[C@H](C)C(=O)[C@@H](C1)[C@H](O)CC2CC(=...</td>\n",
       "    </tr>\n",
       "    <tr>\n",
       "      <th>295</th>\n",
       "      <td>OC(=O)CCCc1ccccc1</td>\n",
       "    </tr>\n",
       "  </tbody>\n",
       "</table>\n",
       "</div>"
      ],
      "text/plain": [
       "                                                SMILES\n",
       "1                                    CC1=CC(=O)C=CC1=O\n",
       "17                         CCCCCCCCCCCCCCCc1cc(O)ccc1N\n",
       "89                                CN(C)CCC(=O)c1ccccc1\n",
       "185  C[C@H]1C[C@H](C)C(=O)[C@@H](C1)[C@H](O)CC2CC(=...\n",
       "295                                  OC(=O)CCCc1ccccc1"
      ]
     },
     "execution_count": 2,
     "metadata": {},
     "output_type": "execute_result"
    }
   ],
   "source": [
    "drugAnnot = pd.read_csv('../DrugCell/data/smiles_by_nsc.csv', index_col=0).dropna()\n",
    "drugAnnot.head()"
   ]
  },
  {
   "cell_type": "code",
   "execution_count": 3,
   "id": "45979971",
   "metadata": {},
   "outputs": [],
   "source": [
    "nci60Act = pd.read_csv('../DrugCell/data/nci60Act.csv', index_col=0)\n",
    "nci60Act = nci60Act.rename(\n",
    "    columns={\n",
    "        'BR:HS 578T': 'BR:HS 578 T', \n",
    "        'BR:T-47D': 'BR:T47D',\n",
    "        'CNS:SF-295': 'CNS:SF295',\n",
    "        'CNS:SNB-19': 'CNS:SNB19',\n",
    "        'CO:HT29': 'CO:HT 29',\n",
    "        'CO:SW-620': 'SW620',\n",
    "        'LE:HL-60(TB)': 'LE:HL-60',\n",
    "        'ME:LOX IMVI': 'ME:LOXIMVI',\n",
    "        'LC:A549/ATCC': 'LC:A549',\n",
    "        'OV:IGROV1': 'OV:IGROV 1'\n",
    "    }\n",
    ")\n",
    "nci60Act = nci60Act.drop([\n",
    "    'CNS:SF-268', 'CNS:SF-539', 'CNS:SNB-75', \n",
    "    'CO:HCC-2998', 'LE:CCRF-CEM', 'ME:M14',\n",
    "    'ME:MDA-N', 'LC:EKVX', 'LC:HOP-62', \n",
    "    'LC:HOP-92', 'OV:OVCAR-5', 'OV:NCI/ADR-RES',\n",
    "    'RE:RXF 393', 'RE:SN12C', 'RE:TK-10', 'RE:UO-31'\n",
    "], axis=1)"
   ]
  },
  {
   "cell_type": "code",
   "execution_count": 4,
   "id": "0194f23b",
   "metadata": {
    "scrolled": true
   },
   "outputs": [],
   "source": [
    "col = []\n",
    "for i in nci60Act.columns:\n",
    "    tmp = i.split(':')\n",
    "    if len(tmp) == 2:\n",
    "        col.append(tmp[1])\n",
    "    else:\n",
    "        col.append(tmp[0])"
   ]
  },
  {
   "cell_type": "code",
   "execution_count": 5,
   "id": "1ec1b463",
   "metadata": {},
   "outputs": [],
   "source": [
    "nci60Act.columns = col"
   ]
  },
  {
   "cell_type": "code",
   "execution_count": 6,
   "id": "3f41e59e",
   "metadata": {},
   "outputs": [],
   "source": [
    "sanger_cell_lines = pd.read_table('../DrugCell/data/sanger_cell_lines.txt')[[\n",
    "    'Sanger name', 'CCLE Label'\n",
    "]].dropna().reset_index(drop=True)"
   ]
  },
  {
   "cell_type": "code",
   "execution_count": 7,
   "id": "4ef4fd88",
   "metadata": {},
   "outputs": [],
   "source": [
    "ccle_dict = {\n",
    "    i.upper():j for i,j in zip(\n",
    "        sanger_cell_lines['Sanger name'], \n",
    "        sanger_cell_lines['CCLE Label']\n",
    "    )\n",
    "}"
   ]
  },
  {
   "cell_type": "code",
   "execution_count": 8,
   "id": "b753b93f",
   "metadata": {},
   "outputs": [],
   "source": [
    "nci60Act.columns = [\n",
    "    ccle_dict[i.replace(' ', '-')] for i in nci60Act.columns\n",
    "]"
   ]
  },
  {
   "cell_type": "code",
   "execution_count": 9,
   "id": "727cb52e",
   "metadata": {},
   "outputs": [],
   "source": [
    "base = pd.DataFrame()\n",
    "for i in nci60Act.columns:\n",
    "    tmp = pd.DataFrame((nci60Act[i].dropna()))\n",
    "    tmp.columns = ['Cell Line']\n",
    "    tmp['Cell Line'] = [i]*len(tmp)\n",
    "    tmp = pd.merge(tmp, drugAnnot, left_index=True, right_index=True)\n",
    "    base = pd.concat([base, tmp])\n",
    "    \n",
    "base = base[['Cell Line', 'SMILES']]\n",
    "base = base.reset_index(drop=True)"
   ]
  },
  {
   "cell_type": "code",
   "execution_count": 10,
   "id": "4c96f9f7",
   "metadata": {
    "scrolled": true
   },
   "outputs": [],
   "source": [
    "base.to_csv(\n",
    "    '../DrugCell/data/rcellminer_test.txt', sep='\\t', \n",
    "    header=None, index=None\n",
    ")"
   ]
  }
 ],
 "metadata": {
  "kernelspec": {
   "display_name": "cluster",
   "language": "python",
   "name": "cluster"
  },
  "language_info": {
   "codemirror_mode": {
    "name": "ipython",
    "version": 3
   },
   "file_extension": ".py",
   "mimetype": "text/x-python",
   "name": "python",
   "nbconvert_exporter": "python",
   "pygments_lexer": "ipython3",
   "version": "3.6.9"
  }
 },
 "nbformat": 4,
 "nbformat_minor": 5
}
