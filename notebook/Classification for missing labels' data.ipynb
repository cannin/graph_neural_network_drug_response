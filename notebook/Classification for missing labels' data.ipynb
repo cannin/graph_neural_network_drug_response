{
 "cells": [
  {
   "cell_type": "code",
   "execution_count": 1,
   "id": "475fd465",
   "metadata": {},
   "outputs": [
    {
     "name": "stderr",
     "output_type": "stream",
     "text": [
      "Intel(R) Extension for Scikit-learn* enabled (https://github.com/intel/scikit-learn-intelex)\n"
     ]
    }
   ],
   "source": [
    "import pandas as pd\n",
    "import numpy as np\n",
    "import math\n",
    "import matplotlib.pyplot as plt\n",
    "import matplotlib\n",
    "\n",
    "from sklearn.decomposition import PCA\n",
    "from sklearn.manifold import TSNE\n",
    "from sklearn.model_selection import train_test_split\n",
    "from sklearn.linear_model import RidgeClassifierCV\n",
    "from rdkit import Chem\n",
    "from rdkit.Chem import AllChem, rdFingerprintGenerator\n",
    "\n",
    "from sklearnex import patch_sklearn\n",
    "patch_sklearn()\n",
    "\n",
    "from sklearn.manifold import TSNE\n",
    "from sklearn.neighbors import KNeighborsClassifier"
   ]
  },
  {
   "cell_type": "code",
   "execution_count": 2,
   "id": "7a6550cd",
   "metadata": {},
   "outputs": [],
   "source": [
    "def reduce_mem_usage(df):\n",
    "    \"\"\"\n",
    "    Iterate through all the columns of a dataframe and modify the data type\n",
    "\n",
    "    Parameters\n",
    "    ----------\n",
    "    df : pandas.DataFrame\n",
    "\n",
    "    Returns\n",
    "    -------\n",
    "    pandas.DataFrame\n",
    "\n",
    "    \"\"\"\n",
    "\n",
    "    start_mem = df.memory_usage().sum() / 1024 ** 2\n",
    "    print(\"Memory usage of dataframe is {:.2f} MB\".format(start_mem))\n",
    "\n",
    "    for col in df.columns:\n",
    "        col_type = df[col].dtype\n",
    "\n",
    "        if col_type != object:\n",
    "            c_min = df[col].min()\n",
    "            c_max = df[col].max()\n",
    "            if str(col_type)[:3] == \"int\":\n",
    "                if c_min > np.iinfo(np.int8).min and c_max < np.iinfo(np.int8).max:\n",
    "                    df[col] = df[col].astype(np.int8)\n",
    "                elif c_min > np.iinfo(np.int16).min and c_max < np.iinfo(np.int16).max:\n",
    "                    df[col] = df[col].astype(np.int16)\n",
    "                elif c_min > np.iinfo(np.int32).min and c_max < np.iinfo(np.int32).max:\n",
    "                    df[col] = df[col].astype(np.int32)\n",
    "                elif c_min > np.iinfo(np.int64).min and c_max < np.iinfo(np.int64).max:\n",
    "                    df[col] = df[col].astype(np.int64)\n",
    "            else:\n",
    "                if (\n",
    "                    c_min > np.finfo(np.float16).min\n",
    "                    and c_max < np.finfo(np.float16).max\n",
    "                ):\n",
    "                    df[col] = df[col].astype(np.float16)\n",
    "                elif (\n",
    "                    c_min > np.finfo(np.float32).min\n",
    "                    and c_max < np.finfo(np.float32).max\n",
    "                ):\n",
    "                    df[col] = df[col].astype(np.float32)\n",
    "                else:\n",
    "                    df[col] = df[col].astype(np.float64)\n",
    "        else:\n",
    "            df[col] = df[col].astype(\"category\")\n",
    "\n",
    "    end_mem = df.memory_usage().sum() / 1024 ** 2\n",
    "    print(\"Memory usage after optimization is: {:.2f} MB\".format(end_mem))\n",
    "    print(\"Decreased by {:.1f}%\".format(100 * (start_mem - end_mem) / start_mem))\n",
    "\n",
    "    return df"
   ]
  },
  {
   "cell_type": "code",
   "execution_count": 3,
   "id": "3763678e",
   "metadata": {},
   "outputs": [],
   "source": [
    "# Read original data\n",
    "nci60Act = pd.read_csv(\"../data/nci60Act_ccle.csv\", index_col=0)\n",
    "cell2ind = list(pd.read_table(\"../DrugCell/data/cell2ind.txt\", header=None)[1])\n",
    "nci60Act = nci60Act[list(set(cell2ind) & set(nci60Act.columns))]"
   ]
  },
  {
   "cell_type": "code",
   "execution_count": 4,
   "id": "30158974",
   "metadata": {},
   "outputs": [],
   "source": [
    "# Create dataset for DrugCell\n",
    "base = pd.DataFrame()\n",
    "for i in nci60Act.columns:\n",
    "    tmp = nci60Act[i].reset_index().dropna()\n",
    "    tmp.columns = ['NSC', 'drug_response']\n",
    "    tmp['CELL_LINE'] = [i]*len(tmp)\n",
    "    base = pd.concat([base, tmp])\n",
    "base = base.reset_index(drop=True)"
   ]
  },
  {
   "cell_type": "code",
   "execution_count": 5,
   "id": "7c3e16ae",
   "metadata": {},
   "outputs": [],
   "source": [
    "# Add class label and SMILES\n",
    "class_nsc = pd.read_csv('../DrugCell/data_rcellminer/class_by_nsc.csv')\n",
    "base_class = base.merge(class_nsc, on='NSC', how='outer')\n",
    "smiles = pd.read_csv('../data/nsc_cid_smiles.csv')[['NSC', 'SMILES']]\n",
    "base_smiles = base_class.merge(smiles, on='NSC')"
   ]
  },
  {
   "cell_type": "code",
   "execution_count": 6,
   "id": "c898b5d5",
   "metadata": {},
   "outputs": [],
   "source": [
    "# Add NaN instead of Other label\n",
    "t = pd.read_csv('../data/rcellminer.csv')[['NSC', 'MOA']]\n",
    "w = t.merge(class_nsc, on='NSC', how='outer')\n",
    "w['class'] = [w['MECHANISM'][i] if w['MECHANISM'][i] != 'Other' else w['MOA'][i] for i in w.index]\n",
    "w = w[['NSC', 'class']]\n",
    "base_nan = base_smiles.merge(w, on='NSC')"
   ]
  },
  {
   "cell_type": "code",
   "execution_count": 7,
   "id": "2e0c8914",
   "metadata": {},
   "outputs": [],
   "source": [
    "# Choose top 5 classes\n",
    "df = pd.DataFrame()\n",
    "for i in ['Kinase', 'DNA', 'TUBB', 'HDAC', 'Apotosis']:\n",
    "    df = pd.concat([\n",
    "        base_nan[base_nan['class'] == i],\n",
    "        df\n",
    "    ])\n",
    "    \n",
    "df = pd.concat([\n",
    "    df,\n",
    "    base_nan[base_nan['class'].isna()]\n",
    "])"
   ]
  },
  {
   "cell_type": "code",
   "execution_count": 8,
   "id": "7b87f5ad",
   "metadata": {},
   "outputs": [
    {
     "name": "stdout",
     "output_type": "stream",
     "text": [
      "Memory usage of dataframe is 62.83 MB\n",
      "Memory usage after optimization is: 22.00 MB\n",
      "Decreased by 65.0%\n"
     ]
    }
   ],
   "source": [
    "df = reduce_mem_usage(df)"
   ]
  },
  {
   "cell_type": "code",
   "execution_count": 9,
   "id": "de0ddd39",
   "metadata": {
    "scrolled": true
   },
   "outputs": [
    {
     "name": "stderr",
     "output_type": "stream",
     "text": [
      "[10:20:17] WARNING: not removing hydrogen atom without neighbors\n",
      "[10:20:20] Explicit valence for atom # 4 Sn, 5, is greater than permitted\n"
     ]
    }
   ],
   "source": [
    "# Get morgan fingerprinting\n",
    "t = []\n",
    "for i in set(df['SMILES']):\n",
    "    try:\n",
    "        t.append([\n",
    "            i,\n",
    "            AllChem.GetMorganFingerprintAsBitVect(\n",
    "                Chem.MolFromSmiles(i), \n",
    "                useChirality=True, \n",
    "                radius=2, \n",
    "                nBits=2048\n",
    "            )\n",
    "        ])\n",
    "    except:\n",
    "        pass"
   ]
  },
  {
   "cell_type": "code",
   "execution_count": 10,
   "id": "a9533764",
   "metadata": {},
   "outputs": [
    {
     "name": "stderr",
     "output_type": "stream",
     "text": [
      "/tmp/ipykernel_2812150/1148950312.py:1: VisibleDeprecationWarning: Creating an ndarray from ragged nested sequences (which is a list-or-tuple of lists-or-tuples-or ndarrays with different lengths or shapes) is deprecated. If you meant to do this, you must specify 'dtype=object' when creating the ndarray.\n",
      "  t = np.array(t)\n"
     ]
    },
    {
     "name": "stdout",
     "output_type": "stream",
     "text": [
      "Memory usage of dataframe is 353.95 MB\n",
      "Memory usage after optimization is: 44.94 MB\n",
      "Decreased by 87.3%\n"
     ]
    }
   ],
   "source": [
    "t = np.array(t)\n",
    "mfp = pd.DataFrame([np.array(i) for i in t[:, 1]])\n",
    "mfp['SMILES'] = t[:, 0]\n",
    "mfp = reduce_mem_usage(mfp)"
   ]
  },
  {
   "cell_type": "code",
   "execution_count": 11,
   "id": "fbc41317",
   "metadata": {},
   "outputs": [
    {
     "name": "stdout",
     "output_type": "stream",
     "text": [
      "Memory usage of dataframe is 1.15 MB\n",
      "Memory usage after optimization is: 0.15 MB\n",
      "Decreased by 87.3%\n"
     ]
    }
   ],
   "source": [
    "# Get cell to genes table\n",
    "cell_line = pd.read_csv(\"../DrugCell/data_rcellminer/cell2mut.txt\", header=None)\n",
    "cell_line[\"CELL_LINE\"] = pd.read_csv(\"../DrugCell/data_rcellminer/cell2ind.txt\", sep=\"\\t\", header=None)[1]\n",
    "cell_line = reduce_mem_usage(cell_line)"
   ]
  },
  {
   "cell_type": "code",
   "execution_count": 12,
   "id": "fd1a845d",
   "metadata": {
    "scrolled": true
   },
   "outputs": [],
   "source": [
    "df = df.merge(mfp, on=\"SMILES\")\n",
    "df = df.merge(cell_line, on=\"CELL_LINE\")"
   ]
  },
  {
   "cell_type": "code",
   "execution_count": 13,
   "id": "f16c2918",
   "metadata": {},
   "outputs": [],
   "source": [
    "df = df.drop(['NSC', 'MECHANISM', 'CELL_LINE', 'SMILES', 'drug_response'], axis=1)"
   ]
  },
  {
   "cell_type": "code",
   "execution_count": null,
   "id": "c9c1bd81",
   "metadata": {},
   "outputs": [],
   "source": []
  },
  {
   "cell_type": "code",
   "execution_count": 14,
   "id": "b119cc60",
   "metadata": {},
   "outputs": [],
   "source": [
    "t = df[df['class'].isna()].sample(n=df[~df['class'].isna()].shape[0], random_state=42)\n",
    "df = pd.concat([df[~df['class'].isna()], t]).reset_index(drop=True)\n",
    "translater = {j: i for i, j in enumerate(set(df['class']))}"
   ]
  },
  {
   "cell_type": "code",
   "execution_count": 15,
   "id": "4a2f9574",
   "metadata": {
    "scrolled": true
   },
   "outputs": [
    {
     "data": {
      "text/plain": [
       "{'HDAC': 0, nan: 1, 'TUBB': 2, 'Kinase': 3, 'DNA': 4}"
      ]
     },
     "execution_count": 15,
     "metadata": {},
     "output_type": "execute_result"
    }
   ],
   "source": [
    "translater"
   ]
  },
  {
   "cell_type": "code",
   "execution_count": 17,
   "id": "da9d7ee9",
   "metadata": {},
   "outputs": [
    {
     "data": {
      "image/png": "[encoded data removed]",
      "text/html": [
       "<div style=\"vertical-align: middle;\"><strong>from_list</strong> </div><div class=\"cmap\"><img alt=\"from_list colormap\" title=\"from_list\" style=\"border: 1px solid #555;\" src=\"data:image/png;base64,iVBORw0KGgoAAAANSUhEUgAAAgAAAABACAYAAABsv8+/AAAAGHRFWHRUaXRsZQBmcm9tX2xpc3QgY29sb3JtYXBDL89FAAAAHnRFWHREZXNjcmlwdGlvbgBmcm9tX2xpc3QgY29sb3JtYXABtCnOAAAAMHRFWHRBdXRob3IATWF0cGxvdGxpYiB2My41LjIsIGh0dHBzOi8vbWF0cGxvdGxpYi5vcmfCWnicAAAAMnRFWHRTb2Z0d2FyZQBNYXRwbG90bGliIHYzLjUuMiwgaHR0cHM6Ly9tYXRwbG90bGliLm9yZ+z857sAAAFBSURBVHic7dbBDYMwAARBQ+NxiqFO0wD5xkg7U8F9TtpjjbEGr3TM3Qt4NF3mjeb47p7Ag881d0/gh3P3AADg/wQAAAQJAAAIEgAAECQAACBIAABAkAAAgCABAABBAgAAggQAAAQJAAAIEgAAECQAACBIAABAkAAAgCABAABBAgAAggQAAAQJAAAIEgAAECQAACBIAABAkAAAgCABAABBAgAAggQAAAQJAAAIEgAAECQAACBIAABAkAAAgCABAABBAgAAggQAAAQJAAAIEgAAECQAACBIAABAkAAAgCABAABBAgAAggQAAAQJAAAIEgAAECQAACBIAABAkAAAgCABAABBAgAAggQAAAQJAAAIEgAAECQAACBIAABAkAAAgCABAABBAgAAggQAAAQJAAAIEgAAECQAACBIAABAkAAAgKAbkBIHI+W2lEwAAAAASUVORK5CYII=\"></div><div style=\"vertical-align: middle; max-width: 514px; display: flex; justify-content: space-between;\"><div style=\"float: left;\"><div title=\"#ff0000ff\" style=\"display: inline-block; width: 1em; height: 1em; margin: 0; vertical-align: middle; border: 1px solid #555; background-color: #ff0000ff;\"></div> under</div><div style=\"margin: 0 auto; display: inline-block;\">bad <div title=\"#00000000\" style=\"display: inline-block; width: 1em; height: 1em; margin: 0; vertical-align: middle; border: 1px solid #555; background-color: #00000000;\"></div></div><div style=\"float: right;\">over <div title=\"#ffa500ff\" style=\"display: inline-block; width: 1em; height: 1em; margin: 0; vertical-align: middle; border: 1px solid #555; background-color: #ffa500ff;\"></div></div>"
      ],
      "text/plain": [
       "<matplotlib.colors.ListedColormap at 0x7f5e0d570280>"
      ]
     },
     "execution_count": 17,
     "metadata": {},
     "output_type": "execute_result"
    }
   ],
   "source": [
    "colors = ['red','green','blue','purple', 'orange']\n",
    "matplotlib.colors.ListedColormap(colors)"
   ]
  },
  {
   "cell_type": "code",
   "execution_count": 18,
   "id": "c277e04d",
   "metadata": {
    "scrolled": false
   },
   "outputs": [
    {
     "name": "stderr",
     "output_type": "stream",
     "text": [
      "/export/scratch/inoue019/envs/gpu1/lib/python3.8/site-packages/daal4py/sklearn/manifold/_t_sne.py:137: FutureWarning: The default initialization in TSNE will change from 'random' to 'pca' in 1.2.\n",
      "  warnings.warn(\"The default initialization in TSNE will change \"\n",
      "/export/scratch/inoue019/envs/gpu1/lib/python3.8/site-packages/daal4py/sklearn/manifold/_t_sne.py:153: FutureWarning: The default learning rate in TSNE will change from 200.0 to 'auto' in 1.2.\n",
      "  warnings.warn(\"The default learning rate in TSNE will change \"\n",
      "/export/scratch/inoue019/envs/gpu1/lib/python3.8/site-packages/sklearn/utils/validation.py:1688: FutureWarning: Feature names only support names that are all strings. Got feature names with dtypes: ['int', 'str']. An error will be raised in 1.2.\n",
      "  warnings.warn(\n"
     ]
    },
    {
     "data": {
      "text/plain": [
       "<matplotlib.collections.PathCollection at 0x7f5e0d38edc0>"
      ]
     },
     "execution_count": 18,
     "metadata": {},
     "output_type": "execute_result"
    },
    {
     "data": {
      "image/png": "[encoded data removed]",
      "text/plain": [
       "<Figure size 432x288 with 1 Axes>"
      ]
     },
     "metadata": {
      "needs_background": "light"
     },
     "output_type": "display_data"
    }
   ],
   "source": [
    "# Get and visualize TSNE\n",
    "X_tsne = TSNE(n_components=2, random_state=42).fit_transform(df.drop('class', axis=1))\n",
    "plt.scatter(\n",
    "    X_tsne[:,0], X_tsne[:,1], \n",
    "    c=[translater[i] for i in df['class']], \n",
    "    cmap=matplotlib.colors.ListedColormap(colors),\n",
    ")"
   ]
  },
  {
   "cell_type": "code",
   "execution_count": null,
   "id": "a8959491",
   "metadata": {},
   "outputs": [],
   "source": []
  },
  {
   "cell_type": "markdown",
   "id": "2d593f83",
   "metadata": {},
   "source": [
    "### Use KNN for Unlabeled data"
   ]
  },
  {
   "cell_type": "code",
   "execution_count": 19,
   "id": "2e194fc2",
   "metadata": {},
   "outputs": [],
   "source": [
    "X = df.loc[~df['class'].isna()].drop('class', axis=1)\n",
    "y = df.loc[~df['class'].isna()]['class']"
   ]
  },
  {
   "cell_type": "code",
   "execution_count": 20,
   "id": "8507f993",
   "metadata": {
    "scrolled": true
   },
   "outputs": [
    {
     "name": "stderr",
     "output_type": "stream",
     "text": [
      "/export/scratch/inoue019/envs/gpu1/lib/python3.8/site-packages/sklearn/utils/validation.py:1688: FutureWarning: Feature names only support names that are all strings. Got feature names with dtypes: ['int', 'str']. An error will be raised in 1.2.\n",
      "  warnings.warn(\n"
     ]
    },
    {
     "data": {
      "text/plain": [
       "KNeighborsClassifier()"
      ]
     },
     "execution_count": 20,
     "metadata": {},
     "output_type": "execute_result"
    }
   ],
   "source": [
    "knn = KNeighborsClassifier()\n",
    "knn.fit(X, y)"
   ]
  },
  {
   "cell_type": "code",
   "execution_count": 21,
   "id": "7d6de546",
   "metadata": {},
   "outputs": [
    {
     "name": "stderr",
     "output_type": "stream",
     "text": [
      "/export/scratch/inoue019/envs/gpu1/lib/python3.8/site-packages/sklearn/utils/validation.py:1688: FutureWarning: Feature names only support names that are all strings. Got feature names with dtypes: ['int', 'str']. An error will be raised in 1.2.\n",
      "  warnings.warn(\n"
     ]
    },
    {
     "data": {
      "text/plain": [
       "0.816580727248376"
      ]
     },
     "execution_count": 21,
     "metadata": {},
     "output_type": "execute_result"
    }
   ],
   "source": [
    "knn.score(X, y)"
   ]
  },
  {
   "cell_type": "code",
   "execution_count": 22,
   "id": "514232de",
   "metadata": {},
   "outputs": [
    {
     "name": "stderr",
     "output_type": "stream",
     "text": [
      "/export/scratch/inoue019/envs/gpu1/lib/python3.8/site-packages/sklearn/utils/validation.py:1688: FutureWarning: Feature names only support names that are all strings. Got feature names with dtypes: ['int', 'str']. An error will be raised in 1.2.\n",
      "  warnings.warn(\n"
     ]
    }
   ],
   "source": [
    "predicted_label = knn.predict(t.drop('class', axis=1))\n",
    "t['class'] = predicted_label"
   ]
  },
  {
   "cell_type": "markdown",
   "id": "044e1a56",
   "metadata": {},
   "source": [
    "### Get TSNE and visualize with new label"
   ]
  },
  {
   "cell_type": "code",
   "execution_count": 23,
   "id": "b42c8e48",
   "metadata": {},
   "outputs": [],
   "source": [
    "df = pd.concat([\n",
    "    df[~df['class'].isna()],\n",
    "    t\n",
    "]).reset_index(drop=True)"
   ]
  },
  {
   "cell_type": "code",
   "execution_count": 24,
   "id": "5b535f0d",
   "metadata": {},
   "outputs": [
    {
     "data": {
      "image/png": "[encoded data removed]",
      "text/html": [
       "<div style=\"vertical-align: middle;\"><strong>from_list</strong> </div><div class=\"cmap\"><img alt=\"from_list colormap\" title=\"from_list\" style=\"border: 1px solid #555;\" src=\"data:image/png;base64,iVBORw0KGgoAAAANSUhEUgAAAgAAAABACAYAAABsv8+/AAAAGHRFWHRUaXRsZQBmcm9tX2xpc3QgY29sb3JtYXBDL89FAAAAHnRFWHREZXNjcmlwdGlvbgBmcm9tX2xpc3QgY29sb3JtYXABtCnOAAAAMHRFWHRBdXRob3IATWF0cGxvdGxpYiB2My41LjIsIGh0dHBzOi8vbWF0cGxvdGxpYi5vcmfCWnicAAAAMnRFWHRTb2Z0d2FyZQBNYXRwbG90bGliIHYzLjUuMiwgaHR0cHM6Ly9tYXRwbG90bGliLm9yZ+z857sAAAFBSURBVHic7dbBDYMwAARBQ+NxiqFO0wD5xkg7U8F9TtpjjbEGr3TM3Qt4NF3mjeb47p7Ag881d0/gh3P3AADg/wQAAAQJAAAIEgAAECQAACBIAABAkAAAgCABAABBAgAAggQAAAQJAAAIEgAAECQAACBIAABAkAAAgCABAABBAgAAggQAAAQJAAAIEgAAECQAACBIAABAkAAAgCABAABBAgAAggQAAAQJAAAIEgAAECQAACBIAABAkAAAgCABAABBAgAAggQAAAQJAAAIEgAAECQAACBIAABAkAAAgCABAABBAgAAggQAAAQJAAAIEgAAECQAACBIAABAkAAAgCABAABBAgAAggQAAAQJAAAIEgAAECQAACBIAABAkAAAgCABAABBAgAAggQAAAQJAAAIEgAAECQAACBIAABAkAAAgKAbkBIHI+W2lEwAAAAASUVORK5CYII=\"></div><div style=\"vertical-align: middle; max-width: 514px; display: flex; justify-content: space-between;\"><div style=\"float: left;\"><div title=\"#ff0000ff\" style=\"display: inline-block; width: 1em; height: 1em; margin: 0; vertical-align: middle; border: 1px solid #555; background-color: #ff0000ff;\"></div> under</div><div style=\"margin: 0 auto; display: inline-block;\">bad <div title=\"#00000000\" style=\"display: inline-block; width: 1em; height: 1em; margin: 0; vertical-align: middle; border: 1px solid #555; background-color: #00000000;\"></div></div><div style=\"float: right;\">over <div title=\"#ffa500ff\" style=\"display: inline-block; width: 1em; height: 1em; margin: 0; vertical-align: middle; border: 1px solid #555; background-color: #ffa500ff;\"></div></div>"
      ],
      "text/plain": [
       "<matplotlib.colors.ListedColormap at 0x7f5e0d6d87c0>"
      ]
     },
     "execution_count": 24,
     "metadata": {},
     "output_type": "execute_result"
    }
   ],
   "source": [
    "matplotlib.colors.ListedColormap(colors)"
   ]
  },
  {
   "cell_type": "code",
   "execution_count": 25,
   "id": "91bb95a5",
   "metadata": {
    "scrolled": true
   },
   "outputs": [
    {
     "data": {
      "text/plain": [
       "{'HDAC': 0, nan: 1, 'TUBB': 2, 'Kinase': 3, 'DNA': 4}"
      ]
     },
     "execution_count": 25,
     "metadata": {},
     "output_type": "execute_result"
    }
   ],
   "source": [
    "translater"
   ]
  },
  {
   "cell_type": "code",
   "execution_count": 26,
   "id": "c4be859e",
   "metadata": {},
   "outputs": [
    {
     "data": {
      "text/plain": [
       "<matplotlib.collections.PathCollection at 0x7f5e0de88a30>"
      ]
     },
     "execution_count": 26,
     "metadata": {},
     "output_type": "execute_result"
    },
    {
     "data": {
      "image/png": "[encoded data removed]",
      "text/plain": [
       "<Figure size 432x288 with 1 Axes>"
      ]
     },
     "metadata": {
      "needs_background": "light"
     },
     "output_type": "display_data"
    }
   ],
   "source": [
    "plt.scatter(\n",
    "    X_tsne[:,0], X_tsne[:,1], \n",
    "    c=[translater[i] for i in df['class']], \n",
    "    cmap=matplotlib.colors.ListedColormap(colors)\n",
    ")"
   ]
  },
  {
   "cell_type": "code",
   "execution_count": 27,
   "id": "283c3d56",
   "metadata": {},
   "outputs": [
    {
     "data": {
      "text/html": [
       "<div>\n",
       "<style scoped>\n",
       "    .dataframe tbody tr th:only-of-type {\n",
       "        vertical-align: middle;\n",
       "    }\n",
       "\n",
       "    .dataframe tbody tr th {\n",
       "        vertical-align: top;\n",
       "    }\n",
       "\n",
       "    .dataframe thead th {\n",
       "        text-align: right;\n",
       "    }\n",
       "</style>\n",
       "<table border=\"1\" class=\"dataframe\">\n",
       "  <thead>\n",
       "    <tr style=\"text-align: right;\">\n",
       "      <th></th>\n",
       "      <th>class</th>\n",
       "      <th>0_x</th>\n",
       "      <th>1_x</th>\n",
       "      <th>2_x</th>\n",
       "      <th>3_x</th>\n",
       "      <th>4_x</th>\n",
       "      <th>5_x</th>\n",
       "      <th>6_x</th>\n",
       "      <th>7_x</th>\n",
       "      <th>8_x</th>\n",
       "      <th>...</th>\n",
       "      <th>2719</th>\n",
       "      <th>2720</th>\n",
       "      <th>2721</th>\n",
       "      <th>2722</th>\n",
       "      <th>2723</th>\n",
       "      <th>2724</th>\n",
       "      <th>2725</th>\n",
       "      <th>2726</th>\n",
       "      <th>2727</th>\n",
       "      <th>2728</th>\n",
       "    </tr>\n",
       "  </thead>\n",
       "  <tbody>\n",
       "    <tr>\n",
       "      <th>88</th>\n",
       "      <td>DNA</td>\n",
       "      <td>0</td>\n",
       "      <td>1</td>\n",
       "      <td>0</td>\n",
       "      <td>0</td>\n",
       "      <td>0</td>\n",
       "      <td>0</td>\n",
       "      <td>0</td>\n",
       "      <td>0</td>\n",
       "      <td>0</td>\n",
       "      <td>...</td>\n",
       "      <td>0</td>\n",
       "      <td>0</td>\n",
       "      <td>0</td>\n",
       "      <td>0</td>\n",
       "      <td>0</td>\n",
       "      <td>0</td>\n",
       "      <td>0</td>\n",
       "      <td>0</td>\n",
       "      <td>0</td>\n",
       "      <td>0</td>\n",
       "    </tr>\n",
       "    <tr>\n",
       "      <th>89</th>\n",
       "      <td>DNA</td>\n",
       "      <td>0</td>\n",
       "      <td>0</td>\n",
       "      <td>0</td>\n",
       "      <td>0</td>\n",
       "      <td>0</td>\n",
       "      <td>0</td>\n",
       "      <td>0</td>\n",
       "      <td>0</td>\n",
       "      <td>0</td>\n",
       "      <td>...</td>\n",
       "      <td>0</td>\n",
       "      <td>0</td>\n",
       "      <td>0</td>\n",
       "      <td>0</td>\n",
       "      <td>0</td>\n",
       "      <td>0</td>\n",
       "      <td>0</td>\n",
       "      <td>0</td>\n",
       "      <td>0</td>\n",
       "      <td>0</td>\n",
       "    </tr>\n",
       "    <tr>\n",
       "      <th>90</th>\n",
       "      <td>DNA</td>\n",
       "      <td>0</td>\n",
       "      <td>0</td>\n",
       "      <td>0</td>\n",
       "      <td>0</td>\n",
       "      <td>0</td>\n",
       "      <td>0</td>\n",
       "      <td>0</td>\n",
       "      <td>0</td>\n",
       "      <td>0</td>\n",
       "      <td>...</td>\n",
       "      <td>0</td>\n",
       "      <td>0</td>\n",
       "      <td>0</td>\n",
       "      <td>0</td>\n",
       "      <td>0</td>\n",
       "      <td>0</td>\n",
       "      <td>0</td>\n",
       "      <td>0</td>\n",
       "      <td>0</td>\n",
       "      <td>0</td>\n",
       "    </tr>\n",
       "    <tr>\n",
       "      <th>91</th>\n",
       "      <td>DNA</td>\n",
       "      <td>0</td>\n",
       "      <td>0</td>\n",
       "      <td>0</td>\n",
       "      <td>0</td>\n",
       "      <td>0</td>\n",
       "      <td>0</td>\n",
       "      <td>0</td>\n",
       "      <td>0</td>\n",
       "      <td>0</td>\n",
       "      <td>...</td>\n",
       "      <td>0</td>\n",
       "      <td>0</td>\n",
       "      <td>0</td>\n",
       "      <td>0</td>\n",
       "      <td>0</td>\n",
       "      <td>0</td>\n",
       "      <td>0</td>\n",
       "      <td>0</td>\n",
       "      <td>0</td>\n",
       "      <td>0</td>\n",
       "    </tr>\n",
       "    <tr>\n",
       "      <th>92</th>\n",
       "      <td>DNA</td>\n",
       "      <td>0</td>\n",
       "      <td>0</td>\n",
       "      <td>0</td>\n",
       "      <td>0</td>\n",
       "      <td>0</td>\n",
       "      <td>0</td>\n",
       "      <td>0</td>\n",
       "      <td>0</td>\n",
       "      <td>0</td>\n",
       "      <td>...</td>\n",
       "      <td>0</td>\n",
       "      <td>0</td>\n",
       "      <td>0</td>\n",
       "      <td>0</td>\n",
       "      <td>0</td>\n",
       "      <td>0</td>\n",
       "      <td>0</td>\n",
       "      <td>0</td>\n",
       "      <td>0</td>\n",
       "      <td>0</td>\n",
       "    </tr>\n",
       "    <tr>\n",
       "      <th>...</th>\n",
       "      <td>...</td>\n",
       "      <td>...</td>\n",
       "      <td>...</td>\n",
       "      <td>...</td>\n",
       "      <td>...</td>\n",
       "      <td>...</td>\n",
       "      <td>...</td>\n",
       "      <td>...</td>\n",
       "      <td>...</td>\n",
       "      <td>...</td>\n",
       "      <td>...</td>\n",
       "      <td>...</td>\n",
       "      <td>...</td>\n",
       "      <td>...</td>\n",
       "      <td>...</td>\n",
       "      <td>...</td>\n",
       "      <td>...</td>\n",
       "      <td>...</td>\n",
       "      <td>...</td>\n",
       "      <td>...</td>\n",
       "      <td>...</td>\n",
       "    </tr>\n",
       "    <tr>\n",
       "      <th>89591</th>\n",
       "      <td>DNA</td>\n",
       "      <td>0</td>\n",
       "      <td>0</td>\n",
       "      <td>0</td>\n",
       "      <td>0</td>\n",
       "      <td>0</td>\n",
       "      <td>0</td>\n",
       "      <td>0</td>\n",
       "      <td>0</td>\n",
       "      <td>0</td>\n",
       "      <td>...</td>\n",
       "      <td>0</td>\n",
       "      <td>0</td>\n",
       "      <td>0</td>\n",
       "      <td>0</td>\n",
       "      <td>0</td>\n",
       "      <td>0</td>\n",
       "      <td>0</td>\n",
       "      <td>0</td>\n",
       "      <td>0</td>\n",
       "      <td>0</td>\n",
       "    </tr>\n",
       "    <tr>\n",
       "      <th>89592</th>\n",
       "      <td>DNA</td>\n",
       "      <td>0</td>\n",
       "      <td>0</td>\n",
       "      <td>0</td>\n",
       "      <td>0</td>\n",
       "      <td>0</td>\n",
       "      <td>0</td>\n",
       "      <td>0</td>\n",
       "      <td>0</td>\n",
       "      <td>0</td>\n",
       "      <td>...</td>\n",
       "      <td>0</td>\n",
       "      <td>0</td>\n",
       "      <td>0</td>\n",
       "      <td>0</td>\n",
       "      <td>0</td>\n",
       "      <td>0</td>\n",
       "      <td>0</td>\n",
       "      <td>0</td>\n",
       "      <td>0</td>\n",
       "      <td>0</td>\n",
       "    </tr>\n",
       "    <tr>\n",
       "      <th>89593</th>\n",
       "      <td>DNA</td>\n",
       "      <td>0</td>\n",
       "      <td>0</td>\n",
       "      <td>0</td>\n",
       "      <td>0</td>\n",
       "      <td>0</td>\n",
       "      <td>0</td>\n",
       "      <td>0</td>\n",
       "      <td>0</td>\n",
       "      <td>0</td>\n",
       "      <td>...</td>\n",
       "      <td>0</td>\n",
       "      <td>0</td>\n",
       "      <td>0</td>\n",
       "      <td>0</td>\n",
       "      <td>0</td>\n",
       "      <td>0</td>\n",
       "      <td>0</td>\n",
       "      <td>0</td>\n",
       "      <td>0</td>\n",
       "      <td>0</td>\n",
       "    </tr>\n",
       "    <tr>\n",
       "      <th>89594</th>\n",
       "      <td>DNA</td>\n",
       "      <td>0</td>\n",
       "      <td>0</td>\n",
       "      <td>0</td>\n",
       "      <td>0</td>\n",
       "      <td>0</td>\n",
       "      <td>0</td>\n",
       "      <td>0</td>\n",
       "      <td>0</td>\n",
       "      <td>0</td>\n",
       "      <td>...</td>\n",
       "      <td>0</td>\n",
       "      <td>0</td>\n",
       "      <td>0</td>\n",
       "      <td>0</td>\n",
       "      <td>0</td>\n",
       "      <td>0</td>\n",
       "      <td>0</td>\n",
       "      <td>0</td>\n",
       "      <td>0</td>\n",
       "      <td>0</td>\n",
       "    </tr>\n",
       "    <tr>\n",
       "      <th>89596</th>\n",
       "      <td>DNA</td>\n",
       "      <td>0</td>\n",
       "      <td>0</td>\n",
       "      <td>0</td>\n",
       "      <td>0</td>\n",
       "      <td>0</td>\n",
       "      <td>0</td>\n",
       "      <td>0</td>\n",
       "      <td>0</td>\n",
       "      <td>0</td>\n",
       "      <td>...</td>\n",
       "      <td>0</td>\n",
       "      <td>0</td>\n",
       "      <td>0</td>\n",
       "      <td>0</td>\n",
       "      <td>0</td>\n",
       "      <td>0</td>\n",
       "      <td>0</td>\n",
       "      <td>0</td>\n",
       "      <td>0</td>\n",
       "      <td>0</td>\n",
       "    </tr>\n",
       "  </tbody>\n",
       "</table>\n",
       "<p>54539 rows × 4778 columns</p>\n",
       "</div>"
      ],
      "text/plain": [
       "      class  0_x  1_x  2_x  3_x  4_x  5_x  6_x  7_x  8_x  ...  2719  2720  \\\n",
       "88      DNA    0    1    0    0    0    0    0    0    0  ...     0     0   \n",
       "89      DNA    0    0    0    0    0    0    0    0    0  ...     0     0   \n",
       "90      DNA    0    0    0    0    0    0    0    0    0  ...     0     0   \n",
       "91      DNA    0    0    0    0    0    0    0    0    0  ...     0     0   \n",
       "92      DNA    0    0    0    0    0    0    0    0    0  ...     0     0   \n",
       "...     ...  ...  ...  ...  ...  ...  ...  ...  ...  ...  ...   ...   ...   \n",
       "89591   DNA    0    0    0    0    0    0    0    0    0  ...     0     0   \n",
       "89592   DNA    0    0    0    0    0    0    0    0    0  ...     0     0   \n",
       "89593   DNA    0    0    0    0    0    0    0    0    0  ...     0     0   \n",
       "89594   DNA    0    0    0    0    0    0    0    0    0  ...     0     0   \n",
       "89596   DNA    0    0    0    0    0    0    0    0    0  ...     0     0   \n",
       "\n",
       "       2721  2722  2723  2724  2725  2726  2727  2728  \n",
       "88        0     0     0     0     0     0     0     0  \n",
       "89        0     0     0     0     0     0     0     0  \n",
       "90        0     0     0     0     0     0     0     0  \n",
       "91        0     0     0     0     0     0     0     0  \n",
       "92        0     0     0     0     0     0     0     0  \n",
       "...     ...   ...   ...   ...   ...   ...   ...   ...  \n",
       "89591     0     0     0     0     0     0     0     0  \n",
       "89592     0     0     0     0     0     0     0     0  \n",
       "89593     0     0     0     0     0     0     0     0  \n",
       "89594     0     0     0     0     0     0     0     0  \n",
       "89596     0     0     0     0     0     0     0     0  \n",
       "\n",
       "[54539 rows x 4778 columns]"
      ]
     },
     "execution_count": 27,
     "metadata": {},
     "output_type": "execute_result"
    }
   ],
   "source": [
    "df[df['class'] == 'DNA']"
   ]
  },
  {
   "cell_type": "code",
   "execution_count": null,
   "id": "0f9c104f",
   "metadata": {},
   "outputs": [],
   "source": []
  }
 ],
 "metadata": {
  "kernelspec": {
   "display_name": "gpu1",
   "language": "python",
   "name": "gpu1"
  },
  "language_info": {
   "codemirror_mode": {
    "name": "ipython",
    "version": 3
   },
   "file_extension": ".py",
   "mimetype": "text/x-python",
   "name": "python",
   "nbconvert_exporter": "python",
   "pygments_lexer": "ipython3",
   "version": "3.8.10"
  }
 },
 "nbformat": 4,
 "nbformat_minor": 5
}
