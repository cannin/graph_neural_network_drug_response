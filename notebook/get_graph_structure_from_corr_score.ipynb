{
 "cells": [
  {
   "cell_type": "code",
   "execution_count": 1,
   "id": "45f29cae",
   "metadata": {},
   "outputs": [],
   "source": [
    "import sys\n",
    "import warnings\n",
    "from os import listdir\n",
    "from os.path import exists\n",
    "\n",
    "import matplotlib.pyplot as plt\n",
    "import networkx as nx\n",
    "import numpy as np\n",
    "import pandas as pd\n",
    "from joblib import Parallel, delayed\n",
    "\n",
    "warnings.filterwarnings(\"ignore\")\n",
    "\n",
    "from tqdm import tqdm"
   ]
  },
  {
   "cell_type": "code",
   "execution_count": 2,
   "id": "64a22de3",
   "metadata": {},
   "outputs": [],
   "source": [
    "def get_weight_parallel(gene, G, corr):\n",
    "    paths = list(nx.all_simple_paths(G, source=\"GO:0008150\", target=gene))\n",
    "\n",
    "    if len(paths) != 1:\n",
    "        path = set()\n",
    "        for i in paths:\n",
    "            path = path | set(i)\n",
    "    else:\n",
    "        path = paths[0]\n",
    "\n",
    "    path.remove(gene)\n",
    "    return [gene] + list(np.average(corr.loc[list(path)], axis=0))"
   ]
  },
  {
   "cell_type": "code",
   "execution_count": 3,
   "id": "e219780f",
   "metadata": {},
   "outputs": [],
   "source": [
    "def get_weight(corr_score, go):\n",
    "    corr_score = pd.read_csv(corr_score, index_col=0)\n",
    "\n",
    "    nodes = list(set(go[0]) | set(go[1]))\n",
    "    genes = set(go[[\"GO\" not in i for i in go[1]]][1])\n",
    "    \n",
    "    G = nx.DiGraph()\n",
    "    G.add_nodes_from(nodes)\n",
    "    G.add_edges_from(list(go.itertuples(index=False, name=None)))\n",
    "\n",
    "    print(\"Start to calculate the weight of each gene.\")\n",
    "    t = Parallel(n_jobs=-1)(delayed(get_weight_parallel)(gene, G, corr_score) for gene in tqdm(list(genes)))\n",
    "    t = pd.DataFrame(t)\n",
    "    t.index = list(t[0])\n",
    "    t = t.drop(0, axis=1)\n",
    "    t.columns = corr_score.columns\n",
    "\n",
    "    weight = pd.concat([corr_score, t])\n",
    "    weight.to_csv(\"../DrugCell/data_rcellminer/weight_corr.csv\")"
   ]
  },
  {
   "cell_type": "code",
   "execution_count": 4,
   "id": "1ab65ef7",
   "metadata": {
    "scrolled": false
   },
   "outputs": [],
   "source": [
    "def get_graph_info(corr_score, onto_file):\n",
    "    go = pd.read_table(onto_file, header=None)[[0, 1]]\n",
    "    go.to_csv(\"../data/graph.csv\",)\n",
    "    \n",
    "    get_weight(corr_score, go)"
   ]
  },
  {
   "cell_type": "code",
   "execution_count": 5,
   "id": "a4e3ff5e",
   "metadata": {
    "scrolled": true
   },
   "outputs": [
    {
     "name": "stdout",
     "output_type": "stream",
     "text": [
      "Start to calculate the weight of each gene.\n"
     ]
    },
    {
     "name": "stderr",
     "output_type": "stream",
     "text": [
      "100%|██████████| 2727/2727 [00:46<00:00, 58.86it/s]\n"
     ]
    }
   ],
   "source": [
    "get_graph_info(\n",
    "    '../DrugCell/data_rcellminer/corr_score.csv', \n",
    "    '../DrugCell/data_rcellminer/go.txt'\n",
    ")"
   ]
  }
 ],
 "metadata": {
  "kernelspec": {
   "display_name": "gpu3",
   "language": "python",
   "name": "gpu3"
  },
  "language_info": {
   "codemirror_mode": {
    "name": "ipython",
    "version": 3
   },
   "file_extension": ".py",
   "mimetype": "text/x-python",
   "name": "python",
   "nbconvert_exporter": "python",
   "pygments_lexer": "ipython3",
   "version": "3.8.13"
  }
 },
 "nbformat": 4,
 "nbformat_minor": 5
}
