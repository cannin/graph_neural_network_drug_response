{
 "cells": [
  {
   "cell_type": "code",
   "execution_count": 1,
   "id": "949f9bfc",
   "metadata": {},
   "outputs": [],
   "source": [
    "import sys\n",
    "import warnings\n",
    "from os import listdir\n",
    "from os.path import exists\n",
    "\n",
    "import matplotlib.pyplot as plt\n",
    "import networkx as nx\n",
    "import numpy as np\n",
    "import pandas as pd\n",
    "from joblib import Parallel, delayed\n",
    "\n",
    "warnings.filterwarnings(\"ignore\")\n",
    "\n",
    "from tqdm import tqdm"
   ]
  },
  {
   "cell_type": "code",
   "execution_count": 2,
   "id": "386552ef",
   "metadata": {},
   "outputs": [],
   "source": [
    "def get_weight_parallel(gene, G, corr):\n",
    "    \"\"\"\n",
    "    Calculate the weight of each gene parallelly.\n",
    "\n",
    "    Args:\n",
    "        gene: the gene name.\n",
    "        G: the graph.\n",
    "        corr: the correlation matrix.\n",
    "    Returns:\n",
    "        The weight of the gene.\n",
    "    \"\"\"\n",
    "    \n",
    "    paths = list(nx.all_simple_paths(G, source=\"GO:0008150\", target=gene))\n",
    "\n",
    "    if len(paths) != 1:\n",
    "        path = set()\n",
    "        for i in paths:\n",
    "            path = path | set(i)\n",
    "    else:\n",
    "        path = paths[0]\n",
    "\n",
    "    path.remove(gene)\n",
    "    return [gene] + list(np.average(corr.loc[list(path)], axis=0))"
   ]
  },
  {
   "cell_type": "code",
   "execution_count": 3,
   "id": "67b6c2a0",
   "metadata": {},
   "outputs": [],
   "source": [
    "def get_weight(corr_score, go):\n",
    "    \"\"\"\n",
    "    The wrapper function to calculate the weight of each gene.\n",
    "\n",
    "    Args:\n",
    "        corr_score: the correlation matrix.\n",
    "        go: the ontology file.\n",
    "    \"\"\"\n",
    "\n",
    "    corr_score = pd.read_csv(corr_score, index_col=0)\n",
    "\n",
    "    nodes = list(set(go[0]) | set(go[1]))\n",
    "    genes = set(go[[\"GO\" not in i for i in go[1]]][1])\n",
    "    \n",
    "    G = nx.DiGraph()\n",
    "    G.add_nodes_from(nodes)\n",
    "    G.add_edges_from(list(go.itertuples(index=False, name=None)))\n",
    "\n",
    "    print(\"Start to calculate the weight of each gene.\")\n",
    "    t = Parallel(n_jobs=-1)(delayed(get_weight_parallel)(gene, G, corr_score) for gene in tqdm(list(genes)))\n",
    "    t = pd.DataFrame(t)\n",
    "    t.index = list(t[0])\n",
    "    t = t.drop(0, axis=1)\n",
    "    t.columns = corr_score.columns\n",
    "\n",
    "    weight = pd.concat([corr_score, t])\n",
    "    weight.to_csv(\"../DrugCell/data_rcellminer/weight_corr.csv\")"
   ]
  },
  {
   "cell_type": "code",
   "execution_count": 4,
   "id": "4444060c",
   "metadata": {
    "scrolled": false
   },
   "outputs": [],
   "source": [
    "def get_graph_info(corr_score, onto_file):\n",
    "    \"\"\"\n",
    "    Get the graph structure and the weight of each gene.\n",
    "\n",
    "    Args:\n",
    "        corr_score: the Path of the correlation matrix.\n",
    "        onto_file: the Path of the ontology file.\n",
    "    \"\"\"\n",
    "    \n",
    "    go = pd.read_table(onto_file, header=None)[[0, 1]]\n",
    "    go.to_csv(\"../data/graph.csv\",)\n",
    "    \n",
    "    get_weight(corr_score, go)"
   ]
  },
  {
   "cell_type": "code",
   "execution_count": 5,
   "id": "70f93bfc",
   "metadata": {
    "scrolled": true
   },
   "outputs": [
    {
     "name": "stdout",
     "output_type": "stream",
     "text": [
      "Start to calculate the weight of each gene.\n"
     ]
    },
    {
     "name": "stderr",
     "output_type": "stream",
     "text": [
      "100%|██████████| 2727/2727 [01:01<00:00, 44.59it/s]\n"
     ]
    }
   ],
   "source": [
    "get_graph_info(\n",
    "    '../DrugCell/data_rcellminer/corr_score.csv', \n",
    "    '../DrugCell/data_rcellminer/go.txt'\n",
    ")"
   ]
  },
  {
   "cell_type": "code",
   "execution_count": null,
   "id": "6759f805",
   "metadata": {},
   "outputs": [],
   "source": []
  },
  {
   "cell_type": "code",
   "execution_count": 6,
   "id": "c74d4f5c",
   "metadata": {},
   "outputs": [],
   "source": [
    "pubchem_id =  pd.read_csv('../data/nsc_cid_smiles.csv')\n",
    "pubchem_id = {pubchem_id['CID'][i]: pubchem_id['SMILES'][i] for i in pubchem_id.index}\n",
    "t = pd.read_csv(\"../DrugCell/data_rcellminer/weight_corr.csv\", index_col=0)"
   ]
  },
  {
   "cell_type": "code",
   "execution_count": 7,
   "id": "9fa26937",
   "metadata": {
    "scrolled": true
   },
   "outputs": [],
   "source": [
    "g = [126941, 24360, 3385, 135916113, 54611422]\n",
    "t = t[[pubchem_id[i] for i in g]]\n",
    "t.columns = g\n",
    "t.to_csv(\"../DrugCell/data_rcellminer/weight_corr_cid_some_drugs.csv\")"
   ]
  },
  {
   "cell_type": "code",
   "execution_count": null,
   "id": "7158f0e8",
   "metadata": {},
   "outputs": [],
   "source": []
  }
 ],
 "metadata": {
  "kernelspec": {
   "display_name": "gpu1",
   "language": "python",
   "name": "gpu1"
  },
  "language_info": {
   "codemirror_mode": {
    "name": "ipython",
    "version": 3
   },
   "file_extension": ".py",
   "mimetype": "text/x-python",
   "name": "python",
   "nbconvert_exporter": "python",
   "pygments_lexer": "ipython3",
   "version": "3.8.10"
  }
 },
 "nbformat": 4,
 "nbformat_minor": 5
}
