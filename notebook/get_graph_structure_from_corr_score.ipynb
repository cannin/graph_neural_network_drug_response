{
 "cells": [
  {
   "cell_type": "code",
   "execution_count": 1,
   "id": "949f9bfc",
   "metadata": {},
   "outputs": [],
   "source": [
    "import sys\n",
    "import warnings\n",
    "from os import listdir\n",
    "from os.path import exists\n",
    "\n",
    "import matplotlib.pyplot as plt\n",
    "import networkx as nx\n",
    "import numpy as np\n",
    "import pandas as pd\n",
    "from joblib import Parallel, delayed\n",
    "\n",
    "warnings.filterwarnings(\"ignore\")\n",
    "\n",
    "from tqdm import tqdm"
   ]
  },
  {
   "cell_type": "code",
   "execution_count": 2,
   "id": "386552ef",
   "metadata": {},
   "outputs": [],
   "source": [
    "def get_weight_parallel(gene, G, corr):\n",
    "    paths = list(nx.all_simple_paths(G, source=\"GO:0008150\", target=gene))\n",
    "\n",
    "    if len(paths) != 1:\n",
    "        path = set()\n",
    "        for i in paths:\n",
    "            path = path | set(i)\n",
    "    else:\n",
    "        path = paths[0]\n",
    "\n",
    "    path.remove(gene)\n",
    "    return [gene] + list(np.average(corr.loc[list(path)], axis=0))"
   ]
  },
  {
   "cell_type": "code",
   "execution_count": 3,
   "id": "67b6c2a0",
   "metadata": {},
   "outputs": [],
   "source": [
    "def get_weight(corr_score, go):\n",
    "    corr_score = pd.read_csv(corr_score, index_col=0)\n",
    "\n",
    "    nodes = list(set(go[0]) | set(go[1]))\n",
    "    genes = set(go[[\"GO\" not in i for i in go[1]]][1])\n",
    "    \n",
    "    G = nx.DiGraph()\n",
    "    G.add_nodes_from(nodes)\n",
    "    G.add_edges_from(list(go.itertuples(index=False, name=None)))\n",
    "\n",
    "    print(\"Start to calculate the weight of each gene.\")\n",
    "    t = Parallel(n_jobs=-1)(delayed(get_weight_parallel)(gene, G, corr_score) for gene in tqdm(list(genes)))\n",
    "    t = pd.DataFrame(t)\n",
    "    t.index = list(t[0])\n",
    "    t = t.drop(0, axis=1)\n",
    "    t.columns = corr_score.columns\n",
    "\n",
    "    weight = pd.concat([corr_score, t])\n",
    "    weight.to_csv(\"../DrugCell/data_rcellminer/weight_corr.csv\")"
   ]
  },
  {
   "cell_type": "code",
   "execution_count": 4,
   "id": "4444060c",
   "metadata": {
    "scrolled": false
   },
   "outputs": [],
   "source": [
    "def get_graph_info(corr_score, onto_file):\n",
    "    go = pd.read_table(onto_file, header=None)[[0, 1]]\n",
    "    go.to_csv(\"../data/graph.csv\",)\n",
    "    \n",
    "    get_weight(corr_score, go)"
   ]
  },
  {
   "cell_type": "code",
   "execution_count": 5,
   "id": "70f93bfc",
   "metadata": {
    "scrolled": true
   },
   "outputs": [
    {
     "name": "stdout",
     "output_type": "stream",
     "text": [
      "Start to calculate the weight of each gene.\n"
     ]
    },
    {
     "name": "stderr",
     "output_type": "stream",
     "text": [
      "100%|██████████| 2727/2727 [00:46<00:00, 58.64it/s]\n"
     ]
    }
   ],
   "source": [
    "get_graph_info(\n",
    "    '../DrugCell/data_rcellminer/corr_score.csv', \n",
    "    '../DrugCell/data_rcellminer/go.txt'\n",
    ")"
   ]
  },
  {
   "cell_type": "code",
   "execution_count": null,
   "id": "6759f805",
   "metadata": {},
   "outputs": [],
   "source": []
  },
  {
   "cell_type": "code",
   "execution_count": 6,
   "id": "c74d4f5c",
   "metadata": {},
   "outputs": [],
   "source": [
    "pubchem_id =  pd.read_csv('../data/nsc_cid_smiles.csv')\n",
    "pubchem_id = {pubchem_id['CID'][i]: pubchem_id['SMILES'][i] for i in pubchem_id.index}\n",
    "t = pd.read_csv(\"../DrugCell/data_rcellminer/weight_corr.csv\", index_col=0)"
   ]
  },
  {
   "cell_type": "code",
   "execution_count": 7,
   "id": "9fa26937",
   "metadata": {
    "scrolled": true
   },
   "outputs": [],
   "source": [
    "g = [126941, 24360, 3385, 135916113, 54611422]\n",
    "t = t[[pubchem_id[i] for i in g]]\n",
    "t.columns = g\n",
    "t.to_csv(\"../DrugCell/data_rcellminer/weight_corr_cid_some_drugs.csv\")"
   ]
  },
  {
   "cell_type": "code",
   "execution_count": 8,
   "id": "41322318",
   "metadata": {},
   "outputs": [
    {
     "data": {
      "text/html": [
       "<div>\n",
       "<style scoped>\n",
       "    .dataframe tbody tr th:only-of-type {\n",
       "        vertical-align: middle;\n",
       "    }\n",
       "\n",
       "    .dataframe tbody tr th {\n",
       "        vertical-align: top;\n",
       "    }\n",
       "\n",
       "    .dataframe thead th {\n",
       "        text-align: right;\n",
       "    }\n",
       "</style>\n",
       "<table border=\"1\" class=\"dataframe\">\n",
       "  <thead>\n",
       "    <tr style=\"text-align: right;\">\n",
       "      <th></th>\n",
       "      <th>126941</th>\n",
       "      <th>24360</th>\n",
       "      <th>3385</th>\n",
       "      <th>135916113</th>\n",
       "      <th>54611422</th>\n",
       "    </tr>\n",
       "  </thead>\n",
       "  <tbody>\n",
       "    <tr>\n",
       "      <th>GO:0007005</th>\n",
       "      <td>0.698094</td>\n",
       "      <td>0.827603</td>\n",
       "      <td>0.592121</td>\n",
       "      <td>0.597243</td>\n",
       "      <td>0.862422</td>\n",
       "    </tr>\n",
       "    <tr>\n",
       "      <th>GO:0006281</th>\n",
       "      <td>0.953646</td>\n",
       "      <td>0.810982</td>\n",
       "      <td>0.868356</td>\n",
       "      <td>0.773962</td>\n",
       "      <td>0.914964</td>\n",
       "    </tr>\n",
       "    <tr>\n",
       "      <th>GO:0051052</th>\n",
       "      <td>0.953646</td>\n",
       "      <td>0.940476</td>\n",
       "      <td>0.920857</td>\n",
       "      <td>0.790606</td>\n",
       "      <td>0.848660</td>\n",
       "    </tr>\n",
       "    <tr>\n",
       "      <th>GO:1903047</th>\n",
       "      <td>0.953646</td>\n",
       "      <td>0.928880</td>\n",
       "      <td>0.925057</td>\n",
       "      <td>0.732351</td>\n",
       "      <td>0.963343</td>\n",
       "    </tr>\n",
       "    <tr>\n",
       "      <th>GO:0006631</th>\n",
       "      <td>0.972345</td>\n",
       "      <td>0.919602</td>\n",
       "      <td>0.859956</td>\n",
       "      <td>0.832217</td>\n",
       "      <td>0.796296</td>\n",
       "    </tr>\n",
       "    <tr>\n",
       "      <th>...</th>\n",
       "      <td>...</td>\n",
       "      <td>...</td>\n",
       "      <td>...</td>\n",
       "      <td>...</td>\n",
       "      <td>...</td>\n",
       "    </tr>\n",
       "    <tr>\n",
       "      <th>WNK3</th>\n",
       "      <td>0.848461</td>\n",
       "      <td>0.869564</td>\n",
       "      <td>0.804379</td>\n",
       "      <td>0.757869</td>\n",
       "      <td>0.854731</td>\n",
       "    </tr>\n",
       "    <tr>\n",
       "      <th>TNIK</th>\n",
       "      <td>0.907925</td>\n",
       "      <td>0.924136</td>\n",
       "      <td>0.880943</td>\n",
       "      <td>0.789247</td>\n",
       "      <td>0.905308</td>\n",
       "    </tr>\n",
       "    <tr>\n",
       "      <th>VPS4B</th>\n",
       "      <td>0.830377</td>\n",
       "      <td>0.829976</td>\n",
       "      <td>0.785671</td>\n",
       "      <td>0.705059</td>\n",
       "      <td>0.848643</td>\n",
       "    </tr>\n",
       "    <tr>\n",
       "      <th>PTGER1</th>\n",
       "      <td>0.835289</td>\n",
       "      <td>0.883437</td>\n",
       "      <td>0.783995</td>\n",
       "      <td>0.748062</td>\n",
       "      <td>0.852699</td>\n",
       "    </tr>\n",
       "    <tr>\n",
       "      <th>FECH</th>\n",
       "      <td>0.812131</td>\n",
       "      <td>0.847276</td>\n",
       "      <td>0.759301</td>\n",
       "      <td>0.728782</td>\n",
       "      <td>0.831035</td>\n",
       "    </tr>\n",
       "  </tbody>\n",
       "</table>\n",
       "<p>4813 rows × 5 columns</p>\n",
       "</div>"
      ],
      "text/plain": [
       "            126941     24360      3385       135916113  54611422 \n",
       "GO:0007005   0.698094   0.827603   0.592121   0.597243   0.862422\n",
       "GO:0006281   0.953646   0.810982   0.868356   0.773962   0.914964\n",
       "GO:0051052   0.953646   0.940476   0.920857   0.790606   0.848660\n",
       "GO:1903047   0.953646   0.928880   0.925057   0.732351   0.963343\n",
       "GO:0006631   0.972345   0.919602   0.859956   0.832217   0.796296\n",
       "...               ...        ...        ...        ...        ...\n",
       "WNK3         0.848461   0.869564   0.804379   0.757869   0.854731\n",
       "TNIK         0.907925   0.924136   0.880943   0.789247   0.905308\n",
       "VPS4B        0.830377   0.829976   0.785671   0.705059   0.848643\n",
       "PTGER1       0.835289   0.883437   0.783995   0.748062   0.852699\n",
       "FECH         0.812131   0.847276   0.759301   0.728782   0.831035\n",
       "\n",
       "[4813 rows x 5 columns]"
      ]
     },
     "execution_count": 8,
     "metadata": {},
     "output_type": "execute_result"
    }
   ],
   "source": [
    "t"
   ]
  },
  {
   "cell_type": "code",
   "execution_count": null,
   "id": "7158f0e8",
   "metadata": {},
   "outputs": [],
   "source": []
  }
 ],
 "metadata": {
  "kernelspec": {
   "display_name": "gpu3",
   "language": "python",
   "name": "gpu3"
  },
  "language_info": {
   "codemirror_mode": {
    "name": "ipython",
    "version": 3
   },
   "file_extension": ".py",
   "mimetype": "text/x-python",
   "name": "python",
   "nbconvert_exporter": "python",
   "pygments_lexer": "ipython3",
   "version": "3.8.13"
  }
 },
 "nbformat": 4,
 "nbformat_minor": 5
}
