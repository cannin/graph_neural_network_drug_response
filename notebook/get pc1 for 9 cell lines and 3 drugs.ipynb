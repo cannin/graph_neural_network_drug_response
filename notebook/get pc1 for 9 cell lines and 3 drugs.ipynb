{
 "cells": [
  {
   "cell_type": "code",
   "execution_count": 1,
   "metadata": {},
   "outputs": [],
   "source": [
    "import sys\n",
    "import pandas as pd\n",
    "import numpy as np\n",
    "import networkx as nx\n",
    "import matplotlib.pyplot as plt\n",
    "\n",
    "from IPython.display import Markdown\n",
    "from os import listdir\n",
    "from os.path import exists\n",
    "from tqdm import tqdm\n",
    "from joblib import Parallel, delayed\n",
    "from sklearn.decomposition import PCA\n",
    "\n",
    "import warnings\n",
    "\n",
    "warnings.filterwarnings(\"ignore\")"
   ]
  },
  {
   "cell_type": "code",
   "execution_count": 2,
   "metadata": {},
   "outputs": [],
   "source": [
    "test = pd.read_csv('../DrugCell/data_rcellminer/test_DNA.txt', sep='\\t', header=None)"
   ]
  },
  {
   "cell_type": "code",
   "execution_count": 3,
   "metadata": {},
   "outputs": [],
   "source": [
    "hidden_data_path = '../DrugCell/code/Hidden/'\n",
    "hidden = listdir(hidden_data_path)\n",
    "hidden = [i for i in hidden if \"GO\" in i]"
   ]
  },
  {
   "cell_type": "code",
   "execution_count": 4,
   "metadata": {
    "scrolled": true
   },
   "outputs": [],
   "source": [
    "table = pd.DataFrame(\n",
    "    np.zeros((len(set(test[0])), len(set(test[1])))),\n",
    "    index=set(test[0]), columns=set(test[1])\n",
    ").astype(int)"
   ]
  },
  {
   "cell_type": "code",
   "execution_count": 5,
   "metadata": {
    "scrolled": true
   },
   "outputs": [],
   "source": [
    "for i in table.index:\n",
    "    for j in table.columns:\n",
    "        if len(test[(test[0] == i) & (test[1] == j)]) > 0:\n",
    "            table[j][i] = 1"
   ]
  },
  {
   "cell_type": "code",
   "execution_count": 6,
   "metadata": {
    "scrolled": true
   },
   "outputs": [],
   "source": [
    "col_sorted = list(pd.DataFrame(np.sum(table)).sort_values(0, ascending=False).index)\n",
    "ind_sorted = list(pd.DataFrame(np.sum(table, axis=1)).sort_values(0, ascending=False).index)\n",
    "table = table.loc[:, col_sorted]"
   ]
  },
  {
   "cell_type": "code",
   "execution_count": 7,
   "metadata": {
    "scrolled": true
   },
   "outputs": [],
   "source": [
    "cols = table.columns\n",
    "g = table[(table[cols[1]] == 1) & (table[cols[2]] == 1) & (table[cols[3]] == 1)]\n",
    "g = g.loc[:, np.sum(g) == 9]"
   ]
  },
  {
   "cell_type": "code",
   "execution_count": 8,
   "metadata": {},
   "outputs": [],
   "source": [
    "def get_pca(hidden, hidden_data_path, indexes):\n",
    "    pca = pd.DataFrame()\n",
    "    \n",
    "    print(\"Start to calculate the PCA of each hidden layer.\")\n",
    "    for i in tqdm(hidden):\n",
    "        X = pd.read_csv(\n",
    "            hidden_data_path + i,\n",
    "            sep=\" \",\n",
    "            header=None,\n",
    "        )\n",
    "        \n",
    "        X = X.loc[indexes]\n",
    "        X_pca = PCA(n_components=1).fit_transform(X)\n",
    "        pca = pd.concat([\n",
    "            pca, \n",
    "            pd.DataFrame(X_pca)\n",
    "        ], axis=1)\n",
    "\n",
    "    pca.columns = [i.split('.')[0] for i in hidden]\n",
    "    \n",
    "    return pca"
   ]
  },
  {
   "cell_type": "code",
   "execution_count": 9,
   "metadata": {},
   "outputs": [],
   "source": [
    "t = pd.DataFrame()\n",
    "for i in g.index:\n",
    "    for l in g.columns:\n",
    "        t = pd.concat([t, test[(test[0] == i) & (test[1] == l)].drop(2, axis=1)])\n",
    "t = t.drop_duplicates()"
   ]
  },
  {
   "cell_type": "code",
   "execution_count": 10,
   "metadata": {},
   "outputs": [
    {
     "name": "stdout",
     "output_type": "stream",
     "text": [
      "Start to calculate the PCA of each hidden layer.\n"
     ]
    },
    {
     "name": "stderr",
     "output_type": "stream",
     "text": [
      "100%|██████████| 2086/2086 [00:32<00:00, 63.77it/s]\n"
     ]
    }
   ],
   "source": [
    "GO_terms = get_pca(hidden, hidden_data_path, list(t.index))"
   ]
  },
  {
   "cell_type": "code",
   "execution_count": 11,
   "metadata": {
    "scrolled": true
   },
   "outputs": [],
   "source": [
    "t = t.reset_index(drop=True)\n",
    "t.columns = ['Cell Line', 'SMILES']\n",
    "tmp = pd.read_csv('../data/nsc_cid_smiles.csv')\n",
    "translater = {tmp['SMILES'][i]: tmp['CID'][i] for i in tmp.index}\n",
    "t['CID'] = [translater[i] for i in t['SMILES']]"
   ]
  },
  {
   "cell_type": "code",
   "execution_count": 12,
   "metadata": {
    "scrolled": true
   },
   "outputs": [],
   "source": [
    "res = pd.DataFrame()\n",
    "\n",
    "for i in GO_terms.columns:\n",
    "    t['GO_terms'] = [i]*len(GO_terms.index)\n",
    "    t['PC1'] = GO_terms[i]\n",
    "    res = pd.concat([res, t])\n",
    "    \n",
    "res = res.sort_values(['CID', 'GO_terms']).reset_index(drop=True)"
   ]
  },
  {
   "cell_type": "code",
   "execution_count": 13,
   "metadata": {
    "scrolled": false
   },
   "outputs": [
    {
     "data": {
      "text/html": [
       "<div>\n",
       "<style scoped>\n",
       "    .dataframe tbody tr th:only-of-type {\n",
       "        vertical-align: middle;\n",
       "    }\n",
       "\n",
       "    .dataframe tbody tr th {\n",
       "        vertical-align: top;\n",
       "    }\n",
       "\n",
       "    .dataframe thead th {\n",
       "        text-align: right;\n",
       "    }\n",
       "</style>\n",
       "<table border=\"1\" class=\"dataframe\">\n",
       "  <thead>\n",
       "    <tr style=\"text-align: right;\">\n",
       "      <th></th>\n",
       "      <th>Cell Line</th>\n",
       "      <th>SMILES</th>\n",
       "      <th>CID</th>\n",
       "      <th>GO_terms</th>\n",
       "      <th>PC1</th>\n",
       "    </tr>\n",
       "  </thead>\n",
       "  <tbody>\n",
       "    <tr>\n",
       "      <th>0</th>\n",
       "      <td>MDAMB435S_SKIN</td>\n",
       "      <td>CC1=C(C(=O)C2=C(C1=O)N3CC4C(C3(C2COC(=O)N)OC)N4)N</td>\n",
       "      <td>5702003</td>\n",
       "      <td>GO:0000038</td>\n",
       "      <td>-0.125573</td>\n",
       "    </tr>\n",
       "    <tr>\n",
       "      <th>1</th>\n",
       "      <td>U251MG_CENTRAL_NERVOUS_SYSTEM</td>\n",
       "      <td>CC1=C(C(=O)C2=C(C1=O)N3CC4C(C3(C2COC(=O)N)OC)N4)N</td>\n",
       "      <td>5702003</td>\n",
       "      <td>GO:0000038</td>\n",
       "      <td>-0.125573</td>\n",
       "    </tr>\n",
       "    <tr>\n",
       "      <th>2</th>\n",
       "      <td>OVCAR8_OVARY</td>\n",
       "      <td>CC1=C(C(=O)C2=C(C1=O)N3CC4C(C3(C2COC(=O)N)OC)N4)N</td>\n",
       "      <td>5702003</td>\n",
       "      <td>GO:0000038</td>\n",
       "      <td>-0.125573</td>\n",
       "    </tr>\n",
       "    <tr>\n",
       "      <th>3</th>\n",
       "      <td>786O_KIDNEY</td>\n",
       "      <td>CC1=C(C(=O)C2=C(C1=O)N3CC4C(C3(C2COC(=O)N)OC)N4)N</td>\n",
       "      <td>5702003</td>\n",
       "      <td>GO:0000038</td>\n",
       "      <td>-0.125573</td>\n",
       "    </tr>\n",
       "    <tr>\n",
       "      <th>4</th>\n",
       "      <td>NCIH322_LUNG</td>\n",
       "      <td>CC1=C(C(=O)C2=C(C1=O)N3CC4C(C3(C2COC(=O)N)OC)N4)N</td>\n",
       "      <td>5702003</td>\n",
       "      <td>GO:0000038</td>\n",
       "      <td>1.004581</td>\n",
       "    </tr>\n",
       "    <tr>\n",
       "      <th>...</th>\n",
       "      <td>...</td>\n",
       "      <td>...</td>\n",
       "      <td>...</td>\n",
       "      <td>...</td>\n",
       "      <td>...</td>\n",
       "    </tr>\n",
       "    <tr>\n",
       "      <th>56317</th>\n",
       "      <td>NCIH322_LUNG</td>\n",
       "      <td>C1CC1C(=O)N2CCN(CC2)C(=O)C3=C(C=CC(=C3)CC4=NNC...</td>\n",
       "      <td>23725625</td>\n",
       "      <td>GO:2001259</td>\n",
       "      <td>0.698820</td>\n",
       "    </tr>\n",
       "    <tr>\n",
       "      <th>56318</th>\n",
       "      <td>BT549_BREAST</td>\n",
       "      <td>C1CC1C(=O)N2CCN(CC2)C(=O)C3=C(C=CC(=C3)CC4=NNC...</td>\n",
       "      <td>23725625</td>\n",
       "      <td>GO:2001259</td>\n",
       "      <td>-0.554323</td>\n",
       "    </tr>\n",
       "    <tr>\n",
       "      <th>56319</th>\n",
       "      <td>NCIH226_LUNG</td>\n",
       "      <td>C1CC1C(=O)N2CCN(CC2)C(=O)C3=C(C=CC(=C3)CC4=NNC...</td>\n",
       "      <td>23725625</td>\n",
       "      <td>GO:2001259</td>\n",
       "      <td>-0.554323</td>\n",
       "    </tr>\n",
       "    <tr>\n",
       "      <th>56320</th>\n",
       "      <td>NCIH23_LUNG</td>\n",
       "      <td>C1CC1C(=O)N2CCN(CC2)C(=O)C3=C(C=CC(=C3)CC4=NNC...</td>\n",
       "      <td>23725625</td>\n",
       "      <td>GO:2001259</td>\n",
       "      <td>1.612866</td>\n",
       "    </tr>\n",
       "    <tr>\n",
       "      <th>56321</th>\n",
       "      <td>RXF393_KIDNEY</td>\n",
       "      <td>C1CC1C(=O)N2CCN(CC2)C(=O)C3=C(C=CC(=C3)CC4=NNC...</td>\n",
       "      <td>23725625</td>\n",
       "      <td>GO:2001259</td>\n",
       "      <td>0.698820</td>\n",
       "    </tr>\n",
       "  </tbody>\n",
       "</table>\n",
       "<p>56322 rows × 5 columns</p>\n",
       "</div>"
      ],
      "text/plain": [
       "                           Cell Line  \\\n",
       "0                     MDAMB435S_SKIN   \n",
       "1      U251MG_CENTRAL_NERVOUS_SYSTEM   \n",
       "2                       OVCAR8_OVARY   \n",
       "3                        786O_KIDNEY   \n",
       "4                       NCIH322_LUNG   \n",
       "...                              ...   \n",
       "56317                   NCIH322_LUNG   \n",
       "56318                   BT549_BREAST   \n",
       "56319                   NCIH226_LUNG   \n",
       "56320                    NCIH23_LUNG   \n",
       "56321                  RXF393_KIDNEY   \n",
       "\n",
       "                                                  SMILES       CID  \\\n",
       "0      CC1=C(C(=O)C2=C(C1=O)N3CC4C(C3(C2COC(=O)N)OC)N4)N   5702003   \n",
       "1      CC1=C(C(=O)C2=C(C1=O)N3CC4C(C3(C2COC(=O)N)OC)N4)N   5702003   \n",
       "2      CC1=C(C(=O)C2=C(C1=O)N3CC4C(C3(C2COC(=O)N)OC)N4)N   5702003   \n",
       "3      CC1=C(C(=O)C2=C(C1=O)N3CC4C(C3(C2COC(=O)N)OC)N4)N   5702003   \n",
       "4      CC1=C(C(=O)C2=C(C1=O)N3CC4C(C3(C2COC(=O)N)OC)N4)N   5702003   \n",
       "...                                                  ...       ...   \n",
       "56317  C1CC1C(=O)N2CCN(CC2)C(=O)C3=C(C=CC(=C3)CC4=NNC...  23725625   \n",
       "56318  C1CC1C(=O)N2CCN(CC2)C(=O)C3=C(C=CC(=C3)CC4=NNC...  23725625   \n",
       "56319  C1CC1C(=O)N2CCN(CC2)C(=O)C3=C(C=CC(=C3)CC4=NNC...  23725625   \n",
       "56320  C1CC1C(=O)N2CCN(CC2)C(=O)C3=C(C=CC(=C3)CC4=NNC...  23725625   \n",
       "56321  C1CC1C(=O)N2CCN(CC2)C(=O)C3=C(C=CC(=C3)CC4=NNC...  23725625   \n",
       "\n",
       "         GO_terms       PC1  \n",
       "0      GO:0000038 -0.125573  \n",
       "1      GO:0000038 -0.125573  \n",
       "2      GO:0000038 -0.125573  \n",
       "3      GO:0000038 -0.125573  \n",
       "4      GO:0000038  1.004581  \n",
       "...           ...       ...  \n",
       "56317  GO:2001259  0.698820  \n",
       "56318  GO:2001259 -0.554323  \n",
       "56319  GO:2001259 -0.554323  \n",
       "56320  GO:2001259  1.612866  \n",
       "56321  GO:2001259  0.698820  \n",
       "\n",
       "[56322 rows x 5 columns]"
      ]
     },
     "execution_count": 13,
     "metadata": {},
     "output_type": "execute_result"
    }
   ],
   "source": [
    "res"
   ]
  },
  {
   "cell_type": "code",
   "execution_count": 14,
   "metadata": {},
   "outputs": [],
   "source": [
    "res.to_csv('PC1_for_27_samples.csv', index=False)"
   ]
  }
 ],
 "metadata": {
  "kernelspec": {
   "display_name": "gpu",
   "language": "python",
   "name": "gpu"
  },
  "language_info": {
   "codemirror_mode": {
    "name": "ipython",
    "version": 3
   },
   "file_extension": ".py",
   "mimetype": "text/x-python",
   "name": "python",
   "nbconvert_exporter": "python",
   "pygments_lexer": "ipython3",
   "version": "3.8.13"
  }
 },
 "nbformat": 4,
 "nbformat_minor": 2
}
