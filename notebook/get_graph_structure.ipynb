{
 "cells": [
  {
   "cell_type": "code",
   "execution_count": 1,
   "id": "ba978ed9",
   "metadata": {},
   "outputs": [],
   "source": [
    "import sys\n",
    "import warnings\n",
    "from os import listdir\n",
    "from os.path import exists\n",
    "\n",
    "import matplotlib.pyplot as plt\n",
    "import networkx as nx\n",
    "import numpy as np\n",
    "import pandas as pd\n",
    "from joblib import Parallel, delayed\n",
    "\n",
    "warnings.filterwarnings(\"ignore\")\n",
    "\n",
    "from sklearn.decomposition import PCA\n",
    "from tqdm import tqdm"
   ]
  },
  {
   "cell_type": "code",
   "execution_count": 2,
   "id": "f128258e",
   "metadata": {},
   "outputs": [],
   "source": [
    "def get_pca(hidden, hidden_data_path, sample_index):\n",
    "    pca = pd.DataFrame()\n",
    "\n",
    "    print(\"Start to calculate the PCA of each hidden layer.\")\n",
    "    for i in tqdm(hidden):\n",
    "        X = pd.read_csv(\n",
    "            hidden_data_path + i,\n",
    "            sep=\" \",\n",
    "            header=None,\n",
    "        ).loc[sample_index]\n",
    "\n",
    "        X_pca = PCA(n_components=1).fit_transform(X)\n",
    "        pca = pd.concat([pca, pd.DataFrame(X_pca).T])\n",
    "\n",
    "    pca.columns = sample_index\n",
    "    pca.index = [i.split(\".\")[0] for i in hidden]\n",
    "\n",
    "    return pca"
   ]
  },
  {
   "cell_type": "code",
   "execution_count": 3,
   "id": "13fd1aa4",
   "metadata": {
    "scrolled": true
   },
   "outputs": [],
   "source": [
    "def get_single_hidden_layer(hidden, hidden_data_path, sample_index):\n",
    "    df = pd.DataFrame()\n",
    "\n",
    "    print(\"Get each hidden layer.\")\n",
    "    for i in tqdm(hidden):\n",
    "        X = pd.read_csv(\n",
    "            hidden_data_path + i,\n",
    "            sep=\" \",\n",
    "            header=None,\n",
    "        ).loc[sample_index]\n",
    "\n",
    "        df = pd.concat([df, X.T])\n",
    "\n",
    "    df.columns = sample_index\n",
    "    df.index = [i.split(\".\")[0] for i in hidden]\n",
    "\n",
    "    return df"
   ]
  },
  {
   "cell_type": "code",
   "execution_count": 4,
   "id": "d7fcce31",
   "metadata": {},
   "outputs": [],
   "source": [
    "def get_weight_parallel(gene, G, pca):\n",
    "    paths = list(nx.all_simple_paths(G, source=\"GO:0008150\", target=gene))\n",
    "\n",
    "    if len(paths) != 1:\n",
    "        path = set()\n",
    "        for i in paths:\n",
    "            path = path | set(i)\n",
    "    else:\n",
    "        path = paths[0]\n",
    "\n",
    "    path.remove(gene)\n",
    "    return [gene] + list(np.sum(pca.loc[path], axis=0))"
   ]
  },
  {
   "cell_type": "code",
   "execution_count": 5,
   "id": "84921ae0",
   "metadata": {},
   "outputs": [],
   "source": [
    "def get_weight(sample_index, hidden_data_path, go):\n",
    "    sample_index = sample_index.split(\",\")\n",
    "    sample_index = list(map(int, sample_index))\n",
    "    hidden = listdir(hidden_data_path)\n",
    "    hidden = [i for i in hidden if \"GO\" in i]\n",
    "\n",
    "    X = pd.read_csv(\n",
    "        hidden_data_path + \"GO:0000038.hidden\",\n",
    "        sep=\" \",\n",
    "        header=None,\n",
    "    )\n",
    "\n",
    "    if X.shape[1] == 1:\n",
    "        GO_terms = get_single_hidden_layer(hidden, hidden_data_path, sample_index)\n",
    "    else:\n",
    "        GO_terms = get_pca(hidden, hidden_data_path, sample_index)\n",
    "\n",
    "    nodes = list(set(go[0]) | set(go[1]))\n",
    "    genes = set(go[[\"GO\" not in i for i in go[1]]][1])\n",
    "    G = nx.DiGraph()\n",
    "    G.add_nodes_from(nodes)\n",
    "    G.add_edges_from(list(go.itertuples(index=False, name=None)))\n",
    "\n",
    "    print(\"Start to calculate the weight of each gene.\")\n",
    "    t = Parallel(n_jobs=-1)(\n",
    "        delayed(get_weight_parallel)(gene, G, GO_terms) for gene in tqdm(list(genes))\n",
    "    )\n",
    "    t = pd.DataFrame(t)\n",
    "    t.index = list(t[0])\n",
    "    t = t.drop(0, axis=1)\n",
    "    t.columns = sample_index\n",
    "\n",
    "    weight = pd.concat([GO_terms, t])\n",
    "    weight.to_csv(\"weight.csv\")"
   ]
  },
  {
   "cell_type": "code",
   "execution_count": 6,
   "id": "47ce03ec",
   "metadata": {
    "scrolled": false
   },
   "outputs": [],
   "source": [
    "def get_graph_info(sample_index, hidden_data_path, onto_file):\n",
    "    go = pd.read_table(onto_file, header=None)[[0, 1]]\n",
    "    go.to_csv(\n",
    "        \"./graph.csv\",\n",
    "    )\n",
    "\n",
    "    get_weight(sample_index, hidden_data_path, go)\n"
   ]
  },
  {
   "cell_type": "code",
   "execution_count": 7,
   "id": "bc839455",
   "metadata": {},
   "outputs": [
    {
     "name": "stdout",
     "output_type": "stream",
     "text": [
      "Start to calculate the PCA of each hidden layer.\n"
     ]
    },
    {
     "name": "stderr",
     "output_type": "stream",
     "text": [
      "100%|██████████| 2086/2086 [03:43<00:00,  9.35it/s]\n"
     ]
    },
    {
     "name": "stdout",
     "output_type": "stream",
     "text": [
      "Start to calculate the weight of each gene.\n"
     ]
    },
    {
     "name": "stderr",
     "output_type": "stream",
     "text": [
      "100%|██████████| 3006/3006 [01:03<00:00, 47.29it/s]\n"
     ]
    }
   ],
   "source": [
    "get_graph_info(\n",
    "    '100,200,300', \n",
    "    '/export/scratch/inoue019/Hidden/', \n",
    "    '../DrugCell/data/drugcell_ont.txt'\n",
    ")"
   ]
  }
 ],
 "metadata": {
  "kernelspec": {
   "display_name": "gpu3",
   "language": "python",
   "name": "gpu3"
  },
  "language_info": {
   "codemirror_mode": {
    "name": "ipython",
    "version": 3
   },
   "file_extension": ".py",
   "mimetype": "text/x-python",
   "name": "python",
   "nbconvert_exporter": "python",
   "pygments_lexer": "ipython3",
   "version": "3.8.13"
  }
 },
 "nbformat": 4,
 "nbformat_minor": 5
}
