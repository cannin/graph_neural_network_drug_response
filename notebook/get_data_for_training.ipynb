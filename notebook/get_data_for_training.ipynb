{
 "cells": [
  {
   "cell_type": "code",
   "execution_count": 1,
   "id": "82c2d649",
   "metadata": {},
   "outputs": [],
   "source": [
    "import networkx as nx\n",
    "import numpy as np\n",
    "import pandas as pd\n",
    "\n",
    "from rdkit import Chem\n",
    "from rdkit.Chem import AllChem, rdFingerprintGenerator\n",
    "from joblib import Parallel, delayed"
   ]
  },
  {
   "cell_type": "code",
   "execution_count": 2,
   "id": "12d384a6",
   "metadata": {},
   "outputs": [],
   "source": [
    "train = pd.read_csv(\n",
    "    '../DrugCell/data_rcellminer/train_DNA.txt',\n",
    "    header=None,\n",
    "    sep='\\t'\n",
    ")"
   ]
  },
  {
   "cell_type": "code",
   "execution_count": 3,
   "id": "df34f774",
   "metadata": {
    "scrolled": true
   },
   "outputs": [],
   "source": [
    "pd.DataFrame(set(train[1])).reset_index().to_csv(\n",
    "    '../DrugCell/data_rcellminer/drug2ind.txt', sep='\\t', \n",
    "    header=None, index=None\n",
    ")"
   ]
  },
  {
   "cell_type": "code",
   "execution_count": 4,
   "id": "87b8ab6a",
   "metadata": {},
   "outputs": [
    {
     "name": "stderr",
     "output_type": "stream",
     "text": [
      "[18:12:00] WARNING: not removing hydrogen atom without neighbors\n"
     ]
    }
   ],
   "source": [
    "mfp = np.array([\n",
    " np.array(\n",
    "  AllChem.GetMorganFingerprintAsBitVect(\n",
    "    Chem.MolFromSmiles(i), \n",
    "    useChirality=True, \n",
    "    radius=2, \n",
    "    nBits=2048\n",
    "  )) for i in set(train[1])\n",
    "])"
   ]
  },
  {
   "cell_type": "code",
   "execution_count": 5,
   "id": "ac5e32a9",
   "metadata": {},
   "outputs": [],
   "source": [
    "pd.DataFrame(mfp).to_csv(\n",
    "    '../DrugCell/data_rcellminer/drug2fingerprint.csv', sep=',', \n",
    "    header=None, index=None\n",
    ")"
   ]
  },
  {
   "cell_type": "code",
   "execution_count": 6,
   "id": "10bc88d2",
   "metadata": {
    "scrolled": true
   },
   "outputs": [],
   "source": [
    "pd.DataFrame(set(train[0])).reset_index().to_csv(\n",
    "    '../DrugCell/data_rcellminer/cell2ind.txt',\n",
    "    header=None,\n",
    "    index=None,\n",
    "    sep='\\t'\n",
    ")"
   ]
  },
  {
   "cell_type": "code",
   "execution_count": 7,
   "id": "a61ef2e6",
   "metadata": {},
   "outputs": [],
   "source": [
    "cell2ind = pd.read_csv(\n",
    "    '../DrugCell/data/cell2ind.txt',\n",
    "    header=None,\n",
    "    sep='\\t'\n",
    ")"
   ]
  },
  {
   "cell_type": "code",
   "execution_count": 8,
   "id": "65bd91fb",
   "metadata": {
    "scrolled": true
   },
   "outputs": [],
   "source": [
    "t = pd.read_csv(\n",
    "    '../DrugCell/data_rcellminer/cell2ind.txt',\n",
    "    header=None,\n",
    "    sep='\\t'\n",
    ")"
   ]
  },
  {
   "cell_type": "code",
   "execution_count": 9,
   "id": "c245eca2",
   "metadata": {
    "scrolled": true
   },
   "outputs": [],
   "source": [
    "cell2mut = pd.read_csv(\n",
    "    '../DrugCell/data/cell2mutation.txt',\n",
    "    header=None,\n",
    ").loc[\n",
    "    [int(cell2ind[cell2ind[1] == i][0]) for i in t[1]]\n",
    "].reset_index(drop=True)"
   ]
  },
  {
   "cell_type": "code",
   "execution_count": 10,
   "id": "8edd177f",
   "metadata": {
    "scrolled": true
   },
   "outputs": [],
   "source": [
    "none_zero_cols = list(np.sum(cell2mut) != 0)\n",
    "cell2mut = cell2mut.loc[:, none_zero_cols]\n",
    "cell2mut = cell2mut.T.reset_index(drop=True).T\n",
    "cell2mut.to_csv(\n",
    "    '../DrugCell/data_rcellminer/cell2mut.txt',\n",
    "    header=None,\n",
    "#     sep='\\t',\n",
    "    index=None\n",
    ")"
   ]
  },
  {
   "cell_type": "code",
   "execution_count": 11,
   "id": "0f37ac8c",
   "metadata": {},
   "outputs": [],
   "source": [
    "gene2ind = pd.read_csv(\n",
    "    '../DrugCell/data/gene2ind.txt',\n",
    "    header=None,\n",
    "    sep='\\t'\n",
    ")\n",
    "gene2ind = gene2ind.loc[none_zero_cols]\n",
    "pd.DataFrame(list(gene2ind[1])).to_csv(\n",
    "    '../DrugCell/data_rcellminer/gene2ind.txt',\n",
    "    header=None,\n",
    "    sep='\\t'\n",
    ")"
   ]
  },
  {
   "cell_type": "code",
   "execution_count": 12,
   "id": "73b69954",
   "metadata": {},
   "outputs": [],
   "source": [
    "graph = pd.read_csv(\n",
    "    '../DrugCell/data/drugcell_ont.txt',\n",
    "    header=None,\n",
    "    sep='\\t'\n",
    ")"
   ]
  },
  {
   "cell_type": "code",
   "execution_count": 13,
   "id": "4eea8b64",
   "metadata": {},
   "outputs": [],
   "source": [
    "gene = graph[graph[2] == 'gene']"
   ]
  },
  {
   "cell_type": "code",
   "execution_count": 14,
   "id": "9f6a3311",
   "metadata": {},
   "outputs": [],
   "source": [
    "g = pd.DataFrame()\n",
    "for i in gene2ind[1]:\n",
    "    g = pd.concat([\n",
    "        g,\n",
    "        gene[gene[1] == i]\n",
    "    ])"
   ]
  },
  {
   "cell_type": "code",
   "execution_count": 15,
   "id": "925f1ee4",
   "metadata": {},
   "outputs": [],
   "source": [
    "go = pd.concat([\n",
    "    graph[graph[2] == 'default'],\n",
    "    g\n",
    "])"
   ]
  },
  {
   "cell_type": "code",
   "execution_count": 16,
   "id": "1f2aa42d",
   "metadata": {},
   "outputs": [],
   "source": [
    "go.reset_index(drop=True).to_csv(\n",
    "    '../DrugCell/data_rcellminer/go.txt',\n",
    "    header=None,\n",
    "    sep='\\t',\n",
    "    index=None\n",
    ")"
   ]
  }
 ],
 "metadata": {
  "kernelspec": {
   "display_name": "gpu3",
   "language": "python",
   "name": "gpu3"
  },
  "language_info": {
   "codemirror_mode": {
    "name": "ipython",
    "version": 3
   },
   "file_extension": ".py",
   "mimetype": "text/x-python",
   "name": "python",
   "nbconvert_exporter": "python",
   "pygments_lexer": "ipython3",
   "version": "3.8.13"
  }
 },
 "nbformat": 4,
 "nbformat_minor": 5
}
