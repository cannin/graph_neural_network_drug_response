{
 "cells": [
  {
   "cell_type": "code",
   "execution_count": 1,
   "id": "25507ea6",
   "metadata": {},
   "outputs": [],
   "source": [
    "import networkx as nx\n",
    "import numpy as np\n",
    "import pandas as pd\n",
    "\n",
    "from rdkit import Chem\n",
    "from rdkit.Chem import AllChem, rdFingerprintGenerator\n",
    "from joblib import Parallel, delayed"
   ]
  },
  {
   "cell_type": "code",
   "execution_count": 2,
   "id": "9ba21810",
   "metadata": {},
   "outputs": [],
   "source": [
    "train = pd.read_csv(\n",
    "    '../DrugCell/data_rcellminer/train_DNA.txt',\n",
    "    header=None,\n",
    "    sep='\\t'\n",
    ")"
   ]
  },
  {
   "cell_type": "code",
   "execution_count": 3,
   "id": "8cf3df4c",
   "metadata": {
    "scrolled": true
   },
   "outputs": [],
   "source": [
    "pd.DataFrame(set(train[1])).reset_index().to_csv(\n",
    "    '../DrugCell/data_rcellminer/drug2ind.txt', sep='\\t', \n",
    "    header=None, index=None\n",
    ")"
   ]
  },
  {
   "cell_type": "code",
   "execution_count": 4,
   "id": "b70912c0",
   "metadata": {},
   "outputs": [],
   "source": [
    "mfp = np.array([\n",
    " np.array(\n",
    "  AllChem.GetMorganFingerprintAsBitVect(\n",
    "    Chem.MolFromSmiles(i), \n",
    "    useChirality=True, \n",
    "    radius=2, \n",
    "    nBits=2048\n",
    "  )) for i in set(train[1])\n",
    "])"
   ]
  },
  {
   "cell_type": "code",
   "execution_count": 5,
   "id": "cbb51c16",
   "metadata": {},
   "outputs": [],
   "source": [
    "pd.DataFrame(mfp).to_csv(\n",
    "    '../DrugCell/data_rcellminer/drug2fingerprint.csv', sep=',', \n",
    "    header=None, index=None\n",
    ")"
   ]
  },
  {
   "cell_type": "code",
   "execution_count": 6,
   "id": "0bc46209",
   "metadata": {
    "scrolled": true
   },
   "outputs": [],
   "source": [
    "pd.DataFrame(set(train[0])).reset_index().to_csv(\n",
    "    '../DrugCell/data_rcellminer/cell2ind.txt',\n",
    "    header=None,\n",
    "    index=None,\n",
    "    sep='\\t'\n",
    ")"
   ]
  },
  {
   "cell_type": "code",
   "execution_count": 7,
   "id": "95e74120",
   "metadata": {},
   "outputs": [],
   "source": [
    "cell2ind = pd.read_csv(\n",
    "    '../DrugCell/data/cell2ind.txt',\n",
    "    header=None,\n",
    "    sep='\\t'\n",
    ")"
   ]
  },
  {
   "cell_type": "code",
   "execution_count": 8,
   "id": "9294629a",
   "metadata": {
    "scrolled": true
   },
   "outputs": [],
   "source": [
    "t = pd.read_csv(\n",
    "    '../DrugCell/data_rcellminer/cell2ind.txt',\n",
    "    header=None,\n",
    "    sep='\\t'\n",
    ")"
   ]
  },
  {
   "cell_type": "code",
   "execution_count": 9,
   "id": "925d5d2c",
   "metadata": {
    "scrolled": true
   },
   "outputs": [],
   "source": [
    "cell2mut = pd.read_csv(\n",
    "    '../DrugCell/data/cell2mutation.txt',\n",
    "    header=None,\n",
    ").loc[\n",
    "    [int(cell2ind[cell2ind[1] == i][0]) for i in t[1]]\n",
    "].reset_index(drop=True)"
   ]
  },
  {
   "cell_type": "code",
   "execution_count": 10,
   "id": "040ad32c",
   "metadata": {
    "scrolled": true
   },
   "outputs": [],
   "source": [
    "none_zero_cols = list(np.sum(cell2mut) != 0)\n",
    "cell2mut = cell2mut.loc[:, none_zero_cols]\n",
    "cell2mut = cell2mut.T.reset_index(drop=True).T\n",
    "cell2mut.to_csv(\n",
    "    '../DrugCell/data_rcellminer/cell2mut.txt',\n",
    "    header=None,\n",
    "#     sep='\\t',\n",
    "    index=None\n",
    ")"
   ]
  },
  {
   "cell_type": "code",
   "execution_count": 11,
   "id": "0c8011f3",
   "metadata": {},
   "outputs": [],
   "source": [
    "gene2ind = pd.read_csv(\n",
    "    '../DrugCell/data/gene2ind.txt',\n",
    "    header=None,\n",
    "    sep='\\t'\n",
    ")\n",
    "gene2ind = gene2ind.loc[none_zero_cols]\n",
    "gene2ind = pd.DataFrame(list(gene2ind[1]))\n",
    "gene2ind.to_csv(\n",
    "    '../DrugCell/data_rcellminer/gene2ind.txt',\n",
    "    header=None,\n",
    "    sep='\\t'\n",
    ")"
   ]
  },
  {
   "cell_type": "code",
   "execution_count": 12,
   "id": "fe765f64",
   "metadata": {},
   "outputs": [
    {
     "data": {
      "text/html": [
       "<div>\n",
       "<style scoped>\n",
       "    .dataframe tbody tr th:only-of-type {\n",
       "        vertical-align: middle;\n",
       "    }\n",
       "\n",
       "    .dataframe tbody tr th {\n",
       "        vertical-align: top;\n",
       "    }\n",
       "\n",
       "    .dataframe thead th {\n",
       "        text-align: right;\n",
       "    }\n",
       "</style>\n",
       "<table border=\"1\" class=\"dataframe\">\n",
       "  <thead>\n",
       "    <tr style=\"text-align: right;\">\n",
       "      <th></th>\n",
       "      <th>0</th>\n",
       "    </tr>\n",
       "  </thead>\n",
       "  <tbody>\n",
       "    <tr>\n",
       "      <th>0</th>\n",
       "      <td>AADAC</td>\n",
       "    </tr>\n",
       "    <tr>\n",
       "      <th>1</th>\n",
       "      <td>AADAT</td>\n",
       "    </tr>\n",
       "    <tr>\n",
       "      <th>2</th>\n",
       "      <td>AAK1</td>\n",
       "    </tr>\n",
       "    <tr>\n",
       "      <th>3</th>\n",
       "      <td>AARS</td>\n",
       "    </tr>\n",
       "    <tr>\n",
       "      <th>4</th>\n",
       "      <td>AASDHPPT</td>\n",
       "    </tr>\n",
       "    <tr>\n",
       "      <th>...</th>\n",
       "      <td>...</td>\n",
       "    </tr>\n",
       "    <tr>\n",
       "      <th>2724</th>\n",
       "      <td>YWHAG</td>\n",
       "    </tr>\n",
       "    <tr>\n",
       "      <th>2725</th>\n",
       "      <td>YWHAH</td>\n",
       "    </tr>\n",
       "    <tr>\n",
       "      <th>2726</th>\n",
       "      <td>ZAP70</td>\n",
       "    </tr>\n",
       "    <tr>\n",
       "      <th>2727</th>\n",
       "      <td>ZMPSTE24</td>\n",
       "    </tr>\n",
       "    <tr>\n",
       "      <th>2728</th>\n",
       "      <td>ZMYND8</td>\n",
       "    </tr>\n",
       "  </tbody>\n",
       "</table>\n",
       "<p>2729 rows × 1 columns</p>\n",
       "</div>"
      ],
      "text/plain": [
       "             0\n",
       "0        AADAC\n",
       "1        AADAT\n",
       "2         AAK1\n",
       "3         AARS\n",
       "4     AASDHPPT\n",
       "...        ...\n",
       "2724     YWHAG\n",
       "2725     YWHAH\n",
       "2726     ZAP70\n",
       "2727  ZMPSTE24\n",
       "2728    ZMYND8\n",
       "\n",
       "[2729 rows x 1 columns]"
      ]
     },
     "execution_count": 12,
     "metadata": {},
     "output_type": "execute_result"
    }
   ],
   "source": [
    "gene2ind"
   ]
  },
  {
   "cell_type": "code",
   "execution_count": 13,
   "id": "055c49ef",
   "metadata": {},
   "outputs": [],
   "source": [
    "graph = pd.read_csv(\n",
    "    '../DrugCell/data/drugcell_ont.txt',\n",
    "    header=None,\n",
    "    sep='\\t'\n",
    ")"
   ]
  },
  {
   "cell_type": "code",
   "execution_count": 14,
   "id": "62802555",
   "metadata": {},
   "outputs": [],
   "source": [
    "gene = graph[graph[2] == 'gene']"
   ]
  },
  {
   "cell_type": "code",
   "execution_count": 15,
   "id": "c21f739b",
   "metadata": {},
   "outputs": [
    {
     "data": {
      "text/html": [
       "<div>\n",
       "<style scoped>\n",
       "    .dataframe tbody tr th:only-of-type {\n",
       "        vertical-align: middle;\n",
       "    }\n",
       "\n",
       "    .dataframe tbody tr th {\n",
       "        vertical-align: top;\n",
       "    }\n",
       "\n",
       "    .dataframe thead th {\n",
       "        text-align: right;\n",
       "    }\n",
       "</style>\n",
       "<table border=\"1\" class=\"dataframe\">\n",
       "  <thead>\n",
       "    <tr style=\"text-align: right;\">\n",
       "      <th></th>\n",
       "      <th>0</th>\n",
       "      <th>1</th>\n",
       "      <th>2</th>\n",
       "    </tr>\n",
       "  </thead>\n",
       "  <tbody>\n",
       "    <tr>\n",
       "      <th>3167</th>\n",
       "      <td>GO:0007005</td>\n",
       "      <td>ATG7</td>\n",
       "      <td>gene</td>\n",
       "    </tr>\n",
       "    <tr>\n",
       "      <th>3168</th>\n",
       "      <td>GO:0007005</td>\n",
       "      <td>NDUFS8</td>\n",
       "      <td>gene</td>\n",
       "    </tr>\n",
       "    <tr>\n",
       "      <th>3169</th>\n",
       "      <td>GO:0007005</td>\n",
       "      <td>GBA</td>\n",
       "      <td>gene</td>\n",
       "    </tr>\n",
       "    <tr>\n",
       "      <th>3170</th>\n",
       "      <td>GO:0007005</td>\n",
       "      <td>LRRK2</td>\n",
       "      <td>gene</td>\n",
       "    </tr>\n",
       "    <tr>\n",
       "      <th>3171</th>\n",
       "      <td>GO:0007005</td>\n",
       "      <td>TERT</td>\n",
       "      <td>gene</td>\n",
       "    </tr>\n",
       "    <tr>\n",
       "      <th>...</th>\n",
       "      <td>...</td>\n",
       "      <td>...</td>\n",
       "      <td>...</td>\n",
       "    </tr>\n",
       "    <tr>\n",
       "      <th>62915</th>\n",
       "      <td>GO:2001240</td>\n",
       "      <td>BCL2L1</td>\n",
       "      <td>gene</td>\n",
       "    </tr>\n",
       "    <tr>\n",
       "      <th>62916</th>\n",
       "      <td>GO:2001240</td>\n",
       "      <td>AKT1</td>\n",
       "      <td>gene</td>\n",
       "    </tr>\n",
       "    <tr>\n",
       "      <th>62917</th>\n",
       "      <td>GO:0008150</td>\n",
       "      <td>LYPLAL1</td>\n",
       "      <td>gene</td>\n",
       "    </tr>\n",
       "    <tr>\n",
       "      <th>62918</th>\n",
       "      <td>GO:0008150</td>\n",
       "      <td>ABHD11</td>\n",
       "      <td>gene</td>\n",
       "    </tr>\n",
       "    <tr>\n",
       "      <th>62919</th>\n",
       "      <td>GO:0008150</td>\n",
       "      <td>EML4</td>\n",
       "      <td>gene</td>\n",
       "    </tr>\n",
       "  </tbody>\n",
       "</table>\n",
       "<p>59753 rows × 3 columns</p>\n",
       "</div>"
      ],
      "text/plain": [
       "                0        1     2\n",
       "3167   GO:0007005     ATG7  gene\n",
       "3168   GO:0007005   NDUFS8  gene\n",
       "3169   GO:0007005      GBA  gene\n",
       "3170   GO:0007005    LRRK2  gene\n",
       "3171   GO:0007005     TERT  gene\n",
       "...           ...      ...   ...\n",
       "62915  GO:2001240   BCL2L1  gene\n",
       "62916  GO:2001240     AKT1  gene\n",
       "62917  GO:0008150  LYPLAL1  gene\n",
       "62918  GO:0008150   ABHD11  gene\n",
       "62919  GO:0008150     EML4  gene\n",
       "\n",
       "[59753 rows x 3 columns]"
      ]
     },
     "execution_count": 15,
     "metadata": {},
     "output_type": "execute_result"
    }
   ],
   "source": [
    "gene"
   ]
  },
  {
   "cell_type": "code",
   "execution_count": 16,
   "id": "f2738fb4",
   "metadata": {
    "scrolled": true
   },
   "outputs": [],
   "source": [
    "g = pd.DataFrame()\n",
    "for i in gene2ind[0]:\n",
    "    g = pd.concat([\n",
    "        g,\n",
    "        gene[gene[1] == i]\n",
    "    ])"
   ]
  },
  {
   "cell_type": "code",
   "execution_count": 17,
   "id": "a41e1c18",
   "metadata": {},
   "outputs": [],
   "source": [
    "go = pd.concat([\n",
    "    graph[graph[2] == 'default'],\n",
    "    g\n",
    "])"
   ]
  },
  {
   "cell_type": "code",
   "execution_count": 18,
   "id": "6dbe18fd",
   "metadata": {},
   "outputs": [],
   "source": [
    "go.reset_index(drop=True).to_csv(\n",
    "    '../DrugCell/data_rcellminer/go.txt',\n",
    "    header=None,\n",
    "    sep='\\t',\n",
    "    index=None\n",
    ")"
   ]
  }
 ],
 "metadata": {
  "kernelspec": {
   "display_name": "gpu3",
   "language": "python",
   "name": "gpu3"
  },
  "language_info": {
   "codemirror_mode": {
    "name": "ipython",
    "version": 3
   },
   "file_extension": ".py",
   "mimetype": "text/x-python",
   "name": "python",
   "nbconvert_exporter": "python",
   "pygments_lexer": "ipython3",
   "version": "3.8.13"
  }
 },
 "nbformat": 4,
 "nbformat_minor": 5
}
