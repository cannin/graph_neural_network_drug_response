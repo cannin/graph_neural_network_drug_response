{
 "cells": [
  {
   "cell_type": "code",
   "execution_count": 1,
   "metadata": {
    "scrolled": true
   },
   "outputs": [],
   "source": [
    "import os\n",
    "import pandas as pd\n",
    "import numpy as np\n",
    "\n",
    "os.chdir('../DrugCell')"
   ]
  },
  {
   "cell_type": "markdown",
   "metadata": {},
   "source": [
    "# Original Implementation"
   ]
  },
  {
   "cell_type": "code",
   "execution_count": 2,
   "metadata": {},
   "outputs": [
    {
     "name": "stdout",
     "output_type": "stream",
     "text": [
      "\u001b[31mcell2ind.txt\u001b[m\u001b[m*          drugcell_train.txt     rcellminer_test.txt\r\n",
      "cell2mutation.txt      drugcell_val.txt       sanger_cell_lines.txt\r\n",
      "drug2fingerprint.txt   \u001b[31mgene2ind.txt\u001b[m\u001b[m*          smiles_by_nsc.csv\r\n",
      "\u001b[31mdrug2ind.txt\u001b[m\u001b[m*          nci60Act.csv           test.csv\r\n",
      "drugcell_ont.txt       out.txt                test.txt\r\n",
      "drugcell_test.txt      out_.txt\r\n"
     ]
    }
   ],
   "source": [
    "ls ./data/"
   ]
  },
  {
   "cell_type": "code",
   "execution_count": 3,
   "metadata": {},
   "outputs": [
    {
     "data": {
      "text/html": [
       "<div>\n",
       "<style scoped>\n",
       "    .dataframe tbody tr th:only-of-type {\n",
       "        vertical-align: middle;\n",
       "    }\n",
       "\n",
       "    .dataframe tbody tr th {\n",
       "        vertical-align: top;\n",
       "    }\n",
       "\n",
       "    .dataframe thead th {\n",
       "        text-align: right;\n",
       "    }\n",
       "</style>\n",
       "<table border=\"1\" class=\"dataframe\">\n",
       "  <thead>\n",
       "    <tr style=\"text-align: right;\">\n",
       "      <th></th>\n",
       "      <th>MCF7_BREAST</th>\n",
       "      <th>CC1=CC(=O)C=CC1=O</th>\n",
       "    </tr>\n",
       "  </thead>\n",
       "  <tbody>\n",
       "    <tr>\n",
       "      <th>0</th>\n",
       "      <td>MCF7_BREAST</td>\n",
       "      <td>CCCCCCCCCCCCCCCc1cc(O)ccc1N</td>\n",
       "    </tr>\n",
       "    <tr>\n",
       "      <th>1</th>\n",
       "      <td>MCF7_BREAST</td>\n",
       "      <td>OC(=O)CCCc1ccccc1</td>\n",
       "    </tr>\n",
       "    <tr>\n",
       "      <th>2</th>\n",
       "      <td>MCF7_BREAST</td>\n",
       "      <td>CCN(CC)CCCNc1c2ccc(Cl)cc2nc3ccc(OC)cc13</td>\n",
       "    </tr>\n",
       "    <tr>\n",
       "      <th>3</th>\n",
       "      <td>MCF7_BREAST</td>\n",
       "      <td>CCCCCN(CCCCC)CCCNc1c2CCCCc2nc3ccc(Cl)cc13</td>\n",
       "    </tr>\n",
       "    <tr>\n",
       "      <th>4</th>\n",
       "      <td>MCF7_BREAST</td>\n",
       "      <td>[R][Hg]OC(=O)C.c1ccc2c(c1)ccc3ccccc23</td>\n",
       "    </tr>\n",
       "    <tr>\n",
       "      <th>...</th>\n",
       "      <td>...</td>\n",
       "      <td>...</td>\n",
       "    </tr>\n",
       "    <tr>\n",
       "      <th>981984</th>\n",
       "      <td>CAKI1_KIDNEY</td>\n",
       "      <td>NC(=N)NCCCC1N[R]C(=O)C(CC(=O)O)N[R][R]C1=O</td>\n",
       "    </tr>\n",
       "    <tr>\n",
       "      <th>981985</th>\n",
       "      <td>CAKI1_KIDNEY</td>\n",
       "      <td>OC(=O)CC1N[R][R][R]C(=O)C2CCCN2C1=O</td>\n",
       "    </tr>\n",
       "    <tr>\n",
       "      <th>981986</th>\n",
       "      <td>CAKI1_KIDNEY</td>\n",
       "      <td>OC(=O)CCC1NC(=O)C(CC(=O)O)N[R][R][R]C1=O</td>\n",
       "    </tr>\n",
       "    <tr>\n",
       "      <th>981987</th>\n",
       "      <td>CAKI1_KIDNEY</td>\n",
       "      <td>NC(=O)C1N[R][R]C(=O)CSCC2CCCN2[R]C1=O</td>\n",
       "    </tr>\n",
       "    <tr>\n",
       "      <th>981988</th>\n",
       "      <td>CAKI1_KIDNEY</td>\n",
       "      <td>NC(=O)C1N[R][R][R]C(=O)CSCC2CCCN2[R][R]C1=O</td>\n",
       "    </tr>\n",
       "  </tbody>\n",
       "</table>\n",
       "<p>981989 rows × 2 columns</p>\n",
       "</div>"
      ],
      "text/plain": [
       "         MCF7_BREAST                            CC1=CC(=O)C=CC1=O\n",
       "0        MCF7_BREAST                  CCCCCCCCCCCCCCCc1cc(O)ccc1N\n",
       "1        MCF7_BREAST                            OC(=O)CCCc1ccccc1\n",
       "2        MCF7_BREAST      CCN(CC)CCCNc1c2ccc(Cl)cc2nc3ccc(OC)cc13\n",
       "3        MCF7_BREAST    CCCCCN(CCCCC)CCCNc1c2CCCCc2nc3ccc(Cl)cc13\n",
       "4        MCF7_BREAST        [R][Hg]OC(=O)C.c1ccc2c(c1)ccc3ccccc23\n",
       "...              ...                                          ...\n",
       "981984  CAKI1_KIDNEY   NC(=N)NCCCC1N[R]C(=O)C(CC(=O)O)N[R][R]C1=O\n",
       "981985  CAKI1_KIDNEY          OC(=O)CC1N[R][R][R]C(=O)C2CCCN2C1=O\n",
       "981986  CAKI1_KIDNEY     OC(=O)CCC1NC(=O)C(CC(=O)O)N[R][R][R]C1=O\n",
       "981987  CAKI1_KIDNEY        NC(=O)C1N[R][R]C(=O)CSCC2CCCN2[R]C1=O\n",
       "981988  CAKI1_KIDNEY  NC(=O)C1N[R][R][R]C(=O)CSCC2CCCN2[R][R]C1=O\n",
       "\n",
       "[981989 rows x 2 columns]"
      ]
     },
     "execution_count": 3,
     "metadata": {},
     "output_type": "execute_result"
    }
   ],
   "source": [
    "pd.read_table('data/rcellminer_test.txt')"
   ]
  },
  {
   "cell_type": "code",
   "execution_count": 4,
   "metadata": {
    "scrolled": true
   },
   "outputs": [
    {
     "name": "stdout",
     "output_type": "stream",
     "text": [
      "Traceback (most recent call last):\r\n",
      "  File \"/Users/yoshitakainoue/code/graph_neural_network_drug_response/DrugCell/code/predict_drugcell_cpu.py\", line 80, in <module>\r\n",
      "    predict_data, cell2id_mapping, drug2id_mapping = prepare_predict_data(opt.predict, opt.cell2id, opt.drug2id)\r\n",
      "  File \"/Users/yoshitakainoue/code/graph_neural_network_drug_response/DrugCell/code/util.py\", line 105, in prepare_predict_data\r\n",
      "    test_feature, test_label = load_train_data(test_file, cell2id_mapping, drug2id_mapping)\r\n",
      "  File \"/Users/yoshitakainoue/code/graph_neural_network_drug_response/DrugCell/code/util.py\", line 93, in load_train_data\r\n",
      "    feature.append([cell2id[tokens[0]], drug2id[tokens[1]]])\r\n",
      "KeyError: 'CC1=CC(=O)C=CC1=O'\r\n"
     ]
    }
   ],
   "source": [
    "!rm -rf Result_sample && mkdir Result_sample \n",
    "!rm -rf Hidden_sample/ && mkdir Hidden_sample\n",
    "\n",
    "!python code/predict_drugcell_cpu.py \\\n",
    "            -gene2id data/gene2ind.txt \\\n",
    "            -cell2id data/cell2ind.txt \\\n",
    "            -drug2id data/drug2ind.txt \\\n",
    "            -genotype data/cell2mutation.txt \\\n",
    "            -fingerprint data/drug2fingerprint.txt \\\n",
    "            -hidden Hidden_sample \\\n",
    "            -result Result_sample \\\n",
    "            -load pretrained_model/drugcell_v1.pt \\\n",
    "            -predict data/rcellminer_test.txt"
   ]
  },
  {
   "cell_type": "code",
   "execution_count": 5,
   "metadata": {},
   "outputs": [],
   "source": [
    "train = pd.read_csv('data/drugcell_train.txt', header=None, sep='\\t')\n",
    "rcellminer = pd.read_csv('data/rcellminer_test.txt', header=None, sep='\\t')"
   ]
  },
  {
   "cell_type": "code",
   "execution_count": 6,
   "metadata": {
    "scrolled": true
   },
   "outputs": [
    {
     "data": {
      "text/plain": [
       "0                  C1CC(=O)NC(=O)C1N2C(=O)C3=CC=CC=C3C2=O\n",
       "1       C1CN(CCN1)C(=O)C2=CC=C(C=C2)/C=C/C3=NNC4=CC=CC...\n",
       "2       COC1=C(C=C2C(=C1)N=CN=C2NC3=CC(=C(C=C3)F)Cl)OC...\n",
       "3          C1=CC=C2C(=C1)C3=CC=CC=C3N2CCC4=NC5=CC=CC=C5N4\n",
       "4            CCCCCCCCCCC(C)(C)C(=O)NC1=C(C=C(C=C1OC)OC)OC\n",
       "                              ...                        \n",
       "9995    CNC(=O)C1=NC=CC(=C1)OC2=CC=C(C=C2)NC(=O)NC3=CC...\n",
       "9996    C[C@]12CC[C@@]3(CCC(C[C@@H]3[C@@H]1C(=O)C=C4[C...\n",
       "9997    CC1=NC=C(C=C1)OC2=C(C=C(C=C2)NC3=NC=NC4=C3C=C(...\n",
       "9998    CCOC(=O)C1=C(SC2=C1CC(NC2(C)C)(C)C)NC(=O)C3=CC...\n",
       "9999    C1=CN(C(=O)N=C1N)[C@H]2[C@H]([C@@H]([C@H](O2)C...\n",
       "Name: 1, Length: 10000, dtype: object"
      ]
     },
     "execution_count": 6,
     "metadata": {},
     "output_type": "execute_result"
    }
   ],
   "source": [
    "train[1]"
   ]
  },
  {
   "cell_type": "code",
   "execution_count": 7,
   "metadata": {},
   "outputs": [
    {
     "data": {
      "text/plain": [
       "0                                   CC1=CC(=O)C=CC1=O\n",
       "1                         CCCCCCCCCCCCCCCc1cc(O)ccc1N\n",
       "2                                   OC(=O)CCCc1ccccc1\n",
       "3             CCN(CC)CCCNc1c2ccc(Cl)cc2nc3ccc(OC)cc13\n",
       "4           CCCCCN(CCCCC)CCCNc1c2CCCCc2nc3ccc(Cl)cc13\n",
       "                             ...                     \n",
       "981985     NC(=N)NCCCC1N[R]C(=O)C(CC(=O)O)N[R][R]C1=O\n",
       "981986            OC(=O)CC1N[R][R][R]C(=O)C2CCCN2C1=O\n",
       "981987       OC(=O)CCC1NC(=O)C(CC(=O)O)N[R][R][R]C1=O\n",
       "981988          NC(=O)C1N[R][R]C(=O)CSCC2CCCN2[R]C1=O\n",
       "981989    NC(=O)C1N[R][R][R]C(=O)CSCC2CCCN2[R][R]C1=O\n",
       "Name: 1, Length: 981990, dtype: object"
      ]
     },
     "execution_count": 7,
     "metadata": {},
     "output_type": "execute_result"
    }
   ],
   "source": [
    "rcellminer[1]"
   ]
  },
  {
   "cell_type": "code",
   "execution_count": 8,
   "metadata": {
    "scrolled": true
   },
   "outputs": [
    {
     "data": {
      "text/plain": [
       "{'CCC(=O)OCN1C(=O)C=CC1=O'}"
      ]
     },
     "execution_count": 8,
     "metadata": {},
     "output_type": "execute_result"
    }
   ],
   "source": [
    "set(train[1]) & set(rcellminer[1])"
   ]
  },
  {
   "cell_type": "code",
   "execution_count": 8,
   "metadata": {},
   "outputs": [
    {
     "name": "stdout",
     "output_type": "stream",
     "text": [
      "Traceback (most recent call last):\r\n",
      "  File \"/home/inoue019/code/DrugCell/code/predict_drugcell_cpu.py\", line 80, in <module>\r\n",
      "    predict_data, cell2id_mapping, drug2id_mapping = prepare_predict_data(opt.predict, opt.cell2id, opt.drug2id)\r\n",
      "  File \"/home/inoue019/code/DrugCell/code/util.py\", line 105, in prepare_predict_data\r\n",
      "    test_feature, test_label = load_train_data(test_file, cell2id_mapping, drug2id_mapping)\r\n",
      "  File \"/home/inoue019/code/DrugCell/code/util.py\", line 93, in load_train_data\r\n",
      "    feature.append([cell2id[tokens[0]], drug2id[tokens[1]]])\r\n",
      "KeyError: 'METHOTREXATE'\r\n"
     ]
    }
   ],
   "source": [
    "!rm -rf Result_sample && mkdir Result_sample \n",
    "!rm -rf Hidden_sample/ && mkdir Hidden_sample\n",
    "\n",
    "!python code/predict_drugcell_cpu.py \\\n",
    "            -gene2id data/gene2ind.txt \\\n",
    "            -cell2id data/cell2ind.txt \\\n",
    "            -drug2id data/drug2ind.txt \\\n",
    "            -genotype data/cell2mutation.txt \\\n",
    "            -fingerprint data/drug2fingerprint.txt \\\n",
    "            -hidden Hidden_sample \\\n",
    "            -result Result_sample \\\n",
    "            -load pretrained_model/drugcell_v1.pt \\\n",
    "            -predict data/out_.txt"
   ]
  },
  {
   "cell_type": "code",
   "execution_count": 4,
   "metadata": {},
   "outputs": [
    {
     "name": "stdout",
     "output_type": "stream",
     "text": [
      "LS123_LARGE_INTESTINE\tCNC(=O)C1=NC=CC(=C1)OC2=CC(=C(C=C2)NC(=O)NC3=CC(=C(C=C3)Cl)C(F)(F)F)F\t0.8942239155087995\r\n",
      "RT4_URINARY_TRACT\tC[C@@H](C(=O)N[C@H]1C2=CC=CC=C2CCN(C1=O)C)NC(=O)[C@H](C(C)C)O\t0.8742612017769524\r\n",
      "SCABER_URINARY_TRACT\tC1CCN(C1)C(=O)NC2=CC=CC(=C2)NC3=NC=C(C(=N3)NCCC4=CN=CN4)Br\t0.9600720748580642\r\n",
      "TE617T_SOFT_TISSUE\tC1CN(CCC12C(=O)NCN2C3=CC=CC=C3)CCNC(=O)C4=CC5=CC=CC=C5C=C4\t0.9873540669080934\r\n",
      "MOGGCCM_CENTRAL_NERVOUS_SYSTEM\tCC1=CN=C(N=C1NC2=CC(=CC=C2)S(=O)(=O)NC(C)(C)C)NC3=CC=C(C=C3)OCCN4CCCC4\t0.8719973751110028\r\n",
      "cat: write error: Broken pipe\r\n"
     ]
    }
   ],
   "source": [
    "!cat data/drugcell_test.txt | head -n 5"
   ]
  },
  {
   "cell_type": "code",
   "execution_count": 5,
   "metadata": {
    "scrolled": true
   },
   "outputs": [
    {
     "name": "stdout",
     "output_type": "stream",
     "text": [
      "METHOTREXATE\tCN(Cc1cnc2nc(N)nc(N)c2n1)c3ccc(cc3)C(=O)N[C@@H](CCC(=O)O)C(=O)O\r\n",
      "6-THIOGUANINE\tNC1=NC(=S)c2[nH]cnc2N1\r\n",
      "6-MERCAPTOPURINE\tS=C1N=CNc2nc[nH]c12\r\n",
      "Allopurinol\tO=C1NC=Nc2[nH]ncc12\r\n",
      "Chlorambucil\tOC(=O)CCCc1ccc(cc1)N(CCCl)CCCl\r\n"
     ]
    }
   ],
   "source": [
    "!cat data/out_.txt | head -n 5"
   ]
  },
  {
   "cell_type": "code",
   "execution_count": 6,
   "metadata": {
    "scrolled": true
   },
   "outputs": [],
   "source": [
    "os.chdir('/home/inoue019/code/DrugCell/code')"
   ]
  },
  {
   "cell_type": "markdown",
   "metadata": {},
   "source": [
    "# module for python script"
   ]
  },
  {
   "cell_type": "code",
   "execution_count": 7,
   "metadata": {},
   "outputs": [],
   "source": [
    "from drugcell_prediction import predict_dcell"
   ]
  },
  {
   "cell_type": "code",
   "execution_count": 9,
   "metadata": {
    "scrolled": false
   },
   "outputs": [
    {
     "name": "stdout",
     "output_type": "stream",
     "text": [
      "Total number of cell lines = 1225\n",
      "Total number of drugs = 684\n"
     ]
    },
    {
     "name": "stderr",
     "output_type": "stream",
     "text": [
      "/home/inoue019/.local/lib/python3.9/site-packages/torch/serialization.py:786: SourceChangeWarning: source code of class 'drugcell_NN.drugcell_nn' has changed. you can retrieve the original source code by accessing the object's source attribute or set `torch.nn.Module.dump_patches = True` and use the patch tool to revert the changes.\n",
      "  warnings.warn(msg, SourceChangeWarning)\n",
      "/home/inoue019/.local/lib/python3.9/site-packages/torch/serialization.py:786: SourceChangeWarning: source code of class 'torch.nn.modules.linear.Linear' has changed. you can retrieve the original source code by accessing the object's source attribute or set `torch.nn.Module.dump_patches = True` and use the patch tool to revert the changes.\n",
      "  warnings.warn(msg, SourceChangeWarning)\n",
      "/home/inoue019/.local/lib/python3.9/site-packages/torch/serialization.py:786: SourceChangeWarning: source code of class 'torch.nn.modules.batchnorm.BatchNorm1d' has changed. you can retrieve the original source code by accessing the object's source attribute or set `torch.nn.Module.dump_patches = True` and use the patch tool to revert the changes.\n",
      "  warnings.warn(msg, SourceChangeWarning)\n"
     ]
    },
    {
     "name": "stdout",
     "output_type": "stream",
     "text": [
      "Test pearson corr\tGO:0008150\t0.822806\n"
     ]
    }
   ],
   "source": [
    "!rm -rf Result_sample && mkdir Result_sample \n",
    "!rm -rf Hidden_sample/ && mkdir Hidden_sample\n",
    "\n",
    "predict_dcell(\n",
    "    '../data/drugcell_test.txt',\n",
    "    '../data/cell2ind.txt',\n",
    "    '../data/drug2ind.txt',\n",
    "    '../data/cell2mutation.txt',\n",
    "    '../data/drug2fingerprint.txt',\n",
    "    '../pretrained_model/drugcell_v1.pt',\n",
    "    'Hidden_sample',\n",
    "    'Result_sample'\n",
    ")"
   ]
  }
 ],
 "metadata": {
  "kernelspec": {
   "display_name": "Python 3 (ipykernel)",
   "language": "python",
   "name": "python3"
  },
  "language_info": {
   "codemirror_mode": {
    "name": "ipython",
    "version": 3
   },
   "file_extension": ".py",
   "mimetype": "text/x-python",
   "name": "python",
   "nbconvert_exporter": "python",
   "pygments_lexer": "ipython3",
   "version": "3.9.13"
  }
 },
 "nbformat": 4,
 "nbformat_minor": 4
}
