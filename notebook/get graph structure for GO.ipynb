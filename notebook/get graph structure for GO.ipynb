{
 "cells": [
  {
   "cell_type": "code",
   "execution_count": 1,
   "id": "6cf686cd",
   "metadata": {},
   "outputs": [],
   "source": [
    "import pandas as pd\n",
    "import numpy as np\n",
    "import networkx as nx\n",
    "import matplotlib.pyplot as plt\n",
    "\n",
    "from joblib import Parallel, delayed"
   ]
  },
  {
   "cell_type": "code",
   "execution_count": 2,
   "id": "6fae77b0",
   "metadata": {},
   "outputs": [],
   "source": [
    "pubchem = pd.read_csv(\n",
    "    '../DrugCell/data/SMILES_from_PubchemID.txt',\n",
    "#     index_col=0,\n",
    "    header=None,\n",
    "    sep='\\t'\n",
    ")"
   ]
  },
  {
   "cell_type": "code",
   "execution_count": 3,
   "id": "a24bc4e6",
   "metadata": {},
   "outputs": [],
   "source": [
    "p = pd.read_csv('../DrugCell/data/drugcell_test.txt', header=None, sep='\\t')"
   ]
  },
  {
   "cell_type": "code",
   "execution_count": 4,
   "id": "04269844",
   "metadata": {
    "scrolled": true
   },
   "outputs": [
    {
     "data": {
      "text/html": [
       "<div>\n",
       "<style scoped>\n",
       "    .dataframe tbody tr th:only-of-type {\n",
       "        vertical-align: middle;\n",
       "    }\n",
       "\n",
       "    .dataframe tbody tr th {\n",
       "        vertical-align: top;\n",
       "    }\n",
       "\n",
       "    .dataframe thead th {\n",
       "        text-align: right;\n",
       "    }\n",
       "</style>\n",
       "<table border=\"1\" class=\"dataframe\">\n",
       "  <thead>\n",
       "    <tr style=\"text-align: right;\">\n",
       "      <th></th>\n",
       "      <th>0</th>\n",
       "      <th>1</th>\n",
       "      <th>2</th>\n",
       "    </tr>\n",
       "  </thead>\n",
       "  <tbody>\n",
       "    <tr>\n",
       "      <th>331</th>\n",
       "      <td>NCIH929_HAEMATOPOIETIC_AND_LYMPHOID_TISSUE</td>\n",
       "      <td>CC[C@@]1(C2=C(COC1=O)C(=O)N3CC4=CC5=CC=CC=C5N=...</td>\n",
       "      <td>0.452772</td>\n",
       "    </tr>\n",
       "    <tr>\n",
       "      <th>505</th>\n",
       "      <td>HCC44_LUNG</td>\n",
       "      <td>CC[C@@]1(C2=C(COC1=O)C(=O)N3CC4=CC5=CC=CC=C5N=...</td>\n",
       "      <td>0.379520</td>\n",
       "    </tr>\n",
       "    <tr>\n",
       "      <th>773</th>\n",
       "      <td>OACP4C_OESOPHAGUS</td>\n",
       "      <td>CC[C@@]1(C2=C(COC1=O)C(=O)N3CC4=CC5=CC=CC=C5N=...</td>\n",
       "      <td>0.593324</td>\n",
       "    </tr>\n",
       "  </tbody>\n",
       "</table>\n",
       "</div>"
      ],
      "text/plain": [
       "                                              0  \\\n",
       "331  NCIH929_HAEMATOPOIETIC_AND_LYMPHOID_TISSUE   \n",
       "505                                  HCC44_LUNG   \n",
       "773                           OACP4C_OESOPHAGUS   \n",
       "\n",
       "                                                     1         2  \n",
       "331  CC[C@@]1(C2=C(COC1=O)C(=O)N3CC4=CC5=CC=CC=C5N=...  0.452772  \n",
       "505  CC[C@@]1(C2=C(COC1=O)C(=O)N3CC4=CC5=CC=CC=C5N=...  0.379520  \n",
       "773  CC[C@@]1(C2=C(COC1=O)C(=O)N3CC4=CC5=CC=CC=C5N=...  0.593324  "
      ]
     },
     "execution_count": 4,
     "metadata": {},
     "output_type": "execute_result"
    }
   ],
   "source": [
    "p[p[1] == pubchem[pubchem[0] == 24360][1][1058]]"
   ]
  },
  {
   "cell_type": "code",
   "execution_count": null,
   "id": "4a5d47b4",
   "metadata": {},
   "outputs": [],
   "source": []
  },
  {
   "cell_type": "code",
   "execution_count": 5,
   "id": "bf11f4cb",
   "metadata": {},
   "outputs": [],
   "source": [
    "hidden = !ls ../DrugCell/code/Hidden_sample/ | grep 'GO:'"
   ]
  },
  {
   "cell_type": "code",
   "execution_count": 6,
   "id": "b38276df",
   "metadata": {
    "scrolled": true
   },
   "outputs": [],
   "source": [
    "hid_773 = []\n",
    "hid_505 = []\n",
    "for i in hidden:\n",
    "    hid_773.append(pd.read_table(\n",
    "        '../DrugCell/code/Hidden_sample/' + i,\n",
    "        sep=' ',\n",
    "        header=None\n",
    "    )[0][773])\n",
    "    hid_505.append(pd.read_table(\n",
    "        '../DrugCell/code/Hidden_sample/' + i,\n",
    "        sep=' ',\n",
    "        header=None\n",
    "    )[0][505])"
   ]
  },
  {
   "cell_type": "code",
   "execution_count": 7,
   "id": "67af4e5a",
   "metadata": {},
   "outputs": [],
   "source": [
    "f = pd.DataFrame([\n",
    "        hid_773, \n",
    "        hid_505\n",
    "    ], \n",
    "    columns=[i.split('.')[0] for i in hidden], \n",
    "    index=['HCC44_LUNG', 'OACP4C_OESOPHAGUS']\n",
    ").T"
   ]
  },
  {
   "cell_type": "code",
   "execution_count": 8,
   "id": "f63efaac",
   "metadata": {},
   "outputs": [],
   "source": [
    "f.to_csv('go_weight.csv')"
   ]
  },
  {
   "cell_type": "code",
   "execution_count": 9,
   "id": "5647a0fe",
   "metadata": {},
   "outputs": [],
   "source": [
    "go = pd.read_table(\n",
    "    '../DrugCell/data/drugcell_ont.txt',\n",
    "    header=None\n",
    ")[[0, 1]]"
   ]
  },
  {
   "cell_type": "code",
   "execution_count": 10,
   "id": "8dc5d5df",
   "metadata": {},
   "outputs": [],
   "source": [
    "go.to_csv(\n",
    "    './graph.csv',\n",
    ")"
   ]
  },
  {
   "cell_type": "code",
   "execution_count": 11,
   "id": "46ad88b5",
   "metadata": {},
   "outputs": [],
   "source": [
    "genes = set(go[['GO:' not in i for i in list(go[1])]][1])"
   ]
  },
  {
   "cell_type": "code",
   "execution_count": 12,
   "id": "57c54db8",
   "metadata": {},
   "outputs": [],
   "source": [
    "G = nx.DiGraph()\n",
    "for i in f.index:\n",
    "    G.add_node(i, weight=f['HCC44_LUNG'][i])\n",
    "\n",
    "G.add_nodes_from(genes)\n",
    "G.add_edges_from(list(go.itertuples(index=False, name=None)))"
   ]
  },
  {
   "cell_type": "code",
   "execution_count": 13,
   "id": "43fd43cd",
   "metadata": {
    "scrolled": true
   },
   "outputs": [
    {
     "name": "stdout",
     "output_type": "stream",
     "text": [
      "CPU times: user 4min 37s, sys: 782 ms, total: 4min 38s\n",
      "Wall time: 4min 44s\n"
     ]
    }
   ],
   "source": [
    "%%time\n",
    "res = pd.DataFrame()\n",
    "end = set(list(go[['GO:' not in i for i in list(go[1])]][0]))\n",
    "\n",
    "for l in end:\n",
    "    paths = nx.all_simple_paths(G, source='GO:0008150', target=l)\n",
    "    path_l = list(paths)\n",
    "    \n",
    "    if len(path_l) != 1:\n",
    "        path = set()\n",
    "        for i in paths:\n",
    "            path = path | set(i)\n",
    "    else:\n",
    "        path = path_l[0]\n",
    "\n",
    "    res = pd.concat([\n",
    "        res,\n",
    "        pd.DataFrame([\n",
    "            sum([f['HCC44_LUNG'][i] for i in path]),\n",
    "            sum([f['OACP4C_OESOPHAGUS'][i] for i in path])\n",
    "        ], columns=[l], index=['HCC44_LUNG', 'OACP4C_OESOPHAGUS']).T\n",
    "    ])"
   ]
  },
  {
   "cell_type": "code",
   "execution_count": 14,
   "id": "73088125",
   "metadata": {
    "scrolled": true
   },
   "outputs": [
    {
     "data": {
      "text/html": [
       "<div>\n",
       "<style scoped>\n",
       "    .dataframe tbody tr th:only-of-type {\n",
       "        vertical-align: middle;\n",
       "    }\n",
       "\n",
       "    .dataframe tbody tr th {\n",
       "        vertical-align: top;\n",
       "    }\n",
       "\n",
       "    .dataframe thead th {\n",
       "        text-align: right;\n",
       "    }\n",
       "</style>\n",
       "<table border=\"1\" class=\"dataframe\">\n",
       "  <thead>\n",
       "    <tr style=\"text-align: right;\">\n",
       "      <th></th>\n",
       "      <th>HCC44_LUNG</th>\n",
       "      <th>OACP4C_OESOPHAGUS</th>\n",
       "    </tr>\n",
       "  </thead>\n",
       "  <tbody>\n",
       "    <tr>\n",
       "      <th>GO:0070884</th>\n",
       "      <td>0.16717</td>\n",
       "      <td>1.073820</td>\n",
       "    </tr>\n",
       "    <tr>\n",
       "      <th>GO:0009880</th>\n",
       "      <td>0.00000</td>\n",
       "      <td>0.000000</td>\n",
       "    </tr>\n",
       "    <tr>\n",
       "      <th>GO:0034033</th>\n",
       "      <td>0.00000</td>\n",
       "      <td>0.000000</td>\n",
       "    </tr>\n",
       "    <tr>\n",
       "      <th>GO:0048333</th>\n",
       "      <td>0.00000</td>\n",
       "      <td>0.000000</td>\n",
       "    </tr>\n",
       "    <tr>\n",
       "      <th>GO:0050900</th>\n",
       "      <td>0.41270</td>\n",
       "      <td>2.254544</td>\n",
       "    </tr>\n",
       "    <tr>\n",
       "      <th>...</th>\n",
       "      <td>...</td>\n",
       "      <td>...</td>\n",
       "    </tr>\n",
       "    <tr>\n",
       "      <th>GO:0072080</th>\n",
       "      <td>0.17888</td>\n",
       "      <td>0.829932</td>\n",
       "    </tr>\n",
       "    <tr>\n",
       "      <th>GO:0071157</th>\n",
       "      <td>0.00000</td>\n",
       "      <td>0.000000</td>\n",
       "    </tr>\n",
       "    <tr>\n",
       "      <th>GO:0008542</th>\n",
       "      <td>0.00000</td>\n",
       "      <td>0.000000</td>\n",
       "    </tr>\n",
       "    <tr>\n",
       "      <th>GO:0010035</th>\n",
       "      <td>-0.29153</td>\n",
       "      <td>0.712820</td>\n",
       "    </tr>\n",
       "    <tr>\n",
       "      <th>GO:0030900</th>\n",
       "      <td>0.00000</td>\n",
       "      <td>0.000000</td>\n",
       "    </tr>\n",
       "  </tbody>\n",
       "</table>\n",
       "<p>2068 rows × 2 columns</p>\n",
       "</div>"
      ],
      "text/plain": [
       "            HCC44_LUNG  OACP4C_OESOPHAGUS\n",
       "GO:0070884     0.16717           1.073820\n",
       "GO:0009880     0.00000           0.000000\n",
       "GO:0034033     0.00000           0.000000\n",
       "GO:0048333     0.00000           0.000000\n",
       "GO:0050900     0.41270           2.254544\n",
       "...                ...                ...\n",
       "GO:0072080     0.17888           0.829932\n",
       "GO:0071157     0.00000           0.000000\n",
       "GO:0008542     0.00000           0.000000\n",
       "GO:0010035    -0.29153           0.712820\n",
       "GO:0030900     0.00000           0.000000\n",
       "\n",
       "[2068 rows x 2 columns]"
      ]
     },
     "execution_count": 14,
     "metadata": {},
     "output_type": "execute_result"
    }
   ],
   "source": [
    "res"
   ]
  },
  {
   "cell_type": "code",
   "execution_count": 15,
   "id": "6724bd99",
   "metadata": {
    "scrolled": true
   },
   "outputs": [],
   "source": [
    "weights = pd.DataFrame()\n",
    "for i in genes:\n",
    "    weights = pd.concat([\n",
    "        weights,\n",
    "        pd.DataFrame([\n",
    "            sum([res['HCC44_LUNG'][l] for l in list(go[go[1] == i][0])]),\n",
    "            sum([res['OACP4C_OESOPHAGUS'][l] for l in list(go[go[1] == i][0])])\n",
    "        ], index=['HCC44_LUNG', 'OACP4C_OESOPHAGUS'], columns=[i]).T\n",
    "    ])"
   ]
  },
  {
   "cell_type": "code",
   "execution_count": 16,
   "id": "f3e25a29",
   "metadata": {},
   "outputs": [],
   "source": [
    "weights.to_csv('gene_weight.csv')"
   ]
  },
  {
   "cell_type": "code",
   "execution_count": 17,
   "id": "020dd89a",
   "metadata": {},
   "outputs": [],
   "source": [
    "pd.concat([\n",
    "    f,\n",
    "    weights\n",
    "]).to_csv('weight.csv')"
   ]
  },
  {
   "cell_type": "code",
   "execution_count": 18,
   "id": "246c1389",
   "metadata": {},
   "outputs": [
    {
     "data": {
      "text/html": [
       "<div>\n",
       "<style scoped>\n",
       "    .dataframe tbody tr th:only-of-type {\n",
       "        vertical-align: middle;\n",
       "    }\n",
       "\n",
       "    .dataframe tbody tr th {\n",
       "        vertical-align: top;\n",
       "    }\n",
       "\n",
       "    .dataframe thead th {\n",
       "        text-align: right;\n",
       "    }\n",
       "</style>\n",
       "<table border=\"1\" class=\"dataframe\">\n",
       "  <thead>\n",
       "    <tr style=\"text-align: right;\">\n",
       "      <th></th>\n",
       "      <th>HCC44_LUNG</th>\n",
       "      <th>OACP4C_OESOPHAGUS</th>\n",
       "    </tr>\n",
       "  </thead>\n",
       "  <tbody>\n",
       "    <tr>\n",
       "      <th>TGFB1</th>\n",
       "      <td>-45.436190</td>\n",
       "      <td>56.449968</td>\n",
       "    </tr>\n",
       "    <tr>\n",
       "      <th>CAV1</th>\n",
       "      <td>-41.240479</td>\n",
       "      <td>20.584189</td>\n",
       "    </tr>\n",
       "    <tr>\n",
       "      <th>RHOA</th>\n",
       "      <td>-36.083979</td>\n",
       "      <td>34.785554</td>\n",
       "    </tr>\n",
       "    <tr>\n",
       "      <th>CD36</th>\n",
       "      <td>-35.313462</td>\n",
       "      <td>18.549597</td>\n",
       "    </tr>\n",
       "    <tr>\n",
       "      <th>AKT1</th>\n",
       "      <td>-34.474139</td>\n",
       "      <td>37.662417</td>\n",
       "    </tr>\n",
       "    <tr>\n",
       "      <th>...</th>\n",
       "      <td>...</td>\n",
       "      <td>...</td>\n",
       "    </tr>\n",
       "    <tr>\n",
       "      <th>CDC42BPB</th>\n",
       "      <td>2.062190</td>\n",
       "      <td>3.364768</td>\n",
       "    </tr>\n",
       "    <tr>\n",
       "      <th>CDC42BPA</th>\n",
       "      <td>2.062190</td>\n",
       "      <td>3.364768</td>\n",
       "    </tr>\n",
       "    <tr>\n",
       "      <th>IL17RA</th>\n",
       "      <td>2.080240</td>\n",
       "      <td>2.680528</td>\n",
       "    </tr>\n",
       "    <tr>\n",
       "      <th>FKBP5</th>\n",
       "      <td>2.135700</td>\n",
       "      <td>4.407130</td>\n",
       "    </tr>\n",
       "    <tr>\n",
       "      <th>APOBEC3A</th>\n",
       "      <td>2.545560</td>\n",
       "      <td>3.466360</td>\n",
       "    </tr>\n",
       "  </tbody>\n",
       "</table>\n",
       "<p>3008 rows × 2 columns</p>\n",
       "</div>"
      ],
      "text/plain": [
       "          HCC44_LUNG  OACP4C_OESOPHAGUS\n",
       "TGFB1     -45.436190          56.449968\n",
       "CAV1      -41.240479          20.584189\n",
       "RHOA      -36.083979          34.785554\n",
       "CD36      -35.313462          18.549597\n",
       "AKT1      -34.474139          37.662417\n",
       "...              ...                ...\n",
       "CDC42BPB    2.062190           3.364768\n",
       "CDC42BPA    2.062190           3.364768\n",
       "IL17RA      2.080240           2.680528\n",
       "FKBP5       2.135700           4.407130\n",
       "APOBEC3A    2.545560           3.466360\n",
       "\n",
       "[3008 rows x 2 columns]"
      ]
     },
     "execution_count": 18,
     "metadata": {},
     "output_type": "execute_result"
    }
   ],
   "source": [
    "weights.sort_values('HCC44_LUNG')"
   ]
  },
  {
   "cell_type": "code",
   "execution_count": 19,
   "id": "a4e7f8ec",
   "metadata": {},
   "outputs": [
    {
     "data": {
      "text/html": [
       "<div>\n",
       "<style scoped>\n",
       "    .dataframe tbody tr th:only-of-type {\n",
       "        vertical-align: middle;\n",
       "    }\n",
       "\n",
       "    .dataframe tbody tr th {\n",
       "        vertical-align: top;\n",
       "    }\n",
       "\n",
       "    .dataframe thead th {\n",
       "        text-align: right;\n",
       "    }\n",
       "</style>\n",
       "<table border=\"1\" class=\"dataframe\">\n",
       "  <thead>\n",
       "    <tr style=\"text-align: right;\">\n",
       "      <th></th>\n",
       "      <th>HCC44_LUNG</th>\n",
       "      <th>OACP4C_OESOPHAGUS</th>\n",
       "    </tr>\n",
       "  </thead>\n",
       "  <tbody>\n",
       "    <tr>\n",
       "      <th>GRIN3A</th>\n",
       "      <td>-6.824079</td>\n",
       "      <td>-3.375589</td>\n",
       "    </tr>\n",
       "    <tr>\n",
       "      <th>CACNA1B</th>\n",
       "      <td>-7.467183</td>\n",
       "      <td>-2.855750</td>\n",
       "    </tr>\n",
       "    <tr>\n",
       "      <th>PREPL</th>\n",
       "      <td>-2.723790</td>\n",
       "      <td>-2.777590</td>\n",
       "    </tr>\n",
       "    <tr>\n",
       "      <th>ATP2A2</th>\n",
       "      <td>-24.591396</td>\n",
       "      <td>-2.745307</td>\n",
       "    </tr>\n",
       "    <tr>\n",
       "      <th>FEN1</th>\n",
       "      <td>-2.524709</td>\n",
       "      <td>-2.475065</td>\n",
       "    </tr>\n",
       "    <tr>\n",
       "      <th>...</th>\n",
       "      <td>...</td>\n",
       "      <td>...</td>\n",
       "    </tr>\n",
       "    <tr>\n",
       "      <th>NRP1</th>\n",
       "      <td>-7.868931</td>\n",
       "      <td>37.840329</td>\n",
       "    </tr>\n",
       "    <tr>\n",
       "      <th>SHH</th>\n",
       "      <td>-18.734794</td>\n",
       "      <td>40.985980</td>\n",
       "    </tr>\n",
       "    <tr>\n",
       "      <th>BMP4</th>\n",
       "      <td>-28.414803</td>\n",
       "      <td>47.801763</td>\n",
       "    </tr>\n",
       "    <tr>\n",
       "      <th>BCL2</th>\n",
       "      <td>-28.215611</td>\n",
       "      <td>48.632468</td>\n",
       "    </tr>\n",
       "    <tr>\n",
       "      <th>TGFB1</th>\n",
       "      <td>-45.436190</td>\n",
       "      <td>56.449968</td>\n",
       "    </tr>\n",
       "  </tbody>\n",
       "</table>\n",
       "<p>3008 rows × 2 columns</p>\n",
       "</div>"
      ],
      "text/plain": [
       "         HCC44_LUNG  OACP4C_OESOPHAGUS\n",
       "GRIN3A    -6.824079          -3.375589\n",
       "CACNA1B   -7.467183          -2.855750\n",
       "PREPL     -2.723790          -2.777590\n",
       "ATP2A2   -24.591396          -2.745307\n",
       "FEN1      -2.524709          -2.475065\n",
       "...             ...                ...\n",
       "NRP1      -7.868931          37.840329\n",
       "SHH      -18.734794          40.985980\n",
       "BMP4     -28.414803          47.801763\n",
       "BCL2     -28.215611          48.632468\n",
       "TGFB1    -45.436190          56.449968\n",
       "\n",
       "[3008 rows x 2 columns]"
      ]
     },
     "execution_count": 19,
     "metadata": {},
     "output_type": "execute_result"
    }
   ],
   "source": [
    "weights.sort_values('OACP4C_OESOPHAGUS')"
   ]
  }
 ],
 "metadata": {
  "kernelspec": {
   "display_name": "graph_neural_network_drug_response",
   "language": "python",
   "name": "graph_neural_network_drug_response"
  },
  "language_info": {
   "codemirror_mode": {
    "name": "ipython",
    "version": 3
   },
   "file_extension": ".py",
   "mimetype": "text/x-python",
   "name": "python",
   "nbconvert_exporter": "python",
   "pygments_lexer": "ipython3",
   "version": "3.9.13"
  }
 },
 "nbformat": 4,
 "nbformat_minor": 5
}
