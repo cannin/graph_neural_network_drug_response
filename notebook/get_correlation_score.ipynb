{
 "cells": [
  {
   "cell_type": "code",
   "execution_count": 1,
   "id": "f4c31e52",
   "metadata": {},
   "outputs": [],
   "source": [
    "import os\n",
    "import warnings\n",
    "\n",
    "import numpy as np\n",
    "import pandas as pd\n",
    "from joblib import Parallel, delayed\n",
    "from scipy import stats\n",
    "from sklearn.linear_model import Ridge\n",
    "from tqdm import tqdm\n",
    "\n",
    "warnings.simplefilter(\"ignore\")\n",
    "os.environ[\"PYTHONWARNINGS\"] = \"ignore\" "
   ]
  },
  {
   "cell_type": "code",
   "execution_count": 2,
   "id": "d6e0c039",
   "metadata": {
    "scrolled": true
   },
   "outputs": [],
   "source": [
    "test = pd.read_csv(\n",
    "    \"../DrugCell/data_rcellminer/test_DNA.txt\",\n",
    "    header=None,\n",
    "    sep=\"\\t\",\n",
    ")\n",
    "pred = np.loadtxt(\"../DrugCell/code/Result/drugcell.predict\")"
   ]
  },
  {
   "cell_type": "code",
   "execution_count": 3,
   "id": "aed992e8",
   "metadata": {},
   "outputs": [],
   "source": [
    "def get_list(i):\n",
    "    \"\"\"\n",
    "    Get list of drug indices for a given drug\n",
    "\n",
    "    Parameters\n",
    "    ----------\n",
    "    i : Drug\n",
    "    \n",
    "    \"\"\"\n",
    "    \n",
    "    tmp = test[test[1] == i]\n",
    "    return [list(tmp.index), list(test[test[1] == i][1])[0]]"
   ]
  },
  {
   "cell_type": "code",
   "execution_count": 4,
   "id": "7c4034e3",
   "metadata": {
    "scrolled": true
   },
   "outputs": [
    {
     "name": "stderr",
     "output_type": "stream",
     "text": [
      "100%|██████████| 244/244 [00:00<00:00, 408.43it/s]\n"
     ]
    }
   ],
   "source": [
    "t = Parallel(n_jobs=-1)(delayed(get_list)(i) for i in tqdm(set(test[1])))\n",
    "t = pd.DataFrame(t)\n",
    "t.columns = [\"drug_index\", \"drug\"]"
   ]
  },
  {
   "cell_type": "code",
   "execution_count": 5,
   "id": "6bde7d97",
   "metadata": {},
   "outputs": [],
   "source": [
    "def get_corr(X, y):\n",
    "    \"\"\"\n",
    "    Get correlation score between final prediction and prediction from each hidden feature\n",
    "\n",
    "    Parameters\n",
    "    ----------\n",
    "\n",
    "    X : Hidden feature\n",
    "    y : Final prediction\n",
    "\n",
    "    \"\"\"\n",
    "\n",
    "    regr = Ridge()\n",
    "    regr.fit(X, y)\n",
    "    y_pred = regr.predict(X)\n",
    "    p_rho, _ = stats.spearmanr(y_pred, y)\n",
    "        \n",
    "    return p_rho"
   ]
  },
  {
   "cell_type": "code",
   "execution_count": 6,
   "id": "9700824a",
   "metadata": {},
   "outputs": [],
   "source": [
    "def collect_corr(term, t):\n",
    "    \"\"\"\n",
    "    Collect correlation score for each drug\n",
    "\n",
    "    term : GO term\n",
    "    t : List of drug indices and drug name\n",
    "\n",
    "    \"\"\"\n",
    "\n",
    "    hidden = pd.read_csv(\n",
    "        \"../DrugCell/code/Hidden/\" + term, header=None, sep=\" \"\n",
    "    )\n",
    "    corr = []\n",
    "\n",
    "    for i in list(t[\"drug_index\"]):\n",
    "        y = pred[i]\n",
    "        X = hidden.loc[i]\n",
    "        corr.append(get_corr(X, y))\n",
    "\n",
    "    return corr"
   ]
  },
  {
   "cell_type": "code",
   "execution_count": 7,
   "id": "b7f8d8ae",
   "metadata": {
    "scrolled": true
   },
   "outputs": [
    {
     "name": "stderr",
     "output_type": "stream",
     "text": [
      "100%|██████████| 2086/2086 [01:34<00:00, 22.17it/s]\n"
     ]
    }
   ],
   "source": [
    "GO = (\n",
    "    pd.read_csv(\"../DrugCell/data_rcellminer/go.txt\", header=None, sep=\"\\t\")[0]\n",
    "    .unique()\n",
    "    .tolist()\n",
    ")\n",
    "\n",
    "p = Parallel(n_jobs=-1)(delayed(collect_corr)(i + \".hidden\", t) for i in tqdm(GO))\n",
    "importance = pd.DataFrame(p, columns=list(t[\"drug\"]), index=GO)"
   ]
  },
  {
   "cell_type": "code",
   "execution_count": 8,
   "id": "7e8c69b1",
   "metadata": {
    "scrolled": true
   },
   "outputs": [],
   "source": [
    "pubchem_id =  pd.read_csv('../data/nsc_cid_smiles.csv')\n",
    "pubchem_id = {pubchem_id['SMILES'][i]:pubchem_id['CID'][i] for i in pubchem_id.index}"
   ]
  },
  {
   "cell_type": "code",
   "execution_count": 9,
   "id": "bd04b4ef",
   "metadata": {},
   "outputs": [],
   "source": [
    "# importance.columns = [pubchem_id[i] for i in importance.columns]\n",
    "importance = importance.T.sort_index().T\n",
    "importance = importance.fillna(0)\n",
    "importance.to_csv('../DrugCell/data_rcellminer/corr_score.csv')"
   ]
  },
  {
   "cell_type": "code",
   "execution_count": null,
   "id": "01ed3ffb",
   "metadata": {},
   "outputs": [],
   "source": []
  }
 ],
 "metadata": {
  "kernelspec": {
   "display_name": "gpu3",
   "language": "python",
   "name": "gpu3"
  },
  "language_info": {
   "codemirror_mode": {
    "name": "ipython",
    "version": 3
   },
   "file_extension": ".py",
   "mimetype": "text/x-python",
   "name": "python",
   "nbconvert_exporter": "python",
   "pygments_lexer": "ipython3",
   "version": "3.8.13"
  }
 },
 "nbformat": 4,
 "nbformat_minor": 5
}
