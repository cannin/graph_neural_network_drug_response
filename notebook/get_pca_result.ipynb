{
 "cells": [
  {
   "cell_type": "code",
   "execution_count": 1,
   "metadata": {},
   "outputs": [],
   "source": [
    "import sys\n",
    "from os import listdir\n",
    "from os.path import exists\n",
    "\n",
    "import matplotlib.pyplot as plt\n",
    "import numpy as np\n",
    "import pandas as pd\n",
    "from sklearn.decomposition import PCA\n",
    "from tqdm import tqdm"
   ]
  },
  {
   "cell_type": "code",
   "execution_count": 2,
   "metadata": {},
   "outputs": [],
   "source": [
    "def get_pca_result(test_data_path, hidden_data_path):\n",
    "    \"\"\"\n",
    "    Extracts pca result from all hidden data\n",
    "\n",
    "    :param test_data_path: PATH to test data\n",
    "    :param hidden_data_path: PATH to hidden data\n",
    "\n",
    "    return pca result\n",
    "    \"\"\"\n",
    "\n",
    "    p = pd.read_csv(test_data_path, header=None, sep=\"\\t\")\n",
    "\n",
    "    hidden = listdir(hidden_data_path)\n",
    "    hidden = [i for i in hidden if \"GO\" in i]\n",
    "\n",
    "    X = pd.DataFrame()\n",
    "    for i in tqdm(hidden):\n",
    "        X = pd.concat(\n",
    "            [X, pd.read_table(hidden_data_path + i, sep=\" \", header=None)],\n",
    "            axis=1,\n",
    "        )\n",
    "\n",
    "    X.columns = list(range(X.shape[1]))\n",
    "    X_pca = PCA(n_components=2).fit_transform(X)\n",
    "\n",
    "    f, ax = plt.subplots()\n",
    "    points = ax.scatter(X_pca[:, 0], X_pca[:, 1], c=p[2], cmap=\"coolwarm\")\n",
    "\n",
    "    ax.set_xlabel(\"PC1\", fontsize=15)\n",
    "    ax.set_ylabel(\"PC2\", fontsize=15)\n",
    "\n",
    "    f.colorbar(points)\n",
    "\n",
    "    plt.show()\n",
    "    plt.savefig(\"pca_result.png\")"
   ]
  },
  {
   "cell_type": "code",
   "execution_count": 3,
   "metadata": {},
   "outputs": [
    {
     "name": "stderr",
     "output_type": "stream",
     "text": [
      "100%|██████████| 2088/2088 [03:23<00:00, 10.28it/s]\n"
     ]
    },
    {
     "data": {
      "image/png": "[encoded data removed]",
      "text/plain": [
       "<Figure size 432x288 with 2 Axes>"
      ]
     },
     "metadata": {
      "needs_background": "light"
     },
     "output_type": "display_data"
    },
    {
     "data": {
      "text/plain": [
       "<Figure size 432x288 with 0 Axes>"
      ]
     },
     "metadata": {},
     "output_type": "display_data"
    }
   ],
   "source": [
    "get_pca_result(\n",
    "    '../DrugCell/data_rcellminer/test_rcell_wo_other.txt', \n",
    "    '../DrugCell/code/Hidden/'\n",
    ")"
   ]
  }
 ],
 "metadata": {
  "kernelspec": {
   "display_name": "gpu",
   "language": "python",
   "name": "gpu"
  },
  "language_info": {
   "codemirror_mode": {
    "name": "ipython",
    "version": 3
   },
   "file_extension": ".py",
   "mimetype": "text/x-python",
   "name": "python",
   "nbconvert_exporter": "python",
   "pygments_lexer": "ipython3",
   "version": "3.8.13"
  }
 },
 "nbformat": 4,
 "nbformat_minor": 5
}
