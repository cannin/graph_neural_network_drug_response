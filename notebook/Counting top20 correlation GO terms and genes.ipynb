{
 "cells": [
  {
   "cell_type": "code",
   "execution_count": 1,
   "id": "f706c27a",
   "metadata": {},
   "outputs": [],
   "source": [
    "import pandas as pd\n",
    "import matplotlib.pyplot as plt"
   ]
  },
  {
   "cell_type": "code",
   "execution_count": 2,
   "id": "e50662ab",
   "metadata": {},
   "outputs": [],
   "source": [
    "pubchem_id =  pd.read_csv('../data/nsc_cid_smiles.csv')\n",
    "translater = {pubchem_id['SMILES'][i]:pubchem_id['CID'][i] for i in pubchem_id.index}"
   ]
  },
  {
   "cell_type": "code",
   "execution_count": 3,
   "id": "6d17f6e5",
   "metadata": {},
   "outputs": [],
   "source": [
    "corr = pd.read_csv(\"../DrugCell/data_rcellminer/weight_corr.csv\", index_col=0)\n",
    "corr.columns = [translater[i] for i in corr.columns]"
   ]
  },
  {
   "cell_type": "code",
   "execution_count": 4,
   "id": "156a3dbd",
   "metadata": {},
   "outputs": [],
   "source": [
    "t = []\n",
    "for i in [list(corr[i].sort_values(ascending=False)[:20].index) for i in corr.columns]:\n",
    "    t.extend(i)"
   ]
  },
  {
   "cell_type": "code",
   "execution_count": 5,
   "id": "89c7c467",
   "metadata": {},
   "outputs": [],
   "source": [
    "res = pd.DataFrame([[i, t.count(i)] for i in set(t)]) \\\n",
    "    .sort_values(1, ascending=False) \\\n",
    "    .reset_index(drop=True)\n",
    "res.index = list(res[0])\n",
    "res = res.drop(0, axis=1)\n",
    "res.columns = ['counts']"
   ]
  },
  {
   "cell_type": "code",
   "execution_count": 6,
   "id": "1ed35869",
   "metadata": {},
   "outputs": [
    {
     "data": {
      "text/html": [
       "<div>\n",
       "<style scoped>\n",
       "    .dataframe tbody tr th:only-of-type {\n",
       "        vertical-align: middle;\n",
       "    }\n",
       "\n",
       "    .dataframe tbody tr th {\n",
       "        vertical-align: top;\n",
       "    }\n",
       "\n",
       "    .dataframe thead th {\n",
       "        text-align: right;\n",
       "    }\n",
       "</style>\n",
       "<table border=\"1\" class=\"dataframe\">\n",
       "  <thead>\n",
       "    <tr style=\"text-align: right;\">\n",
       "      <th></th>\n",
       "      <th>EML4</th>\n",
       "      <th>GO:0008150</th>\n",
       "      <th>UGT2B10</th>\n",
       "      <th>LGALS4</th>\n",
       "      <th>LAMB4</th>\n",
       "      <th>RBBP9</th>\n",
       "      <th>COL6A6</th>\n",
       "      <th>CPM</th>\n",
       "      <th>SIGLEC7</th>\n",
       "      <th>PTPRCAP</th>\n",
       "      <th>...</th>\n",
       "      <th>GO:0007628</th>\n",
       "      <th>GO:0071702</th>\n",
       "      <th>PCMT1</th>\n",
       "      <th>GO:0048864</th>\n",
       "      <th>SIK3</th>\n",
       "      <th>GO:0007338</th>\n",
       "      <th>GO:1904837</th>\n",
       "      <th>GO:0048706</th>\n",
       "      <th>GO:0030225</th>\n",
       "      <th>GO:0046854</th>\n",
       "    </tr>\n",
       "  </thead>\n",
       "  <tbody>\n",
       "    <tr>\n",
       "      <th>counts</th>\n",
       "      <td>167</td>\n",
       "      <td>167</td>\n",
       "      <td>71</td>\n",
       "      <td>64</td>\n",
       "      <td>62</td>\n",
       "      <td>61</td>\n",
       "      <td>61</td>\n",
       "      <td>60</td>\n",
       "      <td>58</td>\n",
       "      <td>54</td>\n",
       "      <td>...</td>\n",
       "      <td>1</td>\n",
       "      <td>1</td>\n",
       "      <td>1</td>\n",
       "      <td>1</td>\n",
       "      <td>1</td>\n",
       "      <td>1</td>\n",
       "      <td>1</td>\n",
       "      <td>1</td>\n",
       "      <td>1</td>\n",
       "      <td>1</td>\n",
       "    </tr>\n",
       "  </tbody>\n",
       "</table>\n",
       "<p>1 rows × 1130 columns</p>\n",
       "</div>"
      ],
      "text/plain": [
       "        EML4  GO:0008150  UGT2B10  LGALS4  LAMB4  RBBP9  COL6A6  CPM  SIGLEC7  \\\n",
       "counts   167         167       71      64     62     61      61   60       58   \n",
       "\n",
       "        PTPRCAP  ...  GO:0007628  GO:0071702  PCMT1  GO:0048864  SIK3  \\\n",
       "counts       54  ...           1           1      1           1     1   \n",
       "\n",
       "        GO:0007338  GO:1904837  GO:0048706  GO:0030225  GO:0046854  \n",
       "counts           1           1           1           1           1  \n",
       "\n",
       "[1 rows x 1130 columns]"
      ]
     },
     "execution_count": 6,
     "metadata": {},
     "output_type": "execute_result"
    }
   ],
   "source": [
    "res.T"
   ]
  },
  {
   "cell_type": "code",
   "execution_count": 7,
   "id": "c8e4de18",
   "metadata": {},
   "outputs": [
    {
     "data": {
      "text/plain": [
       "([0, 1, 2, 3, 4, 5, 6, 7, 8, 9, 10, 11, 12, 13, 14, 15, 16, 17, 18, 19],\n",
       " [Text(0, 0, ''),\n",
       "  Text(0, 0, ''),\n",
       "  Text(0, 0, ''),\n",
       "  Text(0, 0, ''),\n",
       "  Text(0, 0, ''),\n",
       "  Text(0, 0, ''),\n",
       "  Text(0, 0, ''),\n",
       "  Text(0, 0, ''),\n",
       "  Text(0, 0, ''),\n",
       "  Text(0, 0, ''),\n",
       "  Text(0, 0, ''),\n",
       "  Text(0, 0, ''),\n",
       "  Text(0, 0, ''),\n",
       "  Text(0, 0, ''),\n",
       "  Text(0, 0, ''),\n",
       "  Text(0, 0, ''),\n",
       "  Text(0, 0, ''),\n",
       "  Text(0, 0, ''),\n",
       "  Text(0, 0, ''),\n",
       "  Text(0, 0, '')])"
      ]
     },
     "execution_count": 7,
     "metadata": {},
     "output_type": "execute_result"
    },
    {
     "data": {
      "image/png": "[encoded data removed]",
      "text/plain": [
       "<Figure size 432x288 with 1 Axes>"
      ]
     },
     "metadata": {
      "needs_background": "light"
     },
     "output_type": "display_data"
    }
   ],
   "source": [
    "plt.bar(\n",
    "    res[:20].index,\n",
    "    res[:20]['counts']\n",
    ")\n",
    "plt.xticks(rotation=70)"
   ]
  },
  {
   "cell_type": "code",
   "execution_count": null,
   "id": "81e70765",
   "metadata": {},
   "outputs": [],
   "source": []
  }
 ],
 "metadata": {
  "kernelspec": {
   "display_name": "gpu1",
   "language": "python",
   "name": "gpu1"
  },
  "language_info": {
   "codemirror_mode": {
    "name": "ipython",
    "version": 3
   },
   "file_extension": ".py",
   "mimetype": "text/x-python",
   "name": "python",
   "nbconvert_exporter": "python",
   "pygments_lexer": "ipython3",
   "version": "3.8.10"
  }
 },
 "nbformat": 4,
 "nbformat_minor": 5
}
