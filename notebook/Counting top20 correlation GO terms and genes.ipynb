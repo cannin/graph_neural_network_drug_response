{
 "cells": [
  {
   "cell_type": "code",
   "execution_count": 1,
   "id": "f706c27a",
   "metadata": {},
   "outputs": [],
   "source": [
    "import pandas as pd\n",
    "import matplotlib.pyplot as plt"
   ]
  },
  {
   "cell_type": "code",
   "execution_count": 2,
   "id": "e50662ab",
   "metadata": {},
   "outputs": [],
   "source": [
    "pubchem_id =  pd.read_csv('../data/nsc_cid_smiles.csv')\n",
    "translater = {pubchem_id['SMILES'][i]:pubchem_id['CID'][i] for i in pubchem_id.index}"
   ]
  },
  {
   "cell_type": "markdown",
   "id": "e6e613b6",
   "metadata": {},
   "source": [
    "## Get correlation score"
   ]
  },
  {
   "cell_type": "code",
   "execution_count": 3,
   "id": "6d17f6e5",
   "metadata": {},
   "outputs": [],
   "source": [
    "corr = pd.read_csv(\"../DrugCell/data_rcellminer/weight_corr.csv\", index_col=0)\n",
    "corr.columns = [translater[i] for i in corr.columns]\n",
    "corr['type'] = ['GO' if 'GO:' in i else 'gene' for i in corr.index]"
   ]
  },
  {
   "cell_type": "markdown",
   "id": "40466c23",
   "metadata": {},
   "source": [
    "## Count the occurence of GO terms "
   ]
  },
  {
   "cell_type": "code",
   "execution_count": 4,
   "id": "090d59b3",
   "metadata": {
    "scrolled": true
   },
   "outputs": [],
   "source": [
    "df = corr[corr['type'] == 'GO'].drop('type', axis=1)"
   ]
  },
  {
   "cell_type": "code",
   "execution_count": 5,
   "id": "156a3dbd",
   "metadata": {},
   "outputs": [],
   "source": [
    "t = []\n",
    "for i in [list(df[i].sort_values(ascending=False)[:20].index) for i in df.columns]:\n",
    "    t.extend(i)"
   ]
  },
  {
   "cell_type": "code",
   "execution_count": 6,
   "id": "89c7c467",
   "metadata": {},
   "outputs": [],
   "source": [
    "res = pd.DataFrame([[i, t.count(i)] for i in set(t)]) \\\n",
    "    .sort_values(1, ascending=False) \\\n",
    "    .reset_index(drop=True)\n",
    "res.index = list(res[0])\n",
    "res = res.drop(0, axis=1)\n",
    "res.columns = ['counts']"
   ]
  },
  {
   "cell_type": "code",
   "execution_count": 7,
   "id": "1ed35869",
   "metadata": {},
   "outputs": [
    {
     "data": {
      "text/html": [
       "<div>\n",
       "<style scoped>\n",
       "    .dataframe tbody tr th:only-of-type {\n",
       "        vertical-align: middle;\n",
       "    }\n",
       "\n",
       "    .dataframe tbody tr th {\n",
       "        vertical-align: top;\n",
       "    }\n",
       "\n",
       "    .dataframe thead th {\n",
       "        text-align: right;\n",
       "    }\n",
       "</style>\n",
       "<table border=\"1\" class=\"dataframe\">\n",
       "  <thead>\n",
       "    <tr style=\"text-align: right;\">\n",
       "      <th></th>\n",
       "      <th>GO:0008150</th>\n",
       "      <th>GO:0048609</th>\n",
       "      <th>GO:0032103</th>\n",
       "      <th>GO:0007610</th>\n",
       "      <th>GO:0010467</th>\n",
       "      <th>GO:0032496</th>\n",
       "      <th>GO:0031329</th>\n",
       "      <th>GO:0043312</th>\n",
       "      <th>GO:0043065</th>\n",
       "      <th>GO:0007423</th>\n",
       "      <th>...</th>\n",
       "      <th>GO:0071634</th>\n",
       "      <th>GO:1904029</th>\n",
       "      <th>GO:1904064</th>\n",
       "      <th>GO:0003091</th>\n",
       "      <th>GO:0072215</th>\n",
       "      <th>GO:0018107</th>\n",
       "      <th>GO:0035162</th>\n",
       "      <th>GO:0032330</th>\n",
       "      <th>GO:0010880</th>\n",
       "      <th>GO:0051236</th>\n",
       "    </tr>\n",
       "  </thead>\n",
       "  <tbody>\n",
       "    <tr>\n",
       "      <th>counts</th>\n",
       "      <td>170</td>\n",
       "      <td>31</td>\n",
       "      <td>27</td>\n",
       "      <td>26</td>\n",
       "      <td>25</td>\n",
       "      <td>24</td>\n",
       "      <td>24</td>\n",
       "      <td>23</td>\n",
       "      <td>23</td>\n",
       "      <td>22</td>\n",
       "      <td>...</td>\n",
       "      <td>1</td>\n",
       "      <td>1</td>\n",
       "      <td>1</td>\n",
       "      <td>1</td>\n",
       "      <td>1</td>\n",
       "      <td>1</td>\n",
       "      <td>1</td>\n",
       "      <td>1</td>\n",
       "      <td>1</td>\n",
       "      <td>1</td>\n",
       "    </tr>\n",
       "  </tbody>\n",
       "</table>\n",
       "<p>1 rows × 1099 columns</p>\n",
       "</div>"
      ],
      "text/plain": [
       "        GO:0008150  GO:0048609  GO:0032103  GO:0007610  GO:0010467  \\\n",
       "counts         170          31          27          26          25   \n",
       "\n",
       "        GO:0032496  GO:0031329  GO:0043312  GO:0043065  GO:0007423  ...  \\\n",
       "counts          24          24          23          23          22  ...   \n",
       "\n",
       "        GO:0071634  GO:1904029  GO:1904064  GO:0003091  GO:0072215  \\\n",
       "counts           1           1           1           1           1   \n",
       "\n",
       "        GO:0018107  GO:0035162  GO:0032330  GO:0010880  GO:0051236  \n",
       "counts           1           1           1           1           1  \n",
       "\n",
       "[1 rows x 1099 columns]"
      ]
     },
     "execution_count": 7,
     "metadata": {},
     "output_type": "execute_result"
    }
   ],
   "source": [
    "res.T"
   ]
  },
  {
   "cell_type": "code",
   "execution_count": 8,
   "id": "c8e4de18",
   "metadata": {
    "scrolled": true
   },
   "outputs": [
    {
     "data": {
      "text/plain": [
       "([0, 1, 2, 3, 4, 5, 6, 7, 8, 9, 10, 11, 12, 13, 14, 15, 16, 17, 18, 19],\n",
       " [Text(0, 0, ''),\n",
       "  Text(0, 0, ''),\n",
       "  Text(0, 0, ''),\n",
       "  Text(0, 0, ''),\n",
       "  Text(0, 0, ''),\n",
       "  Text(0, 0, ''),\n",
       "  Text(0, 0, ''),\n",
       "  Text(0, 0, ''),\n",
       "  Text(0, 0, ''),\n",
       "  Text(0, 0, ''),\n",
       "  Text(0, 0, ''),\n",
       "  Text(0, 0, ''),\n",
       "  Text(0, 0, ''),\n",
       "  Text(0, 0, ''),\n",
       "  Text(0, 0, ''),\n",
       "  Text(0, 0, ''),\n",
       "  Text(0, 0, ''),\n",
       "  Text(0, 0, ''),\n",
       "  Text(0, 0, ''),\n",
       "  Text(0, 0, '')])"
      ]
     },
     "execution_count": 8,
     "metadata": {},
     "output_type": "execute_result"
    },
    {
     "data": {
      "image/png": "[encoded data removed]",
      "text/plain": [
       "<Figure size 432x288 with 1 Axes>"
      ]
     },
     "metadata": {
      "needs_background": "light"
     },
     "output_type": "display_data"
    }
   ],
   "source": [
    "plt.bar(\n",
    "    res[:20].index,\n",
    "    res[:20]['counts']\n",
    ")\n",
    "plt.xticks(rotation=70)"
   ]
  },
  {
   "cell_type": "code",
   "execution_count": null,
   "id": "d302cd5c",
   "metadata": {},
   "outputs": [],
   "source": []
  },
  {
   "cell_type": "markdown",
   "id": "a1254571",
   "metadata": {},
   "source": [
    "## Count the occurence of genes"
   ]
  },
  {
   "cell_type": "code",
   "execution_count": 9,
   "id": "6b0e4cda",
   "metadata": {
    "scrolled": true
   },
   "outputs": [],
   "source": [
    "df = corr[corr['type'] == 'gene'].drop('type', axis=1)"
   ]
  },
  {
   "cell_type": "code",
   "execution_count": 10,
   "id": "019be962",
   "metadata": {},
   "outputs": [],
   "source": [
    "t = []\n",
    "for i in [list(df[i].sort_values(ascending=False)[:20].index) for i in df.columns]:\n",
    "    t.extend(i)"
   ]
  },
  {
   "cell_type": "code",
   "execution_count": 11,
   "id": "adb7ba9e",
   "metadata": {},
   "outputs": [],
   "source": [
    "res = pd.DataFrame([[i, t.count(i)] for i in set(t)]) \\\n",
    "    .sort_values(1, ascending=False) \\\n",
    "    .reset_index(drop=True)\n",
    "res.index = list(res[0])\n",
    "res = res.drop(0, axis=1)\n",
    "res.columns = ['counts']"
   ]
  },
  {
   "cell_type": "code",
   "execution_count": 12,
   "id": "239827b7",
   "metadata": {},
   "outputs": [
    {
     "data": {
      "text/html": [
       "<div>\n",
       "<style scoped>\n",
       "    .dataframe tbody tr th:only-of-type {\n",
       "        vertical-align: middle;\n",
       "    }\n",
       "\n",
       "    .dataframe tbody tr th {\n",
       "        vertical-align: top;\n",
       "    }\n",
       "\n",
       "    .dataframe thead th {\n",
       "        text-align: right;\n",
       "    }\n",
       "</style>\n",
       "<table border=\"1\" class=\"dataframe\">\n",
       "  <thead>\n",
       "    <tr style=\"text-align: right;\">\n",
       "      <th></th>\n",
       "      <th>EML4</th>\n",
       "      <th>UGT2B10</th>\n",
       "      <th>PTPRCAP</th>\n",
       "      <th>LGALS4</th>\n",
       "      <th>LAMB4</th>\n",
       "      <th>COL6A6</th>\n",
       "      <th>SIGLEC7</th>\n",
       "      <th>CPM</th>\n",
       "      <th>RBBP9</th>\n",
       "      <th>CYP4X1</th>\n",
       "      <th>...</th>\n",
       "      <th>KIF7</th>\n",
       "      <th>P4HA1</th>\n",
       "      <th>KCNH3</th>\n",
       "      <th>SLC5A2</th>\n",
       "      <th>MAST2</th>\n",
       "      <th>ERAP2</th>\n",
       "      <th>CDK19</th>\n",
       "      <th>SLC29A1</th>\n",
       "      <th>BRD1</th>\n",
       "      <th>SSTR1</th>\n",
       "    </tr>\n",
       "  </thead>\n",
       "  <tbody>\n",
       "    <tr>\n",
       "      <th>counts</th>\n",
       "      <td>205</td>\n",
       "      <td>157</td>\n",
       "      <td>138</td>\n",
       "      <td>137</td>\n",
       "      <td>135</td>\n",
       "      <td>134</td>\n",
       "      <td>133</td>\n",
       "      <td>130</td>\n",
       "      <td>129</td>\n",
       "      <td>94</td>\n",
       "      <td>...</td>\n",
       "      <td>1</td>\n",
       "      <td>1</td>\n",
       "      <td>1</td>\n",
       "      <td>1</td>\n",
       "      <td>1</td>\n",
       "      <td>1</td>\n",
       "      <td>1</td>\n",
       "      <td>1</td>\n",
       "      <td>1</td>\n",
       "      <td>1</td>\n",
       "    </tr>\n",
       "  </tbody>\n",
       "</table>\n",
       "<p>1 rows × 323 columns</p>\n",
       "</div>"
      ],
      "text/plain": [
       "        EML4  UGT2B10  PTPRCAP  LGALS4  LAMB4  COL6A6  SIGLEC7  CPM  RBBP9  \\\n",
       "counts   205      157      138     137    135     134      133  130    129   \n",
       "\n",
       "        CYP4X1  ...  KIF7  P4HA1  KCNH3  SLC5A2  MAST2  ERAP2  CDK19  SLC29A1  \\\n",
       "counts      94  ...     1      1      1       1      1      1      1        1   \n",
       "\n",
       "        BRD1  SSTR1  \n",
       "counts     1      1  \n",
       "\n",
       "[1 rows x 323 columns]"
      ]
     },
     "execution_count": 12,
     "metadata": {},
     "output_type": "execute_result"
    }
   ],
   "source": [
    "res.T"
   ]
  },
  {
   "cell_type": "code",
   "execution_count": 13,
   "id": "bfc0bbdb",
   "metadata": {
    "scrolled": true
   },
   "outputs": [
    {
     "data": {
      "text/plain": [
       "([0, 1, 2, 3, 4, 5, 6, 7, 8, 9, 10, 11, 12, 13, 14, 15, 16, 17, 18, 19],\n",
       " [Text(0, 0, ''),\n",
       "  Text(0, 0, ''),\n",
       "  Text(0, 0, ''),\n",
       "  Text(0, 0, ''),\n",
       "  Text(0, 0, ''),\n",
       "  Text(0, 0, ''),\n",
       "  Text(0, 0, ''),\n",
       "  Text(0, 0, ''),\n",
       "  Text(0, 0, ''),\n",
       "  Text(0, 0, ''),\n",
       "  Text(0, 0, ''),\n",
       "  Text(0, 0, ''),\n",
       "  Text(0, 0, ''),\n",
       "  Text(0, 0, ''),\n",
       "  Text(0, 0, ''),\n",
       "  Text(0, 0, ''),\n",
       "  Text(0, 0, ''),\n",
       "  Text(0, 0, ''),\n",
       "  Text(0, 0, ''),\n",
       "  Text(0, 0, '')])"
      ]
     },
     "execution_count": 13,
     "metadata": {},
     "output_type": "execute_result"
    },
    {
     "data": {
      "image/png": "[encoded data removed]",
      "text/plain": [
       "<Figure size 432x288 with 1 Axes>"
      ]
     },
     "metadata": {
      "needs_background": "light"
     },
     "output_type": "display_data"
    }
   ],
   "source": [
    "plt.bar(\n",
    "    res[:20].index,\n",
    "    res[:20]['counts']\n",
    ")\n",
    "plt.xticks(rotation=70)"
   ]
  },
  {
   "cell_type": "code",
   "execution_count": null,
   "id": "307157da",
   "metadata": {},
   "outputs": [],
   "source": []
  }
 ],
 "metadata": {
  "kernelspec": {
   "display_name": "gpu1",
   "language": "python",
   "name": "gpu1"
  },
  "language_info": {
   "codemirror_mode": {
    "name": "ipython",
    "version": 3
   },
   "file_extension": ".py",
   "mimetype": "text/x-python",
   "name": "python",
   "nbconvert_exporter": "python",
   "pygments_lexer": "ipython3",
   "version": "3.8.10"
  }
 },
 "nbformat": 4,
 "nbformat_minor": 5
}
