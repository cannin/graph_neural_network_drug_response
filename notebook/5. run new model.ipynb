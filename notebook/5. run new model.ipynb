{
 "cells": [
  {
   "cell_type": "code",
   "execution_count": 1,
   "metadata": {
    "scrolled": true
   },
   "outputs": [],
   "source": [
    "import os\n",
    "import pandas as pd\n",
    "import numpy as np\n",
    "\n",
    "os.chdir('../DrugCell')"
   ]
  },
  {
   "cell_type": "markdown",
   "metadata": {},
   "source": [
    "# rcellminer data"
   ]
  },
  {
   "cell_type": "code",
   "execution_count": 2,
   "metadata": {
    "scrolled": true
   },
   "outputs": [
    {
     "name": "stdout",
     "output_type": "stream",
     "text": [
      "Total number of cell lines = 1225\n",
      "Total number of drugs = 684\n",
      "printing drug features\n",
      "[[0. 1. 1. ... 0. 0. 0.]\n",
      " [0. 0. 0. ... 0. 0. 0.]\n",
      " [0. 0. 0. ... 0. 0. 0.]\n",
      " ...\n",
      " [0. 0. 0. ... 0. 0. 0.]\n",
      " [0. 0. 0. ... 0. 0. 0.]\n",
      " [0. 0. 0. ... 0. 0. 0.]]\n",
      "Test pearson corr\tGO:0008150\t0.288012\n"
     ]
    }
   ],
   "source": [
    "!rm -rf Result_sample && mkdir Result_sample \n",
    "!rm -rf Hidden_sample/ && mkdir Hidden_sample\n",
    "\n",
    "!python code/predict_drugcell_cpu.py \\\n",
    "            -gene2id data/gene2ind.txt \\\n",
    "            -cell2id data/cell2ind.txt \\\n",
    "            -drug2id data/drug2ind.txt \\\n",
    "            -genotype data/cell2mutation.txt \\\n",
    "            -fingerprint data/drug2fingerprint.txt \\\n",
    "            -hidden Hidden_sample \\\n",
    "            -result Result_sample \\\n",
    "            -load pretrained_model/model_40.pt \\\n",
    "            -predict ../data/test.txt"
   ]
  },
  {
   "cell_type": "code",
   "execution_count": 3,
   "metadata": {},
   "outputs": [],
   "source": [
    "res = pd.read_csv(\n",
    "    'Result_sample/drugcell.predict', \n",
    "    header=None\n",
    ")\n",
    "\n",
    "test = pd.read_csv(\n",
    "    '../data/test.txt',\n",
    "    header=None,\n",
    "    sep='\\t'\n",
    ")[[2, 0, 1]]"
   ]
  },
  {
   "cell_type": "code",
   "execution_count": 4,
   "metadata": {},
   "outputs": [
    {
     "data": {
      "text/html": [
       "<div>\n",
       "<style scoped>\n",
       "    .dataframe tbody tr th:only-of-type {\n",
       "        vertical-align: middle;\n",
       "    }\n",
       "\n",
       "    .dataframe tbody tr th {\n",
       "        vertical-align: top;\n",
       "    }\n",
       "\n",
       "    .dataframe thead th {\n",
       "        text-align: right;\n",
       "    }\n",
       "</style>\n",
       "<table border=\"1\" class=\"dataframe\">\n",
       "  <thead>\n",
       "    <tr style=\"text-align: right;\">\n",
       "      <th></th>\n",
       "      <th>0</th>\n",
       "      <th>2</th>\n",
       "      <th>0</th>\n",
       "      <th>1</th>\n",
       "    </tr>\n",
       "  </thead>\n",
       "  <tbody>\n",
       "    <tr>\n",
       "      <th>0</th>\n",
       "      <td>0.095920</td>\n",
       "      <td>-0.250324</td>\n",
       "      <td>OVCAR8_OVARY</td>\n",
       "      <td>CNC(=O)C1=CC=CC=C1SC2=CC3=C(C=C2)C(=NN3)/C=C/C...</td>\n",
       "    </tr>\n",
       "    <tr>\n",
       "      <th>1</th>\n",
       "      <td>0.371440</td>\n",
       "      <td>0.328217</td>\n",
       "      <td>SKMEL5_SKIN</td>\n",
       "      <td>CC1=CC=C(C=C1)S(=O)(=O)OCC(=O)NC2=CC(=C(C=C2)C...</td>\n",
       "    </tr>\n",
       "    <tr>\n",
       "      <th>2</th>\n",
       "      <td>0.311890</td>\n",
       "      <td>0.492828</td>\n",
       "      <td>NCIH460_LUNG</td>\n",
       "      <td>CCCCC1=CC2=C(C=C1)N=C(N2)NC(=O)OC</td>\n",
       "    </tr>\n",
       "    <tr>\n",
       "      <th>3</th>\n",
       "      <td>-0.030919</td>\n",
       "      <td>0.646984</td>\n",
       "      <td>SF295_CENTRAL_NERVOUS_SYSTEM</td>\n",
       "      <td>CCCCC1=CC2=C(C=C1)N=C(N2)NC(=O)OC</td>\n",
       "    </tr>\n",
       "    <tr>\n",
       "      <th>4</th>\n",
       "      <td>0.313700</td>\n",
       "      <td>0.133631</td>\n",
       "      <td>HS578T_BREAST</td>\n",
       "      <td>C[C@H]1CCC[C@@]2([C@@H](O2)C[C@H](OC(=O)C[C@@H...</td>\n",
       "    </tr>\n",
       "    <tr>\n",
       "      <th>...</th>\n",
       "      <td>...</td>\n",
       "      <td>...</td>\n",
       "      <td>...</td>\n",
       "      <td>...</td>\n",
       "    </tr>\n",
       "    <tr>\n",
       "      <th>294</th>\n",
       "      <td>-0.448950</td>\n",
       "      <td>-0.253696</td>\n",
       "      <td>SKMEL2_SKIN</td>\n",
       "      <td>CCC(=O)OCN1C(=O)C=CC1=O</td>\n",
       "    </tr>\n",
       "    <tr>\n",
       "      <th>295</th>\n",
       "      <td>-0.412110</td>\n",
       "      <td>-0.350329</td>\n",
       "      <td>PC3_PROSTATE</td>\n",
       "      <td>CCN(CC)CCNC(=O)C1=C(NC(=C1C)/C=C\\2/C3=C(C=CC(=...</td>\n",
       "    </tr>\n",
       "    <tr>\n",
       "      <th>296</th>\n",
       "      <td>0.370890</td>\n",
       "      <td>0.460247</td>\n",
       "      <td>SW620_LARGE_INTESTINE</td>\n",
       "      <td>CC1=C2[C@H](C(=O)[C@@]3([C@H](C[C@@H]4[C@]([C@...</td>\n",
       "    </tr>\n",
       "    <tr>\n",
       "      <th>297</th>\n",
       "      <td>0.352110</td>\n",
       "      <td>0.308771</td>\n",
       "      <td>SR786_HAEMATOPOIETIC_AND_LYMPHOID_TISSUE</td>\n",
       "      <td>C1=CN(C(=O)N=C1N)[C@H]2C([C@@H]([C@H](O2)CO)O)...</td>\n",
       "    </tr>\n",
       "    <tr>\n",
       "      <th>298</th>\n",
       "      <td>0.391030</td>\n",
       "      <td>1.176457</td>\n",
       "      <td>CAKI1_KIDNEY</td>\n",
       "      <td>CS(=O)(=O)CCNCC1=CC=C(O1)C2=CC3=C(C=C2)N=CN=C3...</td>\n",
       "    </tr>\n",
       "  </tbody>\n",
       "</table>\n",
       "<p>299 rows × 4 columns</p>\n",
       "</div>"
      ],
      "text/plain": [
       "            0         2                                         0  \\\n",
       "0    0.095920 -0.250324                              OVCAR8_OVARY   \n",
       "1    0.371440  0.328217                               SKMEL5_SKIN   \n",
       "2    0.311890  0.492828                              NCIH460_LUNG   \n",
       "3   -0.030919  0.646984              SF295_CENTRAL_NERVOUS_SYSTEM   \n",
       "4    0.313700  0.133631                             HS578T_BREAST   \n",
       "..        ...       ...                                       ...   \n",
       "294 -0.448950 -0.253696                               SKMEL2_SKIN   \n",
       "295 -0.412110 -0.350329                              PC3_PROSTATE   \n",
       "296  0.370890  0.460247                     SW620_LARGE_INTESTINE   \n",
       "297  0.352110  0.308771  SR786_HAEMATOPOIETIC_AND_LYMPHOID_TISSUE   \n",
       "298  0.391030  1.176457                              CAKI1_KIDNEY   \n",
       "\n",
       "                                                     1  \n",
       "0    CNC(=O)C1=CC=CC=C1SC2=CC3=C(C=C2)C(=NN3)/C=C/C...  \n",
       "1    CC1=CC=C(C=C1)S(=O)(=O)OCC(=O)NC2=CC(=C(C=C2)C...  \n",
       "2                    CCCCC1=CC2=C(C=C1)N=C(N2)NC(=O)OC  \n",
       "3                    CCCCC1=CC2=C(C=C1)N=C(N2)NC(=O)OC  \n",
       "4    C[C@H]1CCC[C@@]2([C@@H](O2)C[C@H](OC(=O)C[C@@H...  \n",
       "..                                                 ...  \n",
       "294                            CCC(=O)OCN1C(=O)C=CC1=O  \n",
       "295  CCN(CC)CCNC(=O)C1=C(NC(=C1C)/C=C\\2/C3=C(C=CC(=...  \n",
       "296  CC1=C2[C@H](C(=O)[C@@]3([C@H](C[C@@H]4[C@]([C@...  \n",
       "297  C1=CN(C(=O)N=C1N)[C@H]2C([C@@H]([C@H](O2)CO)O)...  \n",
       "298  CS(=O)(=O)CCNCC1=CC=C(O1)C2=CC3=C(C=C2)N=CN=C3...  \n",
       "\n",
       "[299 rows x 4 columns]"
      ]
     },
     "execution_count": 4,
     "metadata": {},
     "output_type": "execute_result"
    }
   ],
   "source": [
    "pd.concat(\n",
    "    [res, test],\n",
    "    axis=1\n",
    ")"
   ]
  },
  {
   "cell_type": "code",
   "execution_count": null,
   "metadata": {},
   "outputs": [],
   "source": []
  }
 ],
 "metadata": {
  "kernelspec": {
   "display_name": "Python 3 (ipykernel)",
   "language": "python",
   "name": "python3"
  },
  "language_info": {
   "codemirror_mode": {
    "name": "ipython",
    "version": 3
   },
   "file_extension": ".py",
   "mimetype": "text/x-python",
   "name": "python",
   "nbconvert_exporter": "python",
   "pygments_lexer": "ipython3",
   "version": "3.9.13"
  }
 },
 "nbformat": 4,
 "nbformat_minor": 4
}
