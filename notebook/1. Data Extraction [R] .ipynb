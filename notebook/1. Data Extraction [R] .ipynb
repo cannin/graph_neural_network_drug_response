{
 "cells": [
  {
   "cell_type": "code",
   "execution_count": 1,
   "id": "a181107b",
   "metadata": {
    "scrolled": true
   },
   "outputs": [],
   "source": [
    "# if (!require(\"BiocManager\", quietly = TRUE))\n",
    "#     install.packages(\"BiocManager\")\n",
    "\n",
    "# BiocManager::install(\"rcellminer\")"
   ]
  },
  {
   "cell_type": "code",
   "execution_count": 2,
   "id": "51a260d9",
   "metadata": {
    "scrolled": true
   },
   "outputs": [
    {
     "name": "stderr",
     "output_type": "stream",
     "text": [
      "Loading required package: Biobase\n",
      "\n",
      "Loading required package: BiocGenerics\n",
      "\n",
      "\n",
      "Attaching package: ‘BiocGenerics’\n",
      "\n",
      "\n",
      "The following objects are masked from ‘package:stats’:\n",
      "\n",
      "    IQR, mad, sd, var, xtabs\n",
      "\n",
      "\n",
      "The following objects are masked from ‘package:base’:\n",
      "\n",
      "    anyDuplicated, append, as.data.frame, basename, cbind, colnames,\n",
      "    dirname, do.call, duplicated, eval, evalq, Filter, Find, get, grep,\n",
      "    grepl, intersect, is.unsorted, lapply, Map, mapply, match, mget,\n",
      "    order, paste, pmax, pmax.int, pmin, pmin.int, Position, rank,\n",
      "    rbind, Reduce, rownames, sapply, setdiff, sort, table, tapply,\n",
      "    union, unique, unsplit, which.max, which.min\n",
      "\n",
      "\n",
      "Welcome to Bioconductor\n",
      "\n",
      "    Vignettes contain introductory material; view with\n",
      "    'browseVignettes()'. To cite Bioconductor, see\n",
      "    'citation(\"Biobase\")', and for packages 'citation(\"pkgname\")'.\n",
      "\n",
      "\n",
      "Loading required package: rcellminerData\n",
      "\n",
      "Consider citing this package: Luna A, et al. rcellminer: exploring molecular profiles and drug response of the NCI-60 cell lines in R. PMID: 26635141; citation(\"rcellminer\")\n",
      "\n"
     ]
    }
   ],
   "source": [
    "library(rcellminer)\n",
    "library(rcellminerData)"
   ]
  },
  {
   "cell_type": "code",
   "execution_count": 3,
   "id": "aadcf8c8",
   "metadata": {
    "scrolled": true
   },
   "outputs": [
    {
     "data": {
      "text/html": [
       "<table class=\"dataframe\">\n",
       "<caption>A data.frame: 6 × 1</caption>\n",
       "<thead>\n",
       "\t<tr><th></th><th scope=col>PUBCHEM_ID</th></tr>\n",
       "\t<tr><th></th><th scope=col>&lt;int&gt;</th></tr>\n",
       "</thead>\n",
       "<tbody>\n",
       "\t<tr><th scope=row>1</th><td>      NA</td></tr>\n",
       "\t<tr><th scope=row>17</th><td>  219123</td></tr>\n",
       "\t<tr><th scope=row>89</th><td>      NA</td></tr>\n",
       "\t<tr><th scope=row>185</th><td>      NA</td></tr>\n",
       "\t<tr><th scope=row>295</th><td>    4775</td></tr>\n",
       "\t<tr><th scope=row>353</th><td>24180741</td></tr>\n",
       "</tbody>\n",
       "</table>\n"
      ],
      "text/latex": [
       "A data.frame: 6 × 1\n",
       "\\begin{tabular}{r|l}\n",
       "  & PUBCHEM\\_ID\\\\\n",
       "  & <int>\\\\\n",
       "\\hline\n",
       "\t1 &       NA\\\\\n",
       "\t17 &   219123\\\\\n",
       "\t89 &       NA\\\\\n",
       "\t185 &       NA\\\\\n",
       "\t295 &     4775\\\\\n",
       "\t353 & 24180741\\\\\n",
       "\\end{tabular}\n"
      ],
      "text/markdown": [
       "\n",
       "A data.frame: 6 × 1\n",
       "\n",
       "| <!--/--> | PUBCHEM_ID &lt;int&gt; |\n",
       "|---|---|\n",
       "| 1 |       NA |\n",
       "| 17 |   219123 |\n",
       "| 89 |       NA |\n",
       "| 185 |       NA |\n",
       "| 295 |     4775 |\n",
       "| 353 | 24180741 |\n",
       "\n"
      ],
      "text/plain": [
       "    PUBCHEM_ID\n",
       "1         NA  \n",
       "17    219123  \n",
       "89        NA  \n",
       "185       NA  \n",
       "295     4775  \n",
       "353 24180741  "
      ]
     },
     "metadata": {},
     "output_type": "display_data"
    }
   ],
   "source": [
    "drugAnnot <- getFeatureAnnot(rcellminerData::drugData)[[\"drug\"]]['PUBCHEM_ID']\n",
    "head(drugAnnot)"
   ]
  },
  {
   "cell_type": "code",
   "execution_count": 4,
   "id": "2c183a7d",
   "metadata": {},
   "outputs": [],
   "source": [
    "write.csv(\n",
    "    drugAnnot,\n",
    "    file = '../DrugCell/data/pubchem_id_by_nsc.csv',\n",
    ")"
   ]
  },
  {
   "cell_type": "code",
   "execution_count": 5,
   "id": "a975c10b",
   "metadata": {},
   "outputs": [
    {
     "data": {
      "text/html": [
       "<table class=\"dataframe\">\n",
       "<caption>A matrix: 6 × 60 of type dbl</caption>\n",
       "<thead>\n",
       "\t<tr><th></th><th scope=col>BR:MCF7</th><th scope=col>BR:MDA-MB-231</th><th scope=col>BR:HS 578T</th><th scope=col>BR:BT-549</th><th scope=col>BR:T-47D</th><th scope=col>CNS:SF-268</th><th scope=col>CNS:SF-295</th><th scope=col>CNS:SF-539</th><th scope=col>CNS:SNB-19</th><th scope=col>CNS:SNB-75</th><th scope=col>⋯</th><th scope=col>PR:PC-3</th><th scope=col>PR:DU-145</th><th scope=col>RE:786-0</th><th scope=col>RE:A498</th><th scope=col>RE:ACHN</th><th scope=col>RE:CAKI-1</th><th scope=col>RE:RXF 393</th><th scope=col>RE:SN12C</th><th scope=col>RE:TK-10</th><th scope=col>RE:UO-31</th></tr>\n",
       "</thead>\n",
       "<tbody>\n",
       "\t<tr><th scope=row>1</th><td>-0.2713143</td><td>-0.3035392</td><td>-0.8151834</td><td>-0.2314992</td><td> 1.9347313</td><td>-0.3575772</td><td>-0.7192533</td><td>-0.3807200</td><td>-1.2815887</td><td>-0.1759148</td><td>⋯</td><td>-0.4039826</td><td>-0.4348849</td><td>-0.51986662</td><td>-1.6480594</td><td> 1.6572727</td><td>-0.2697169</td><td> 0.002290204</td><td>-0.3906892</td><td>-0.3794197</td><td> 1.0595147</td></tr>\n",
       "\t<tr><th scope=row>17</th><td>-0.3541103</td><td>-0.3046752</td><td>-0.2220238</td><td> 1.4836125</td><td> 1.5093972</td><td> 0.3355719</td><td> 0.4249223</td><td> 1.1401663</td><td>-0.9418896</td><td> 0.3308078</td><td>⋯</td><td> 1.3025165</td><td>-0.9418896</td><td> 0.52119961</td><td>-0.3296393</td><td>-0.9418896</td><td> 0.7178514</td><td>-0.239017890</td><td>-0.3155332</td><td>-0.7615594</td><td> 1.1206727</td></tr>\n",
       "\t<tr><th scope=row>89</th><td>        NA</td><td>        NA</td><td>        NA</td><td>        NA</td><td>        NA</td><td>-0.1841944</td><td>-1.4299034</td><td>-0.1654331</td><td>-1.4299034</td><td>-0.2167230</td><td>⋯</td><td>        NA</td><td>        NA</td><td> 0.36843282</td><td>-0.6557073</td><td>-0.1440063</td><td> 0.7438885</td><td>-0.435619744</td><td>-0.1848050</td><td>-0.1019291</td><td>-0.1188068</td></tr>\n",
       "\t<tr><th scope=row>185</th><td>        NA</td><td>        NA</td><td>        NA</td><td>        NA</td><td>        NA</td><td> 0.5393427</td><td>        NA</td><td> 0.2304017</td><td>-0.7658293</td><td>-1.1252079</td><td>⋯</td><td>        NA</td><td>        NA</td><td>-0.06161227</td><td>        NA</td><td>        NA</td><td> 1.6753534</td><td> 0.918722379</td><td> 1.3916038</td><td>-0.9047243</td><td> 0.9185217</td></tr>\n",
       "\t<tr><th scope=row>295</th><td>-0.2645862</td><td>-0.2645862</td><td>-0.2645862</td><td>-0.2645862</td><td>-0.2645862</td><td>-0.2645862</td><td>-0.2645862</td><td>-0.2645862</td><td>-0.2645862</td><td>-0.2645862</td><td>⋯</td><td>-0.2645862</td><td>-0.2645862</td><td> 4.82265748</td><td>-0.2645862</td><td>-0.2645862</td><td>-0.2645862</td><td>-0.264586244</td><td>-0.2645862</td><td>-0.2645862</td><td>-0.2645862</td></tr>\n",
       "\t<tr><th scope=row>353</th><td> 0.7448378</td><td>        NA</td><td>-1.5173920</td><td>-1.4379656</td><td>        NA</td><td> 0.4646922</td><td>        NA</td><td>        NA</td><td> 0.4939022</td><td>        NA</td><td>⋯</td><td>        NA</td><td> 0.6131970</td><td> 0.64549416</td><td>-1.3457015</td><td>        NA</td><td>        NA</td><td> 0.707387463</td><td> 0.5064961</td><td>-1.4102216</td><td>-1.3882880</td></tr>\n",
       "</tbody>\n",
       "</table>\n"
      ],
      "text/latex": [
       "A matrix: 6 × 60 of type dbl\n",
       "\\begin{tabular}{r|lllllllllllllllllllll}\n",
       "  & BR:MCF7 & BR:MDA-MB-231 & BR:HS 578T & BR:BT-549 & BR:T-47D & CNS:SF-268 & CNS:SF-295 & CNS:SF-539 & CNS:SNB-19 & CNS:SNB-75 & ⋯ & PR:PC-3 & PR:DU-145 & RE:786-0 & RE:A498 & RE:ACHN & RE:CAKI-1 & RE:RXF 393 & RE:SN12C & RE:TK-10 & RE:UO-31\\\\\n",
       "\\hline\n",
       "\t1 & -0.2713143 & -0.3035392 & -0.8151834 & -0.2314992 &  1.9347313 & -0.3575772 & -0.7192533 & -0.3807200 & -1.2815887 & -0.1759148 & ⋯ & -0.4039826 & -0.4348849 & -0.51986662 & -1.6480594 &  1.6572727 & -0.2697169 &  0.002290204 & -0.3906892 & -0.3794197 &  1.0595147\\\\\n",
       "\t17 & -0.3541103 & -0.3046752 & -0.2220238 &  1.4836125 &  1.5093972 &  0.3355719 &  0.4249223 &  1.1401663 & -0.9418896 &  0.3308078 & ⋯ &  1.3025165 & -0.9418896 &  0.52119961 & -0.3296393 & -0.9418896 &  0.7178514 & -0.239017890 & -0.3155332 & -0.7615594 &  1.1206727\\\\\n",
       "\t89 &         NA &         NA &         NA &         NA &         NA & -0.1841944 & -1.4299034 & -0.1654331 & -1.4299034 & -0.2167230 & ⋯ &         NA &         NA &  0.36843282 & -0.6557073 & -0.1440063 &  0.7438885 & -0.435619744 & -0.1848050 & -0.1019291 & -0.1188068\\\\\n",
       "\t185 &         NA &         NA &         NA &         NA &         NA &  0.5393427 &         NA &  0.2304017 & -0.7658293 & -1.1252079 & ⋯ &         NA &         NA & -0.06161227 &         NA &         NA &  1.6753534 &  0.918722379 &  1.3916038 & -0.9047243 &  0.9185217\\\\\n",
       "\t295 & -0.2645862 & -0.2645862 & -0.2645862 & -0.2645862 & -0.2645862 & -0.2645862 & -0.2645862 & -0.2645862 & -0.2645862 & -0.2645862 & ⋯ & -0.2645862 & -0.2645862 &  4.82265748 & -0.2645862 & -0.2645862 & -0.2645862 & -0.264586244 & -0.2645862 & -0.2645862 & -0.2645862\\\\\n",
       "\t353 &  0.7448378 &         NA & -1.5173920 & -1.4379656 &         NA &  0.4646922 &         NA &         NA &  0.4939022 &         NA & ⋯ &         NA &  0.6131970 &  0.64549416 & -1.3457015 &         NA &         NA &  0.707387463 &  0.5064961 & -1.4102216 & -1.3882880\\\\\n",
       "\\end{tabular}\n"
      ],
      "text/markdown": [
       "\n",
       "A matrix: 6 × 60 of type dbl\n",
       "\n",
       "| <!--/--> | BR:MCF7 | BR:MDA-MB-231 | BR:HS 578T | BR:BT-549 | BR:T-47D | CNS:SF-268 | CNS:SF-295 | CNS:SF-539 | CNS:SNB-19 | CNS:SNB-75 | ⋯ | PR:PC-3 | PR:DU-145 | RE:786-0 | RE:A498 | RE:ACHN | RE:CAKI-1 | RE:RXF 393 | RE:SN12C | RE:TK-10 | RE:UO-31 |\n",
       "|---|---|---|---|---|---|---|---|---|---|---|---|---|---|---|---|---|---|---|---|---|---|\n",
       "| 1 | -0.2713143 | -0.3035392 | -0.8151834 | -0.2314992 |  1.9347313 | -0.3575772 | -0.7192533 | -0.3807200 | -1.2815887 | -0.1759148 | ⋯ | -0.4039826 | -0.4348849 | -0.51986662 | -1.6480594 |  1.6572727 | -0.2697169 |  0.002290204 | -0.3906892 | -0.3794197 |  1.0595147 |\n",
       "| 17 | -0.3541103 | -0.3046752 | -0.2220238 |  1.4836125 |  1.5093972 |  0.3355719 |  0.4249223 |  1.1401663 | -0.9418896 |  0.3308078 | ⋯ |  1.3025165 | -0.9418896 |  0.52119961 | -0.3296393 | -0.9418896 |  0.7178514 | -0.239017890 | -0.3155332 | -0.7615594 |  1.1206727 |\n",
       "| 89 |         NA |         NA |         NA |         NA |         NA | -0.1841944 | -1.4299034 | -0.1654331 | -1.4299034 | -0.2167230 | ⋯ |         NA |         NA |  0.36843282 | -0.6557073 | -0.1440063 |  0.7438885 | -0.435619744 | -0.1848050 | -0.1019291 | -0.1188068 |\n",
       "| 185 |         NA |         NA |         NA |         NA |         NA |  0.5393427 |         NA |  0.2304017 | -0.7658293 | -1.1252079 | ⋯ |         NA |         NA | -0.06161227 |         NA |         NA |  1.6753534 |  0.918722379 |  1.3916038 | -0.9047243 |  0.9185217 |\n",
       "| 295 | -0.2645862 | -0.2645862 | -0.2645862 | -0.2645862 | -0.2645862 | -0.2645862 | -0.2645862 | -0.2645862 | -0.2645862 | -0.2645862 | ⋯ | -0.2645862 | -0.2645862 |  4.82265748 | -0.2645862 | -0.2645862 | -0.2645862 | -0.264586244 | -0.2645862 | -0.2645862 | -0.2645862 |\n",
       "| 353 |  0.7448378 |         NA | -1.5173920 | -1.4379656 |         NA |  0.4646922 |         NA |         NA |  0.4939022 |         NA | ⋯ |         NA |  0.6131970 |  0.64549416 | -1.3457015 |         NA |         NA |  0.707387463 |  0.5064961 | -1.4102216 | -1.3882880 |\n",
       "\n"
      ],
      "text/plain": [
       "    BR:MCF7    BR:MDA-MB-231 BR:HS 578T BR:BT-549  BR:T-47D   CNS:SF-268\n",
       "1   -0.2713143 -0.3035392    -0.8151834 -0.2314992  1.9347313 -0.3575772\n",
       "17  -0.3541103 -0.3046752    -0.2220238  1.4836125  1.5093972  0.3355719\n",
       "89          NA         NA            NA         NA         NA -0.1841944\n",
       "185         NA         NA            NA         NA         NA  0.5393427\n",
       "295 -0.2645862 -0.2645862    -0.2645862 -0.2645862 -0.2645862 -0.2645862\n",
       "353  0.7448378         NA    -1.5173920 -1.4379656         NA  0.4646922\n",
       "    CNS:SF-295 CNS:SF-539 CNS:SNB-19 CNS:SNB-75 ⋯ PR:PC-3    PR:DU-145 \n",
       "1   -0.7192533 -0.3807200 -1.2815887 -0.1759148 ⋯ -0.4039826 -0.4348849\n",
       "17   0.4249223  1.1401663 -0.9418896  0.3308078 ⋯  1.3025165 -0.9418896\n",
       "89  -1.4299034 -0.1654331 -1.4299034 -0.2167230 ⋯         NA         NA\n",
       "185         NA  0.2304017 -0.7658293 -1.1252079 ⋯         NA         NA\n",
       "295 -0.2645862 -0.2645862 -0.2645862 -0.2645862 ⋯ -0.2645862 -0.2645862\n",
       "353         NA         NA  0.4939022         NA ⋯         NA  0.6131970\n",
       "    RE:786-0    RE:A498    RE:ACHN    RE:CAKI-1  RE:RXF 393   RE:SN12C  \n",
       "1   -0.51986662 -1.6480594  1.6572727 -0.2697169  0.002290204 -0.3906892\n",
       "17   0.52119961 -0.3296393 -0.9418896  0.7178514 -0.239017890 -0.3155332\n",
       "89   0.36843282 -0.6557073 -0.1440063  0.7438885 -0.435619744 -0.1848050\n",
       "185 -0.06161227         NA         NA  1.6753534  0.918722379  1.3916038\n",
       "295  4.82265748 -0.2645862 -0.2645862 -0.2645862 -0.264586244 -0.2645862\n",
       "353  0.64549416 -1.3457015         NA         NA  0.707387463  0.5064961\n",
       "    RE:TK-10   RE:UO-31  \n",
       "1   -0.3794197  1.0595147\n",
       "17  -0.7615594  1.1206727\n",
       "89  -0.1019291 -0.1188068\n",
       "185 -0.9047243  0.9185217\n",
       "295 -0.2645862 -0.2645862\n",
       "353 -1.4102216 -1.3882880"
      ]
     },
     "metadata": {},
     "output_type": "display_data"
    }
   ],
   "source": [
    "nci60Act <- exprs(getAct(drugData))\n",
    "head(nci60Act)"
   ]
  },
  {
   "cell_type": "code",
   "execution_count": 6,
   "id": "3efebb2b",
   "metadata": {},
   "outputs": [],
   "source": [
    "write.csv(\n",
    "    nci60Act,\n",
    "    file = '../DrugCell/data/nci60Act.csv',\n",
    ")"
   ]
  }
 ],
 "metadata": {
  "kernelspec": {
   "display_name": "R",
   "language": "R",
   "name": "ir"
  },
  "language_info": {
   "codemirror_mode": "r",
   "file_extension": ".r",
   "mimetype": "text/x-r-source",
   "name": "R",
   "pygments_lexer": "r",
   "version": "4.1.3"
  }
 },
 "nbformat": 4,
 "nbformat_minor": 5
}
