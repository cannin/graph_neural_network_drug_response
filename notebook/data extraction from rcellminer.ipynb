{
 "cells": [
  {
   "cell_type": "code",
   "execution_count": 1,
   "id": "164b5eeb",
   "metadata": {
    "scrolled": true
   },
   "outputs": [
    {
     "name": "stderr",
     "output_type": "stream",
     "text": [
      "Loading required package: Biobase\n",
      "\n",
      "Loading required package: BiocGenerics\n",
      "\n",
      "\n",
      "Attaching package: ‘BiocGenerics’\n",
      "\n",
      "\n",
      "The following objects are masked from ‘package:stats’:\n",
      "\n",
      "    IQR, mad, sd, var, xtabs\n",
      "\n",
      "\n",
      "The following objects are masked from ‘package:base’:\n",
      "\n",
      "    anyDuplicated, append, as.data.frame, basename, cbind, colnames,\n",
      "    dirname, do.call, duplicated, eval, evalq, Filter, Find, get, grep,\n",
      "    grepl, intersect, is.unsorted, lapply, Map, mapply, match, mget,\n",
      "    order, paste, pmax, pmax.int, pmin, pmin.int, Position, rank,\n",
      "    rbind, Reduce, rownames, sapply, setdiff, sort, table, tapply,\n",
      "    union, unique, unsplit, which.max, which.min\n",
      "\n",
      "\n",
      "Welcome to Bioconductor\n",
      "\n",
      "    Vignettes contain introductory material; view with\n",
      "    'browseVignettes()'. To cite Bioconductor, see\n",
      "    'citation(\"Biobase\")', and for packages 'citation(\"pkgname\")'.\n",
      "\n",
      "\n",
      "Loading required package: rcellminerData\n",
      "\n",
      "Consider citing this package: Luna A, et al. rcellminer: exploring molecular profiles and drug response of the NCI-60 cell lines in R. PMID: 26635141; citation(\"rcellminer\")\n",
      "\n"
     ]
    }
   ],
   "source": [
    "library(rcellminer)\n",
    "library(rcellminerData)"
   ]
  },
  {
   "cell_type": "code",
   "execution_count": 2,
   "id": "f62c9fde",
   "metadata": {},
   "outputs": [],
   "source": [
    "# Get PubChemID and Cell Line\n",
    "drugAnnot <- getFeatureAnnot(rcellminerData::drugData)[[\"drug\"]]['PUBCHEM_ID']\n",
    "drugAnnot <- na.omit(drugAnnot)\n",
    "write.csv(\n",
    "    drugAnnot,\n",
    "    file = '../data/nci60PubChemID.csv',\n",
    ")"
   ]
  },
  {
   "cell_type": "code",
   "execution_count": 3,
   "id": "b29a252f",
   "metadata": {},
   "outputs": [],
   "source": [
    "# Get the PubChemID\n",
    "write.table(\n",
    "    as.array(drugAnnot$PUBCHEM_ID),\n",
    "    file = '../data/PubChemID.csv',\n",
    "    col.names=FALSE,\n",
    "    row.names=FALSE,\n",
    ")"
   ]
  },
  {
   "cell_type": "code",
   "execution_count": 4,
   "id": "38b48f2c",
   "metadata": {},
   "outputs": [],
   "source": [
    "# Get Drug response between Cell Lines and PubChemID\n",
    "nci60Act <- exprs(getAct(drugData))\n",
    "write.csv(\n",
    "    nci60Act,\n",
    "    file = '../data/nci60Act.csv',\n",
    ")"
   ]
  }
 ],
 "metadata": {
  "kernelspec": {
   "display_name": "R",
   "language": "R",
   "name": "ir"
  },
  "language_info": {
   "codemirror_mode": "r",
   "file_extension": ".r",
   "mimetype": "text/x-r-source",
   "name": "R",
   "pygments_lexer": "r",
   "version": "4.1.3"
  }
 },
 "nbformat": 4,
 "nbformat_minor": 5
}
