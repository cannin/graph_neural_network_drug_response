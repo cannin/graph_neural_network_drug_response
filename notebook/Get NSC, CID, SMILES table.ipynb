{
 "cells": [
  {
   "cell_type": "code",
   "execution_count": 1,
   "id": "162338f3",
   "metadata": {},
   "outputs": [],
   "source": [
    "import pandas as pd\n",
    "import numpy as np\n",
    "import random as rd\n",
    "import requests as req\n",
    "\n",
    "from urllib.request import HTTPError\n",
    "from tqdm import tqdm\n",
    "from joblib import Parallel, delayed"
   ]
  },
  {
   "cell_type": "code",
   "execution_count": 2,
   "id": "9d511e2e",
   "metadata": {},
   "outputs": [],
   "source": [
    "NSC = list(pd.read_csv('../DrugCell/data_rcellminer/nci60Act.csv', index_col=0).index)\n",
    "nsc_cid = pd.read_csv('../data/NSC_to_CID.csv')"
   ]
  },
  {
   "cell_type": "code",
   "execution_count": 3,
   "id": "2f5b4166",
   "metadata": {
    "scrolled": true
   },
   "outputs": [],
   "source": [
    "def get_NSC_CID_table(nsc_list, nsc_cid_table):\n",
    "    \n",
    "    \"\"\"\n",
    "    Obtain the NSC and CID table using API\n",
    "\n",
    "    Parameters\n",
    "    ----------\n",
    "\n",
    "    nsc_list : list\n",
    "        List of NSC numbers\n",
    "    \n",
    "    nsc_cid_table : pd.DataFrame\n",
    "        NSC to CID table which you already have\n",
    "\n",
    "    returns\n",
    "    -------\n",
    "\n",
    "    df : pd.DataFrame\n",
    "\n",
    "    \"\"\"\n",
    "    \n",
    "    NSC = set(nsc_list) - set(list(nsc_cid_table['NSC']))\n",
    "    t = pd.DataFrame()\n",
    "    cid_503 = []\n",
    "    for i in tqdm(NSC):\n",
    "        link = \"https://pubchem.ncbi.nlm.nih.gov/rest/pug/substance/sourceid/DTP.NCI/\"\n",
    "        resp = req.get(link + str(i) + \"/cids/TXT\")\n",
    "        status_code = resp.status_code\n",
    "\n",
    "        if status_code == 200:\n",
    "            t = pd.concat([\n",
    "                t,\n",
    "                pd.DataFrame([i, resp.text.split('\\n')[0]]).T\n",
    "            ])\n",
    "        else:\n",
    "            if status_code == 503:\n",
    "                cid_503.append(i)\n",
    "                \n",
    "    for i in tqdm(cid_503):\n",
    "        link = \"https://pubchem.ncbi.nlm.nih.gov/rest/pug/substance/sourceid/DTP.NCI/\"\n",
    "        resp = req.get(link + str(i) + \"/cids/TXT\")\n",
    "        status_code = resp.status_code\n",
    "\n",
    "        if status_code == 200:\n",
    "            t = pd.concat([\n",
    "                t,\n",
    "                pd.DataFrame([i, resp.text.split('\\n')[0]]).T\n",
    "            ])\n",
    "        else:\n",
    "            if status_code == 503:\n",
    "                cid_503.append(i)\n",
    "                \n",
    "    return pd.concat([\n",
    "        nsc_cid_table,\n",
    "        t.rename(columns={0:'NSC', 1:'CID'})\n",
    "    ])"
   ]
  },
  {
   "cell_type": "code",
   "execution_count": 4,
   "id": "235d429b",
   "metadata": {
    "scrolled": true
   },
   "outputs": [
    {
     "name": "stderr",
     "output_type": "stream",
     "text": [
      "100%|██████████| 667/667 [02:29<00:00,  4.45it/s]\n",
      "0it [00:00, ?it/s]\n"
     ]
    }
   ],
   "source": [
    "df = get_NSC_CID_table(NSC, nsc_cid)\n",
    "df.to_csv('../data/NSC_to_CID.csv', index=0)"
   ]
  },
  {
   "cell_type": "code",
   "execution_count": 5,
   "id": "a65d0f5b",
   "metadata": {},
   "outputs": [],
   "source": [
    "def get_SMILES_from_pubchemID(pubchem_id):\n",
    "    \"\"\"\n",
    "    Get the SMILES from pubchem_id using PubChem API\n",
    "\n",
    "    Parameters\n",
    "    ----------\n",
    "\n",
    "    pubchem_id : pd.DataFrame\n",
    "\n",
    "    Returns\n",
    "    -------\n",
    "\n",
    "    df : pd.DataFrame\n",
    "\n",
    "    \"\"\"\n",
    "\n",
    "    df = pd.DataFrame()\n",
    "    for i in tqdm(\n",
    "        list(range(500, pubchem_id.shape[0], 500)) + [pubchem_id.shape[0]]\n",
    "    ):\n",
    "        cid = \"\"\n",
    "        for j in pubchem_id[\"CID\"][i - 500 : i]:\n",
    "            cid = str(j) + \",\" + cid\n",
    "\n",
    "        try:\n",
    "            df = pd.concat(\n",
    "                [\n",
    "                    pd.read_csv(\n",
    "                        \"https://pubchem.ncbi.nlm.nih.gov/rest/pug/compound/cid/\"\n",
    "                        + cid\n",
    "                        + \"/property/CanonicalSMILES/CSV\"\n",
    "                    ),\n",
    "                    df,\n",
    "                ]\n",
    "            )\n",
    "        except HTTPError as e:\n",
    "            for i in np.array_split(np.array(cid.split(\",\")), 2):\n",
    "                t = \"\"\n",
    "                for l in i:\n",
    "                    t += l + \",\"\n",
    "                try:\n",
    "                    df = pd.concat(\n",
    "                        [\n",
    "                            pd.read_csv(\n",
    "                                \"https://pubchem.ncbi.nlm.nih.gov/rest/pug/compound/cid/\"\n",
    "                                + t\n",
    "                                + \"/property/CanonicalSMILES/CSV\"\n",
    "                            ),\n",
    "                            df,\n",
    "                        ]\n",
    "                    )\n",
    "                except HTTPError as e:\n",
    "                    if e.code == 403:\n",
    "                        print(\"error\")\n",
    "\n",
    "    df = pubchem_id.merge(df, on=\"CID\")\n",
    "    df.columns = ['NSC', 'CID', 'SMILES']\n",
    "\n",
    "    return df"
   ]
  },
  {
   "cell_type": "code",
   "execution_count": null,
   "id": "da0d4e50",
   "metadata": {
    "scrolled": true
   },
   "outputs": [
    {
     "name": "stderr",
     "output_type": "stream",
     "text": [
      " 40%|████      | 19/47 [00:06<00:07,  3.82it/s]"
     ]
    }
   ],
   "source": [
    "df = get_SMILES_from_pubchemID(df)\n",
    "df.drop_duplicates('NSC').reset_index(drop=True).to_csv('../data/nsc_cid_smiles.csv', index=False)"
   ]
  }
 ],
 "metadata": {
  "kernelspec": {
   "display_name": "gpu3",
   "language": "python",
   "name": "gpu3"
  },
  "language_info": {
   "codemirror_mode": {
    "name": "ipython",
    "version": 3
   },
   "file_extension": ".py",
   "mimetype": "text/x-python",
   "name": "python",
   "nbconvert_exporter": "python",
   "pygments_lexer": "ipython3",
   "version": "3.8.13"
  }
 },
 "nbformat": 4,
 "nbformat_minor": 5
}
