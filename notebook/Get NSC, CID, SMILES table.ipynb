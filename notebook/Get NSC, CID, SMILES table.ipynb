{
 "cells": [
  {
   "cell_type": "code",
   "execution_count": 1,
   "id": "713a64f5",
   "metadata": {},
   "outputs": [],
   "source": [
    "import pandas as pd\n",
    "import numpy as np\n",
    "import random as rd\n",
    "\n",
    "from urllib.request import HTTPError\n",
    "from tqdm import tqdm\n",
    "from joblib import Parallel, delayed"
   ]
  },
  {
   "cell_type": "code",
   "execution_count": 2,
   "id": "8196bc8f",
   "metadata": {},
   "outputs": [],
   "source": [
    "# pd.DataFrame(['NSC ' + str(i) for i in list(nci60Act.index)]).to_csv(\n",
    "#     'test.csv', \n",
    "#     header=None,\n",
    "#     index=False\n",
    "# )"
   ]
  },
  {
   "cell_type": "code",
   "execution_count": 3,
   "id": "f51673ef",
   "metadata": {},
   "outputs": [],
   "source": [
    "nsc_to_cid = pd.read_csv(\n",
    "    'nsc_to_cid.txt',\n",
    "    sep='\\t',\n",
    "    header=None\n",
    ").dropna().reset_index(drop=True)\n",
    "nsc_to_cid[0] = [i.split(' ')[1] for i in nsc_to_cid[0]]"
   ]
  },
  {
   "cell_type": "code",
   "execution_count": 4,
   "id": "5a3d5970",
   "metadata": {},
   "outputs": [],
   "source": [
    "pubchem_id = pd.read_csv('../data/nci60PubChemID.csv', index_col=0)\n",
    "pubchem_id = pubchem_id.reset_index()\n",
    "pubchem_id.columns = nsc_to_cid.columns"
   ]
  },
  {
   "cell_type": "code",
   "execution_count": 5,
   "id": "0c9132aa",
   "metadata": {},
   "outputs": [],
   "source": [
    "t = pd.concat([pubchem_id, nsc_to_cid])\n",
    "t = t.astype(int)\n",
    "t = t.drop_duplicates()\n",
    "t = t.reset_index(drop=True)\n",
    "t.columns = ['NSC', 'CID']\n",
    "t.index = list(t.NSC)\n",
    "t = t.drop('NSC', axis=1)"
   ]
  },
  {
   "cell_type": "code",
   "execution_count": 6,
   "id": "562da591",
   "metadata": {},
   "outputs": [],
   "source": [
    "def get_SMILES_from_pubchemID(pubchem_id):\n",
    "    \"\"\"\n",
    "    Get the SMILES from pubchem_id using PubChem API\n",
    "\n",
    "    Parameters\n",
    "    ----------\n",
    "\n",
    "    pubchem_id : pd.DataFrame\n",
    "\n",
    "    Returns\n",
    "    -------\n",
    "\n",
    "    df : pd.DataFrame\n",
    "\n",
    "    \"\"\"\n",
    "\n",
    "    df = pd.DataFrame()\n",
    "    for i in tqdm(\n",
    "        list(range(500, pubchem_id.shape[0], 500)) + [pubchem_id.shape[0]]\n",
    "    ):\n",
    "        cid = \"\"\n",
    "        for j in pubchem_id[\"CID\"][i - 500 : i]:\n",
    "            cid = str(j) + \",\" + cid\n",
    "\n",
    "        try:\n",
    "            df = pd.concat(\n",
    "                [\n",
    "                    pd.read_csv(\n",
    "                        \"https://pubchem.ncbi.nlm.nih.gov/rest/pug/compound/cid/\"\n",
    "                        + cid\n",
    "                        + \"/property/CanonicalSMILES/CSV\"\n",
    "                    ),\n",
    "                    df,\n",
    "                ]\n",
    "            )\n",
    "        except HTTPError as e:\n",
    "            # if we got error, devided by more small number to get where we got the error.\n",
    "            # Not sure why I didn't get error again though...\n",
    "            for i in np.array_split(np.array(cid.split(\",\")), 2):\n",
    "                t = \"\"\n",
    "                for l in i:\n",
    "                    t += l + \",\"\n",
    "                try:\n",
    "                    df = pd.concat(\n",
    "                        [\n",
    "                            pd.read_csv(\n",
    "                                \"https://pubchem.ncbi.nlm.nih.gov/rest/pug/compound/cid/\"\n",
    "                                + t\n",
    "                                + \"/property/CanonicalSMILES/CSV\"\n",
    "                            ),\n",
    "                            df,\n",
    "                        ]\n",
    "                    )\n",
    "                except HTTPError as e:\n",
    "                    if e.code == 403:\n",
    "                        print(\"error\")\n",
    "    df = (\n",
    "        df.drop_duplicates(\"CanonicalSMILES\")\n",
    "        .sort_values(\"CID\")\n",
    "        .reset_index(drop=True)\n",
    "    )\n",
    "    df = pubchem_id.reset_index().merge(df, on=\"CID\")[\n",
    "        [\"index\", \"CanonicalSMILES\"]\n",
    "    ]\n",
    "    df.columns = [\"NSC\", \"SMILES\"]\n",
    "\n",
    "    return df"
   ]
  },
  {
   "cell_type": "code",
   "execution_count": 7,
   "id": "be54e01f",
   "metadata": {
    "scrolled": false
   },
   "outputs": [
    {
     "name": "stderr",
     "output_type": "stream",
     "text": [
      "100%|██████████| 36/36 [00:09<00:00,  3.97it/s]\n"
     ]
    }
   ],
   "source": [
    "df = get_SMILES_from_pubchemID(t)"
   ]
  },
  {
   "cell_type": "code",
   "execution_count": 8,
   "id": "f65db20b",
   "metadata": {},
   "outputs": [],
   "source": [
    "t = t.reset_index()\n",
    "t.columns = [\"NSC\", \"CID\"]"
   ]
  },
  {
   "cell_type": "code",
   "execution_count": 9,
   "id": "e447cc1c",
   "metadata": {
    "scrolled": true
   },
   "outputs": [],
   "source": [
    "df.merge(t, on='NSC').to_csv('../data/nsc_cid_smiles.csv', index=False)"
   ]
  }
 ],
 "metadata": {
  "kernelspec": {
   "display_name": "gpu3",
   "language": "python",
   "name": "gpu3"
  },
  "language_info": {
   "codemirror_mode": {
    "name": "ipython",
    "version": 3
   },
   "file_extension": ".py",
   "mimetype": "text/x-python",
   "name": "python",
   "nbconvert_exporter": "python",
   "pygments_lexer": "ipython3",
   "version": "3.8.13"
  }
 },
 "nbformat": 4,
 "nbformat_minor": 5
}
